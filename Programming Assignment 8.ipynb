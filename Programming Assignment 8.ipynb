{
 "cells": [
  {
   "cell_type": "markdown",
   "id": "1501a33b",
   "metadata": {},
   "source": [
    "## Python Programming Assignment 8\n",
    "\n",
    "### - by Akash Nandi"
   ]
  },
  {
   "cell_type": "markdown",
   "id": "c7b741ee",
   "metadata": {},
   "source": [
    "#### 1. Write a Python Program to Add Two Matrices.\n",
    "\n",
    "#### Solution :-"
   ]
  },
  {
   "cell_type": "code",
   "execution_count": 1,
   "id": "c484685c",
   "metadata": {},
   "outputs": [
    {
     "name": "stdout",
     "output_type": "stream",
     "text": [
      "[11, 22, 33]\n",
      "[46, 57, 68]\n",
      "[81, 92, 103]\n"
     ]
    }
   ],
   "source": [
    "X = [[1,2,3],\n",
    "     [6,7,8],\n",
    "     [11,12,13]]\n",
    "\n",
    "Y = [[10,20,30],\n",
    "     [40,50,60],\n",
    "     [70,80,90]]\n",
    "\n",
    "res = [[0,0,0],\n",
    "       [0,0,0],\n",
    "       [0,0,0]]\n",
    "\n",
    "for i in range(len(X)):\n",
    "    for j in range(len(X[0])):\n",
    "        res [i][j] = X[i][j] + Y[i][j]\n",
    "        \n",
    "for i in res:\n",
    "    print(i)"
   ]
  },
  {
   "cell_type": "markdown",
   "id": "776405a5",
   "metadata": {},
   "source": [
    "#### 2. Write a Python Program to Multiply Two Matrices.\n",
    "\n",
    "#### Solution :-"
   ]
  },
  {
   "cell_type": "code",
   "execution_count": 40,
   "id": "d2973e36",
   "metadata": {},
   "outputs": [
    {
     "name": "stdout",
     "output_type": "stream",
     "text": [
      "[300, 360, 420]\n",
      "[900, 1110, 1320]\n",
      "[1500, 1860, 2220]\n"
     ]
    }
   ],
   "source": [
    "X = [[1,2,3],\n",
    "     [6,7,8],\n",
    "     [11,12,13]]\n",
    "\n",
    "Y = [[10,20,30],\n",
    "     [40,50,60],\n",
    "     [70,80,90]]\n",
    "\n",
    "res = [[0,0,0],\n",
    "       [0,0,0],\n",
    "       [0,0,0]]\n",
    "\n",
    "for i in range(len(X)):\n",
    "    for j in range(len(Y[0])):\n",
    "        for k in range(len(Y)):\n",
    "            res[i][j] += X[i][k] * Y[k][j]\n",
    "\n",
    "for r in res:\n",
    "    print(r)"
   ]
  },
  {
   "cell_type": "markdown",
   "id": "45286ba4",
   "metadata": {},
   "source": [
    "#### 3. Write a Python Program to Transpose a Matrix.\n",
    "\n",
    "#### Solution :-"
   ]
  },
  {
   "cell_type": "code",
   "execution_count": 13,
   "id": "6402182c",
   "metadata": {},
   "outputs": [
    {
     "name": "stdout",
     "output_type": "stream",
     "text": [
      "Original Matrix is: \n",
      "10   12   23   34   \n",
      "20   32   24   27   \n",
      "30   36   39   33   \n",
      "40   45   46   49   \n",
      "\n",
      "\n",
      "Transpose Matrix is: \n",
      "10   20   30   40   \n",
      "20   32   36   45   \n",
      "30   36   39   46   \n",
      "40   45   46   49   \n"
     ]
    }
   ],
   "source": [
    "def transpose(A,B,N):\n",
    "    for i in range(N):\n",
    "        for j in range(N):\n",
    "            B[i][j] = A[j][i]\n",
    "\n",
    "\n",
    "\n",
    "\n",
    "A = [[10, 12, 23, 34],\n",
    "     [20, 32, 24, 27],\n",
    "     [30, 36, 39, 33],\n",
    "     [40, 45, 46, 49]]\n",
    "\n",
    "N = len(A)\n",
    "\n",
    "B = A[:][:] \n",
    " \n",
    "\n",
    "\n",
    "print(\"Original Matrix is: \")\n",
    "for i in range(N):\n",
    "    for j in range(N):\n",
    "        print(A[i][j], \" \", end=\" \")\n",
    "    print()\n",
    "\n",
    "print(\"\\n\")    \n",
    "\n",
    "transpose(A,B,N)\n",
    "\n",
    "print(\"Transpose Matrix is: \")\n",
    "for i in range(N):\n",
    "    for j in range(N):\n",
    "        print(B[i][j], \" \", end=\" \")\n",
    "    print()"
   ]
  },
  {
   "cell_type": "markdown",
   "id": "68bebe03",
   "metadata": {},
   "source": [
    "#### 4. Write a Python Program to Sort Words in Alphabetic Order.\n",
    "\n",
    "#### Solution :-"
   ]
  },
  {
   "cell_type": "code",
   "execution_count": 25,
   "id": "0daa460f",
   "metadata": {},
   "outputs": [
    {
     "name": "stdout",
     "output_type": "stream",
     "text": [
      "Enter the total number of words required: 3\n",
      "Enter a word: Guava\n",
      "Enter a word: Pineapple\n",
      "Enter a word: Apple\n",
      "The sorted order of the words typed = Apple Guava Pineapple\n"
     ]
    }
   ],
   "source": [
    "num_words = int(input(\"Enter the total number of words required: \"))\n",
    "\n",
    "lst = []\n",
    "\n",
    "for i in range(num_words):\n",
    "    word = input(\"Enter a word: \")\n",
    "    lst.append(word)\n",
    "\n",
    "print(\"The sorted order of the words typed =\",' '.join(sorted(lst)))"
   ]
  },
  {
   "cell_type": "markdown",
   "id": "2f5ec4af",
   "metadata": {},
   "source": [
    "#### 5. Write a Python Program to Remove Punctuation From a String.\n",
    "\n",
    "#### Solution :-"
   ]
  },
  {
   "cell_type": "code",
   "execution_count": 39,
   "id": "5318790f",
   "metadata": {},
   "outputs": [
    {
     "name": "stdout",
     "output_type": "stream",
     "text": [
      "Enter a String: Mr. Patil. Shah\n",
      "Mr Patil Shah\n"
     ]
    }
   ],
   "source": [
    "st = input(\"Enter a String: \")\n",
    "\n",
    "s = st.replace(\".\",\"\")\n",
    "    \n",
    "print(s)"
   ]
  }
 ],
 "metadata": {
  "kernelspec": {
   "display_name": "Python 3 (ipykernel)",
   "language": "python",
   "name": "python3"
  },
  "language_info": {
   "codemirror_mode": {
    "name": "ipython",
    "version": 3
   },
   "file_extension": ".py",
   "mimetype": "text/x-python",
   "name": "python",
   "nbconvert_exporter": "python",
   "pygments_lexer": "ipython3",
   "version": "3.9.7"
  }
 },
 "nbformat": 4,
 "nbformat_minor": 5
}
