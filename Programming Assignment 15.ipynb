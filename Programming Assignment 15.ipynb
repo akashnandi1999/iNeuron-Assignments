{
 "cells": [
  {
   "cell_type": "markdown",
   "id": "7c356d75",
   "metadata": {},
   "source": [
    "## Programming Assignment - 15\n",
    "\n",
    "### - by Akash Nandi"
   ]
  },
  {
   "cell_type": "markdown",
   "id": "9d89ea13",
   "metadata": {},
   "source": [
    "### 1. Please write a program using generator to print the numbers which can be divisible by 5 and 7 between 0 and n in comma separated form while n is input by console.\n",
    "\n",
    "#### Solution :-"
   ]
  },
  {
   "cell_type": "code",
   "execution_count": 3,
   "id": "afdc3c96",
   "metadata": {},
   "outputs": [
    {
     "name": "stdout",
     "output_type": "stream",
     "text": [
      "Enter the value of 'n': 100\n",
      "The numbers divisible by 5 and 7 between 0 to 100 are: 0, 35, 70\n"
     ]
    }
   ],
   "source": [
    "def div(n):                              # Generator Function\n",
    "    try: \n",
    "        for i in range(0, n+1):\n",
    "            if i%5==0 and i%7==0:\n",
    "                yield i\n",
    "            else:\n",
    "                pass\n",
    "    except Exception as e:\n",
    "        print(\"Error Occured\")\n",
    "        print(e)\n",
    "\n",
    "n = int(input(\"Enter the value of 'n': \"))\n",
    "j = \"\"\n",
    "for i in div(n):\n",
    "    j= j+(str(i))+\", \"\n",
    "    \n",
    "print(f\"The numbers divisible by 5 and 7 between 0 to {n} are: {j[:-2]}\")"
   ]
  },
  {
   "cell_type": "markdown",
   "id": "af493045",
   "metadata": {},
   "source": [
    "### 2. Please write a program using generator to print the even numbers between 0 and n in comma separated form while n is input by console.\n",
    "\n",
    "#### Solution :-"
   ]
  },
  {
   "cell_type": "code",
   "execution_count": 4,
   "id": "0bbcab63",
   "metadata": {},
   "outputs": [
    {
     "name": "stdout",
     "output_type": "stream",
     "text": [
      "Enter the value of 'n': 10\n",
      "The even numbers between 0 to 10 are: 0, 2, 4, 6, 8, 10\n"
     ]
    }
   ],
   "source": [
    "def div(n):                              # Generator Function\n",
    "    try: \n",
    "        for i in range(0, n+1):\n",
    "            if i%2==0:\n",
    "                yield i\n",
    "            else:\n",
    "                pass\n",
    "    except Exception as e:\n",
    "        print(\"Error Occured\")\n",
    "        print(e)\n",
    "\n",
    "n = int(input(\"Enter the value of 'n': \"))\n",
    "j = \"\"\n",
    "for i in div(n):\n",
    "    j= j+(str(i))+\", \"\n",
    "    \n",
    "print(f\"The even numbers between 0 to {n} are: {j[:-2]}\")"
   ]
  },
  {
   "cell_type": "markdown",
   "id": "1f3a706a",
   "metadata": {},
   "source": [
    "### 3. Please write a program using list comprehension to print the Fibonacci Sequence in comma separated form with a given n input by console.\n",
    "\n",
    "#### Solution :-"
   ]
  },
  {
   "cell_type": "code",
   "execution_count": 5,
   "id": "11ae75ed",
   "metadata": {},
   "outputs": [
    {
     "name": "stdout",
     "output_type": "stream",
     "text": [
      "Enter the value of n: 7\n",
      "The fibonacci series is: 0, 1, 1, 2, 3, 5, 8, 13\n"
     ]
    }
   ],
   "source": [
    "def fibo(n):                       # Use of Generator\n",
    "    if n>0:\n",
    "        pre = 0\n",
    "        cur = 1\n",
    "        for i in range(n+1):\n",
    "            yield pre\n",
    "            pre, cur = cur, pre+cur\n",
    "    else:\n",
    "        raise Exception(\"Invalid Input. The value of n should be greater than 0.\")\n",
    "try:\n",
    "    n = int(input(\"Enter the value of n: \"))\n",
    "    lst = [x for x in fibo(n)]          # List Comprehension\n",
    "    s = \"\"\n",
    "    for i in lst:\n",
    "        s = s+(str(i))+\", \"\n",
    "\n",
    "    print(f\"The fibonacci series is: {s[:-2]}\")\n",
    "except Exception as e:\n",
    "    print(\"Error Occured...\")\n",
    "    print(e)"
   ]
  },
  {
   "cell_type": "markdown",
   "id": "a4e6c528",
   "metadata": {},
   "source": [
    "### Assuming that we have some email addresses in the &quot;username@companyname.com&quot; format, please write program to print the user name of a given email address. Both user names and company names are composed of letters only.\n",
    "\n",
    "#### Solution :-"
   ]
  },
  {
   "cell_type": "code",
   "execution_count": 6,
   "id": "d53dd783",
   "metadata": {},
   "outputs": [
    {
     "name": "stdout",
     "output_type": "stream",
     "text": [
      "Enter email address: akash@gmail.com\n",
      "The username of the email address akash@gmail.com is akash\n"
     ]
    }
   ],
   "source": [
    "def get_username(s):\n",
    "    s = s.split(\"@\")\n",
    "    return s[0]\n",
    "    \n",
    "while True:\n",
    "    s = input(\"Enter email address: \")\n",
    "    if \"@\" not in s:\n",
    "        print(\"Invalid input. Try again.....\")\n",
    "        continue\n",
    "    else:\n",
    "        break\n",
    "\n",
    "\n",
    "print(f\"The username of the email address {s} is {get_username(s)}\")"
   ]
  },
  {
   "cell_type": "markdown",
   "id": "996fd2fc",
   "metadata": {},
   "source": [
    "### 5. Define a class named Shape and its subclass Square. The Square class has an init function which takes a length as argument. Both classes have a area function which can print the area of the shape where Shape's area is 0 by default.\n",
    "\n",
    "#### Solution :-"
   ]
  },
  {
   "cell_type": "code",
   "execution_count": 7,
   "id": "f79cdc9c",
   "metadata": {
    "scrolled": true
   },
   "outputs": [
    {
     "name": "stdout",
     "output_type": "stream",
     "text": [
      "Enter the length of the square: 7\n"
     ]
    },
    {
     "data": {
      "text/plain": [
       "'The area of square of length 7 units is 49 unit square.'"
      ]
     },
     "execution_count": 7,
     "metadata": {},
     "output_type": "execute_result"
    }
   ],
   "source": [
    "class Shape:\n",
    "    area = 0\n",
    "    def __init__(self):\n",
    "        pass\n",
    "    def getarea(self):\n",
    "        return f\"The area is: {self.area} unit square.\"\n",
    "    \n",
    "class Square(Shape):\n",
    "    def __init__(self, l):\n",
    "        self.l = l\n",
    "    def getarea(self):\n",
    "        area = self.l**2\n",
    "        return f\"The area of square of length {self.l} units is {area} unit square.\"\n",
    "\n",
    "while True:\n",
    "    try:\n",
    "        l = int(input(\"Enter the length of the square: \"))\n",
    "        if l<0:\n",
    "            print(\"Invalid Input as the length should not be less than 0. So, Please try again.....\")\n",
    "            continue\n",
    "        else:\n",
    "            break\n",
    "    except Exception as e:\n",
    "        print(\"Error Occured for the given input......\")\n",
    "        print(e)\n",
    "        \n",
    "sh = Square(l)\n",
    "sh.getarea()"
   ]
  }
 ],
 "metadata": {
  "kernelspec": {
   "display_name": "Python 3 (ipykernel)",
   "language": "python",
   "name": "python3"
  },
  "language_info": {
   "codemirror_mode": {
    "name": "ipython",
    "version": 3
   },
   "file_extension": ".py",
   "mimetype": "text/x-python",
   "name": "python",
   "nbconvert_exporter": "python",
   "pygments_lexer": "ipython3",
   "version": "3.9.7"
  }
 },
 "nbformat": 4,
 "nbformat_minor": 5
}
