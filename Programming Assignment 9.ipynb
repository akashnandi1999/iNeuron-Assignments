{
 "cells": [
  {
   "cell_type": "markdown",
   "id": "e96e5de6",
   "metadata": {},
   "source": [
    "## Programming Assignment 9\n",
    "\n",
    "### - by Akash Nandi"
   ]
  },
  {
   "cell_type": "markdown",
   "id": "f1afeb29",
   "metadata": {},
   "source": [
    "### 1. Write a Python program to check if the given number is a Disarium Number.\n",
    "\n",
    "#### Solution :-"
   ]
  },
  {
   "cell_type": "code",
   "execution_count": 22,
   "id": "6594aad0",
   "metadata": {},
   "outputs": [
    {
     "name": "stdout",
     "output_type": "stream",
     "text": [
      "Enter a Number: 175\n"
     ]
    },
    {
     "data": {
      "text/plain": [
       "'175 is a Disarium Number'"
      ]
     },
     "execution_count": 22,
     "metadata": {},
     "output_type": "execute_result"
    }
   ],
   "source": [
    "def checkDisarium(num):\n",
    "    sum = 0\n",
    "    b = str(num)\n",
    "    while num>0:\n",
    "        rem = num%10\n",
    "        num = num//10\n",
    "        sum = sum+(rem**(b.index(str(rem))+1))\n",
    "    \n",
    "    return sum\n",
    "\n",
    "\n",
    "def isDisarium(num):\n",
    "    if checkDisarium(num) == num:\n",
    "        return(f\"{num} is a Disarium Number\")\n",
    "    else:\n",
    "        return(f\"{num} is not a Disarium Number\")\n",
    "\n",
    "    \n",
    "a = int(input(\"Enter a Number: \"))\n",
    "isDisarium(a)"
   ]
  },
  {
   "cell_type": "markdown",
   "id": "f9e3dcf4",
   "metadata": {},
   "source": [
    "### 2. Write a Python program to print all disarium numbers between 1 to 100.\n",
    "\n",
    "#### Solution :-"
   ]
  },
  {
   "cell_type": "code",
   "execution_count": 3,
   "id": "52340aba",
   "metadata": {},
   "outputs": [
    {
     "name": "stdout",
     "output_type": "stream",
     "text": [
      "Enter the Lower Bound: 1\n",
      "Enter the Upper Bound: 100\n",
      "\n",
      "\n",
      "Disqrium Numbers between 1 and 100 are: \n",
      "1 2 3 4 5 6 7 8 9 89 "
     ]
    }
   ],
   "source": [
    "def checkDisarium(num):\n",
    "    sum = 0\n",
    "    b = str(num)\n",
    "    while num>0:\n",
    "        rem = num%10\n",
    "        num = num//10\n",
    "        sum = sum+(rem**(b.index(str(rem))+1))\n",
    "    \n",
    "    return sum\n",
    "\n",
    "def listDisarium(lbound, ubound):\n",
    "    l = []\n",
    "    for i in range(lbound, ubound+1):\n",
    "        if checkDisarium(i) == i:\n",
    "            l.append(i)\n",
    "    return l\n",
    "\n",
    "\n",
    "lbound = int(input(\"Enter the Lower Bound: \"))\n",
    "ubound = int(input(\"Enter the Upper Bound: \"))\n",
    "print(\"\\n\")\n",
    "        \n",
    "print(f\"Disqrium Numbers between {lbound} and {ubound} are: \\r\")\n",
    "for i in listDisarium(lbound,ubound):\n",
    "    print(i, end=\" \")"
   ]
  },
  {
   "cell_type": "markdown",
   "id": "9afbbf1c",
   "metadata": {},
   "source": [
    "### 3. Write a Python program to check if the given number is Happy Number.\n",
    "\n",
    "#### Solution :-"
   ]
  },
  {
   "cell_type": "code",
   "execution_count": 8,
   "id": "0999e2b7",
   "metadata": {},
   "outputs": [
    {
     "name": "stdout",
     "output_type": "stream",
     "text": [
      "Enter a number: 932\n",
      "932 is a Happy Number\n"
     ]
    }
   ],
   "source": [
    "def happyNumber(n):    \n",
    "    r = s = 0;    \n",
    "    while(n > 0):    \n",
    "        r = n%10    \n",
    "        s += r**2  \n",
    "        n //= 10    \n",
    "    return s  \n",
    "        \n",
    "n = int(input(\"Enter a number: \"))    \n",
    "num = n   \n",
    "     \n",
    "while(num != 1 and num != 4):    \n",
    "    num = happyNumber(num)    \n",
    "     \n",
    "if(num == 1):    \n",
    "    print(n,\"is a Happy Number\")\n",
    "elif(num == 4):    \n",
    "    print(n,\"is not a Happy Number\")  \n",
    "        "
   ]
  },
  {
   "cell_type": "markdown",
   "id": "9b046734",
   "metadata": {},
   "source": [
    "### 4. Write a Python program to print all happy numbers between 1 and 100.\n",
    "\n",
    "#### Solution :-"
   ]
  },
  {
   "cell_type": "code",
   "execution_count": 13,
   "id": "299a13ab",
   "metadata": {},
   "outputs": [
    {
     "name": "stdout",
     "output_type": "stream",
     "text": [
      "Enter the Lower Bound: 1\n",
      "Enter the Upper Bound: 100\n",
      "\n",
      "\n",
      "Happy Numbers between 1 and 100 are: \n",
      "1 7 10 13 19 23 28 31 32 44 49 68 70 79 82 86 91 94 97 100 "
     ]
    }
   ],
   "source": [
    "def happyNumber(n):    \n",
    "    r = s = 0;    \n",
    "    while(n > 0):    \n",
    "        r = n%10    \n",
    "        s += r**2  \n",
    "        n //= 10    \n",
    "    return s  \n",
    "        \n",
    "def listHappy(lbound, ubound):\n",
    "    l = []\n",
    "    for i in range(lbound, ubound+1):\n",
    "        num = i\n",
    "        while(num != 1 and num != 4):    \n",
    "            num = happyNumber(num)\n",
    "        \n",
    "        if(num == 1):\n",
    "            l.append(i)\n",
    "        else:\n",
    "            pass\n",
    "    return l\n",
    "    \n",
    "lbound = int(input(\"Enter the Lower Bound: \"))\n",
    "ubound = int(input(\"Enter the Upper Bound: \"))        \n",
    "print(\"\\n\")\n",
    "\n",
    "print(f\"Happy Numbers between {lbound} and {ubound} are: \\r\")\n",
    "for i in listHappy(lbound, ubound):\n",
    "    print(i, end=\" \")\n",
    " "
   ]
  },
  {
   "cell_type": "markdown",
   "id": "66deba88",
   "metadata": {},
   "source": [
    "### 5. Write a Python program to determine whether the given number is a Harshad Number.\n",
    "\n",
    "#### Solution :-"
   ]
  },
  {
   "cell_type": "code",
   "execution_count": 16,
   "id": "57e68495",
   "metadata": {},
   "outputs": [
    {
     "name": "stdout",
     "output_type": "stream",
     "text": [
      "Enter a number: 153\n"
     ]
    },
    {
     "data": {
      "text/plain": [
       "'153 is a Harshad Number'"
      ]
     },
     "execution_count": 16,
     "metadata": {},
     "output_type": "execute_result"
    }
   ],
   "source": [
    "def calcHarshad(n):\n",
    "    num = n\n",
    "    s = 0\n",
    "    for i in num:\n",
    "        s = s+(int(i))\n",
    "    if int(num)%s == 0:\n",
    "        return f\"{n} is a Harshad Number\"\n",
    "    else:\n",
    "        return f\"{n} is not a Harshad Number\"\n",
    "\n",
    "n = input(\"Enter a number: \")\n",
    "calcHarshad(n)"
   ]
  },
  {
   "cell_type": "markdown",
   "id": "daa61630",
   "metadata": {},
   "source": [
    "### 6. Write a Python program to print all pronic numbers between 1 and 100.\n",
    "\n",
    "#### Solution :-"
   ]
  },
  {
   "cell_type": "code",
   "execution_count": 24,
   "id": "53738b4b",
   "metadata": {},
   "outputs": [
    {
     "name": "stdout",
     "output_type": "stream",
     "text": [
      "Enter the Lower Bound: 1\n",
      "Enter the Upper Bound: 100\n",
      "\n",
      "Below are the Pronic Numbers between 1 to 100 \n",
      "2 6 12 20 30 42 56 72 90 "
     ]
    }
   ],
   "source": [
    "def pronicNumber(n):\n",
    "    for i in range(1,n+1):\n",
    "        if i*(i+1) == n:\n",
    "            return True\n",
    "    else:\n",
    "        return False\n",
    "        \n",
    "lbound = int(input(\"Enter the Lower Bound: \"))\n",
    "ubound = int(input(\"Enter the Upper Bound: \"))\n",
    "\n",
    "l = []\n",
    "\n",
    "print(f\"\\nBelow are the Pronic Numbers between {lbound} to {ubound} \\r\")\n",
    "for n in range(lbound, ubound+1):\n",
    "    if pronicNumber(n):\n",
    "        print(n, end=\" \")\n",
    "    else:\n",
    "        pass"
   ]
  }
 ],
 "metadata": {
  "kernelspec": {
   "display_name": "Python 3 (ipykernel)",
   "language": "python",
   "name": "python3"
  },
  "language_info": {
   "codemirror_mode": {
    "name": "ipython",
    "version": 3
   },
   "file_extension": ".py",
   "mimetype": "text/x-python",
   "name": "python",
   "nbconvert_exporter": "python",
   "pygments_lexer": "ipython3",
   "version": "3.9.7"
  }
 },
 "nbformat": 4,
 "nbformat_minor": 5
}
