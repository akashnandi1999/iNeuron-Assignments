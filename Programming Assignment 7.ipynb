{
 "cells": [
  {
   "cell_type": "markdown",
   "id": "32ad6bd0",
   "metadata": {},
   "source": [
    "## Programming Assignmnet 7\n",
    "\n",
    "### - by Akash Nandi"
   ]
  },
  {
   "cell_type": "markdown",
   "id": "d06be18d",
   "metadata": {},
   "source": [
    "#### 1. Write a Python Program to find sum of array.\n",
    "\n",
    "#### Solution :"
   ]
  },
  {
   "cell_type": "code",
   "execution_count": 1,
   "id": "305785fd",
   "metadata": {},
   "outputs": [
    {
     "name": "stdout",
     "output_type": "stream",
     "text": [
      "The sum of elements in [1, 2, 3, 4, 5] is 15\n"
     ]
    }
   ],
   "source": [
    "def sumArray(arr):\n",
    "    s = 0\n",
    "    for i in arr:\n",
    "        s = s+i\n",
    "    return s\n",
    "\n",
    "arr = [1,2,3,4,5]\n",
    "\n",
    "print(f\"The sum of elements in {arr} is {sumArray(arr)}\")"
   ]
  },
  {
   "cell_type": "markdown",
   "id": "34e73587",
   "metadata": {},
   "source": [
    "#### 2. Write a Python Program to find largest element in an array.\n",
    "\n",
    "#### Solution :-"
   ]
  },
  {
   "cell_type": "code",
   "execution_count": 2,
   "id": "836adeb2",
   "metadata": {},
   "outputs": [
    {
     "name": "stdout",
     "output_type": "stream",
     "text": [
      "The largest element in [2, 8, 1, 3, 5, 0, 4] is 8\n"
     ]
    }
   ],
   "source": [
    "def maxArr(arr):\n",
    "    max = arr[0]\n",
    "    for i in range(1,len(arr)):\n",
    "        if arr[i] > max:\n",
    "            max = arr[i]\n",
    "    return max\n",
    "\n",
    "arr = [2,8,1,3,5,0,4]\n",
    "\n",
    "print(f\"The largest element in {arr} is {maxArr(arr)}\")"
   ]
  },
  {
   "cell_type": "markdown",
   "id": "df902973",
   "metadata": {},
   "source": [
    "#### 3. Write a Python Program for array rotation.\n",
    "\n",
    "#### Solution :-"
   ]
  },
  {
   "cell_type": "code",
   "execution_count": 4,
   "id": "e8d0e971",
   "metadata": {},
   "outputs": [
    {
     "name": "stdout",
     "output_type": "stream",
     "text": [
      "Enter the position from where you want to Rotate the array: 3\n",
      "Array before ritation is [1, 2, 3, 4, 5, 6, 7, 8, 9, 10]\n",
      "Array after rotation is [4, 5, 6, 7, 8, 9, 10, 1, 2, 3]\n"
     ]
    }
   ],
   "source": [
    "def rotate(d,arr):\n",
    "    arr = arr[d:]+arr[:d]\n",
    "    return arr\n",
    "\n",
    "arr = [1,2,3,4,5,6,7,8,9,10]\n",
    "\n",
    "d = int(input(\"Enter the position from where you want to Rotate the array: \"))\n",
    "\n",
    "print(f\"Array before ritation is {arr}\")\n",
    "print(f\"Array after rotation is {rotate(d,arr)}\")"
   ]
  },
  {
   "cell_type": "markdown",
   "id": "817eebab",
   "metadata": {},
   "source": [
    "#### 4. Write a Python Program to Split the array and add the first part to the end.\n",
    "\n",
    "#### Solution :-"
   ]
  },
  {
   "cell_type": "code",
   "execution_count": 6,
   "id": "fbdcd5bb",
   "metadata": {},
   "outputs": [
    {
     "name": "stdout",
     "output_type": "stream",
     "text": [
      "Enter the position to split athe array: 5\n",
      "Array before splitting: [2, 3, 5, 6, 8, 9, 10, 12, 14, 15]\n",
      "Array after splitting: [9, 10, 12, 14, 15, 2, 3, 5, 6, 8]\n"
     ]
    }
   ],
   "source": [
    "def splitAdd(d,arr):\n",
    "    l = []\n",
    "    r = []\n",
    "    for i in range(d):\n",
    "        l.append(arr[i])\n",
    "    for j in range(d,len(arr)):\n",
    "        r.append(arr[j])\n",
    "    arr = r+l\n",
    "    return arr\n",
    "\n",
    "arr = [2,3,5,6,8,9,10,12,14,15]\n",
    "d = int(input(\"Enter the position to split athe array: \"))\n",
    "\n",
    "print(f\"Array before splitting: {arr}\")\n",
    "print(f\"Array after splitting: {splitAdd(d,arr)}\")"
   ]
  },
  {
   "cell_type": "markdown",
   "id": "8635730e",
   "metadata": {},
   "source": [
    "#### 5. Write a Python Program to check if given array is Monotonic.\n",
    "\n",
    "#### Solution :-"
   ]
  },
  {
   "cell_type": "code",
   "execution_count": 12,
   "id": "957fe78e",
   "metadata": {},
   "outputs": [
    {
     "name": "stdout",
     "output_type": "stream",
     "text": [
      "[10, 20, 20, 30, 40, 40, 50] is Monotonic\n",
      "\n",
      "\n",
      "[50, 40, 30, 30, 20, 10, 0, 0] is Monotonic\n",
      "\n",
      "\n",
      "[10, 50, 30, 40, 40, 80, 60, 50] is Not Monotonic\n",
      "\n",
      "\n",
      "[50, 40, 30, 30, 10, 10, 20, 20] is Not Monotonic\n",
      "\n",
      "\n"
     ]
    }
   ],
   "source": [
    "def isMonotonic(arr):\n",
    "    if arr == sorted(arr) or arr == sorted(arr, reverse=True):\n",
    "        return True\n",
    "    else:\n",
    "        return False\n",
    "\n",
    "arr1 = [10,20,20,30,40,40,50]\n",
    "arr2 = [50,40,30,30,20,10,0,0]\n",
    "arr3 = [10,50,30,40,40,80,60,50]\n",
    "arr4 = [50,40,30,30,10,10,20,20]\n",
    "\n",
    "lst = [arr1,arr2,arr3,arr4]\n",
    "\n",
    "for i in lst:\n",
    "    if isMonotonic(i):\n",
    "        print(f\"{i} is Monotonic\")\n",
    "    else:\n",
    "        print(f\"{i} is Not Monotonic\")\n",
    "    print(\"\\n\")"
   ]
  }
 ],
 "metadata": {
  "kernelspec": {
   "display_name": "Python 3 (ipykernel)",
   "language": "python",
   "name": "python3"
  },
  "language_info": {
   "codemirror_mode": {
    "name": "ipython",
    "version": 3
   },
   "file_extension": ".py",
   "mimetype": "text/x-python",
   "name": "python",
   "nbconvert_exporter": "python",
   "pygments_lexer": "ipython3",
   "version": "3.9.7"
  }
 },
 "nbformat": 4,
 "nbformat_minor": 5
}
