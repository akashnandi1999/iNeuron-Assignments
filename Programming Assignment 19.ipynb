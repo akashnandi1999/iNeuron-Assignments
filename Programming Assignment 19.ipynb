{
 "cells": [
  {
   "cell_type": "markdown",
   "id": "4078f9ae",
   "metadata": {},
   "source": [
    "## Programming Assignment 19\n",
    "\n",
    "### - by Akash Nandi"
   ]
  },
  {
   "cell_type": "markdown",
   "id": "6f31b909",
   "metadata": {},
   "source": [
    "### 1. Create a function that takes a string and returns a string in which each character is repeated once.\n",
    "\n",
    "#### Solution :-"
   ]
  },
  {
   "cell_type": "code",
   "execution_count": 3,
   "id": "3123aebb",
   "metadata": {},
   "outputs": [
    {
     "name": "stdout",
     "output_type": "stream",
     "text": [
      "Enter a string: SSttrriinngg\n"
     ]
    },
    {
     "data": {
      "text/plain": [
       "'String'"
      ]
     },
     "execution_count": 3,
     "metadata": {},
     "output_type": "execute_result"
    }
   ],
   "source": [
    "from collections import Counter\n",
    "\n",
    "def single_char(s):\n",
    "    new_s = \"\"\n",
    "    cnt = Counter(s)\n",
    "    for k in cnt.keys():\n",
    "        if cnt[k] >= 1:\n",
    "            new_s = new_s+k\n",
    "        else:\n",
    "            pass\n",
    "    return new_s\n",
    "\n",
    "s = input(\"Enter a string: \")\n",
    "single_char(s)"
   ]
  },
  {
   "cell_type": "markdown",
   "id": "42739ed6",
   "metadata": {},
   "source": [
    "### 2. Create a function that reverses a boolean value and returns the string \"boolean expected\" if another variable type is given.\n",
    "\n",
    "#### Solution :-"
   ]
  },
  {
   "cell_type": "code",
   "execution_count": 5,
   "id": "729608c0",
   "metadata": {},
   "outputs": [],
   "source": [
    "def reverse_bool(s):\n",
    "    if s == \"True\":\n",
    "        return False\n",
    "    elif s == \"False\":\n",
    "        return True\n",
    "    else:\n",
    "        return \"Boolean Expected\""
   ]
  },
  {
   "cell_type": "code",
   "execution_count": 7,
   "id": "4808bfef",
   "metadata": {},
   "outputs": [
    {
     "data": {
      "text/plain": [
       "False"
      ]
     },
     "execution_count": 7,
     "metadata": {},
     "output_type": "execute_result"
    }
   ],
   "source": [
    "reverse_bool(\"True\")"
   ]
  },
  {
   "cell_type": "code",
   "execution_count": 9,
   "id": "e0089f33",
   "metadata": {},
   "outputs": [
    {
     "data": {
      "text/plain": [
       "True"
      ]
     },
     "execution_count": 9,
     "metadata": {},
     "output_type": "execute_result"
    }
   ],
   "source": [
    "reverse_bool(\"False\")"
   ]
  },
  {
   "cell_type": "code",
   "execution_count": 11,
   "id": "c09dea5b",
   "metadata": {},
   "outputs": [
    {
     "data": {
      "text/plain": [
       "'Boolean Expected'"
      ]
     },
     "execution_count": 11,
     "metadata": {},
     "output_type": "execute_result"
    }
   ],
   "source": [
    "reverse_bool(0)"
   ]
  },
  {
   "cell_type": "code",
   "execution_count": 13,
   "id": "c4729fdb",
   "metadata": {},
   "outputs": [
    {
     "data": {
      "text/plain": [
       "'Boolean Expected'"
      ]
     },
     "execution_count": 13,
     "metadata": {},
     "output_type": "execute_result"
    }
   ],
   "source": [
    "reverse_bool(None)"
   ]
  },
  {
   "cell_type": "markdown",
   "id": "cbc4aa64",
   "metadata": {},
   "source": [
    "### 3. Create a function that returns the thickness (in meters) of a piece of paper after folding it n number of times. The paper starts off with a thickness of 0.5mm.\n",
    "\n",
    "#### Solution :-"
   ]
  },
  {
   "cell_type": "code",
   "execution_count": 17,
   "id": "bd610260",
   "metadata": {},
   "outputs": [
    {
     "name": "stdout",
     "output_type": "stream",
     "text": [
      "Enter number of fold you want: 4\n"
     ]
    },
    {
     "data": {
      "text/plain": [
       "'For 4 Layers = 0.008m'"
      ]
     },
     "execution_count": 17,
     "metadata": {},
     "output_type": "execute_result"
    }
   ],
   "source": [
    "def num_layers(n):\n",
    "    thick = 0.5\n",
    "    for i in range(n):\n",
    "        thick *= 2 \n",
    "    return f'For {n} Layers = {thick/1000}m'\n",
    "\n",
    "n = int(input(\"Enter number of fold you want: \"))\n",
    "num_layers(n)"
   ]
  },
  {
   "cell_type": "markdown",
   "id": "df65280c",
   "metadata": {},
   "source": [
    "### 4. Create a function that takes a single string as argument and returns an ordered list containing the indices of all capital letters in the string.\n",
    "\n",
    "#### Solution :-"
   ]
  },
  {
   "cell_type": "code",
   "execution_count": 21,
   "id": "6639ceef",
   "metadata": {},
   "outputs": [
    {
     "name": "stdout",
     "output_type": "stream",
     "text": [
      "Enter a string: eDaBiT\n"
     ]
    },
    {
     "data": {
      "text/plain": [
       "'Index of Capital Letters = [1, 3, 5]'"
      ]
     },
     "execution_count": 21,
     "metadata": {},
     "output_type": "execute_result"
    }
   ],
   "source": [
    "def index_of_caps(s):\n",
    "    l = list()\n",
    "    for i in range(len(s)):\n",
    "        if s[i].isupper() == True:\n",
    "            l.append(i)\n",
    "    l = sorted(l)\n",
    "    return f\"Index of Capital Letters = {l}\"\n",
    "\n",
    "s = input(\"Enter a string: \")\n",
    "index_of_caps(s)"
   ]
  },
  {
   "cell_type": "markdown",
   "id": "ae7adb28",
   "metadata": {},
   "source": [
    "### 5. Using list comprehensions, create a function that finds all even numbers from 1 to the given number.\n",
    "\n",
    "#### Solution :-"
   ]
  },
  {
   "cell_type": "code",
   "execution_count": 22,
   "id": "5ee314b5",
   "metadata": {},
   "outputs": [
    {
     "name": "stdout",
     "output_type": "stream",
     "text": [
      "Enter the value of n: 8\n"
     ]
    },
    {
     "data": {
      "text/plain": [
       "[2, 4, 6, 8]"
      ]
     },
     "execution_count": 22,
     "metadata": {},
     "output_type": "execute_result"
    }
   ],
   "source": [
    "def find_even_nums(n):\n",
    "    l = [i for i in range(1,n+1) if i%2 == 0]\n",
    "    return l\n",
    "n = int(input(\"Enter the value of n: \"))\n",
    "find_even_nums(n)"
   ]
  }
 ],
 "metadata": {
  "kernelspec": {
   "display_name": "Python 3 (ipykernel)",
   "language": "python",
   "name": "python3"
  },
  "language_info": {
   "codemirror_mode": {
    "name": "ipython",
    "version": 3
   },
   "file_extension": ".py",
   "mimetype": "text/x-python",
   "name": "python",
   "nbconvert_exporter": "python",
   "pygments_lexer": "ipython3",
   "version": "3.9.7"
  }
 },
 "nbformat": 4,
 "nbformat_minor": 5
}
