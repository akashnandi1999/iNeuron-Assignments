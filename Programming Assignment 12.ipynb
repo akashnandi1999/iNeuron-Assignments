{
 "cells": [
  {
   "cell_type": "markdown",
   "id": "73d0480c",
   "metadata": {},
   "source": [
    "## Programming Assignment - 12\n",
    "\n",
    "### - by Akash Nandi"
   ]
  },
  {
   "cell_type": "markdown",
   "id": "4b361805",
   "metadata": {},
   "source": [
    "### 1. Write a Python program to Extract Unique values dictionary values.\n",
    "\n",
    "#### Solution :-"
   ]
  },
  {
   "cell_type": "code",
   "execution_count": 2,
   "id": "986078c8",
   "metadata": {},
   "outputs": [
    {
     "name": "stdout",
     "output_type": "stream",
     "text": [
      "The dictionary is : \n",
      "{'hi': [5, 3, 8, 0], 'I': [22, 51, 63, 77], 'am': [7, 0, 22], 'very': [12, 11, 45], 'happy': [56, 31, 89, 90]}\n",
      "\n",
      "\n",
      "The unique values are : \n",
      "[0, 3, 5, 7, 8, 11, 12, 22, 31, 45, 51, 56, 63, 77, 89, 90]\n"
     ]
    }
   ],
   "source": [
    "my_dict = {'hi' : [5,3,8, 0],\n",
    "   'I' : [22, 51, 63, 77],\n",
    "   'am' : [7, 0, 22],\n",
    "   'very' : [12, 11, 45],\n",
    "   'happy' : [56, 31, 89, 90]}\n",
    "\n",
    "print(\"The dictionary is : \")\n",
    "print(my_dict)\n",
    "\n",
    "result = list(sorted({elem for val in my_dict.values() for elem in val}))\n",
    "\n",
    "print(\"\\n\")\n",
    "print(\"The unique values are : \")\n",
    "print(result)"
   ]
  },
  {
   "cell_type": "markdown",
   "id": "7de0f2f3",
   "metadata": {},
   "source": [
    "### 2. Write a Python program to find the sum of all items in a dictionary.\n",
    "\n",
    "#### Solution :-"
   ]
  },
  {
   "cell_type": "code",
   "execution_count": 7,
   "id": "1761a3e3",
   "metadata": {},
   "outputs": [
    {
     "name": "stdout",
     "output_type": "stream",
     "text": [
      "Sum of the values of dicitionary =  1200\n"
     ]
    }
   ],
   "source": [
    "def totalSum(dictionary):\n",
    "    sum = 0\n",
    "    for i in dictionary.values():\n",
    "        sum = sum + i\n",
    " \n",
    "    return sum\n",
    " \n",
    "\n",
    "dictionary = {'a': 200, 'b': 400, 'c': 600}\n",
    "print(\"Sum of the values of dicitionary = \", totalSum(dictionary))"
   ]
  },
  {
   "cell_type": "markdown",
   "id": "61180760",
   "metadata": {},
   "source": [
    "### 3. Write a Python program to Merge two Dictionaries.\n",
    "\n",
    "#### Solution :-"
   ]
  },
  {
   "cell_type": "code",
   "execution_count": 8,
   "id": "817f7c5c",
   "metadata": {},
   "outputs": [
    {
     "name": "stdout",
     "output_type": "stream",
     "text": [
      "{'a': 10, 'b': 8, 'c': 6, 'd': 4}\n"
     ]
    }
   ],
   "source": [
    "def mergeDictionary(dict1, dict2):\n",
    "    res = dict1 | dict2\n",
    "    return res\n",
    "       \n",
    "dict1 = {'a': 10, 'b': 8}\n",
    "dict2 = {'c': 6, 'd': 4}\n",
    "dict3 = mergeDictionary(dict1, dict2)\n",
    "print(dict3)"
   ]
  },
  {
   "cell_type": "markdown",
   "id": "5655460a",
   "metadata": {},
   "source": [
    "### 4. Write a Python program to convert key-values list to flat dictionary.\n",
    "\n",
    "#### Solution :-"
   ]
  },
  {
   "cell_type": "code",
   "execution_count": 9,
   "id": "008076eb",
   "metadata": {},
   "outputs": [
    {
     "name": "stdout",
     "output_type": "stream",
     "text": [
      "The original dictionary is : {'month': [1, 2, 3], 'name': ['Jan', 'Feb', 'March']}\n",
      "Flattened dictionary : {1: 'Jan', 2: 'Feb', 3: 'March'}\n"
     ]
    }
   ],
   "source": [
    "test_dict = {'month' : [1, 2, 3], 'name' : ['Jan', 'Feb', 'March']}\n",
    " \n",
    "print(\"The original dictionary is : \" + str(test_dict))\n",
    " \n",
    "x = list(test_dict.values())\n",
    "a = x[0]\n",
    "b = x[1]\n",
    "d = dict()\n",
    "for i in range(0,len(a)):\n",
    "    d[a[i]] = b[i]\n",
    "\n",
    "print(\"Flattened dictionary : \" + str(d))"
   ]
  },
  {
   "cell_type": "markdown",
   "id": "b229b479",
   "metadata": {},
   "source": [
    "### 5. Write a Python program to insertion at the beginning in OrderedDict.\n",
    "\n",
    "#### Solution :-"
   ]
  },
  {
   "cell_type": "code",
   "execution_count": 11,
   "id": "b06364a5",
   "metadata": {},
   "outputs": [
    {
     "name": "stdout",
     "output_type": "stream",
     "text": [
      "Final Dictionary :\n",
      "OrderedDict([('D', '400'), ('A', '100'), ('B', '200'), ('C', '300')])\n"
     ]
    }
   ],
   "source": [
    "from collections import OrderedDict\n",
    "dic1 = OrderedDict([('A', '100'), ('B', '200'), ('C', '300')])\n",
    "insrt_ele = OrderedDict([(\"D\", '400')])\n",
    "  \n",
    "final_dic = OrderedDict(list(insrt_ele.items()) + list(dic1.items()))\n",
    "  \n",
    "print (\"Final Dictionary :\")\n",
    "print(final_dic)"
   ]
  },
  {
   "cell_type": "markdown",
   "id": "493848f5",
   "metadata": {},
   "source": [
    "### 6. Write a Python program to check order of character in string using OrderedDict().\n",
    "\n",
    "#### Solution :-"
   ]
  },
  {
   "cell_type": "code",
   "execution_count": 13,
   "id": "4c4c96a8",
   "metadata": {},
   "outputs": [
    {
     "name": "stdout",
     "output_type": "stream",
     "text": [
      "Enter a String: Hi Akash\n",
      "Enter an input pattern: Ak\n",
      "The string is \n",
      "Hi Akash\n",
      "The input pattern is \n",
      "Ak\n",
      "The order of pattern is correct\n"
     ]
    }
   ],
   "source": [
    "from collections import OrderedDict\n",
    "def check_order(my_input, my_pattern):\n",
    "    my_dict = OrderedDict.fromkeys(my_input)\n",
    "    pattern_length = 0\n",
    "    for key,value in my_dict.items():\n",
    "        if (key == my_pattern[pattern_length]):\n",
    "            pattern_length = pattern_length + 1\n",
    "\n",
    "        if (pattern_length == (len(my_pattern))):\n",
    "            return 'The order of pattern is correct'\n",
    "\n",
    "    return 'The order of pattern is incorrect'\n",
    "\n",
    "my_input = input(\"Enter a String: \")\n",
    "input_pattern = input(\"Enter an input pattern: \")\n",
    "print(\"The string is \")\n",
    "print(my_input)\n",
    "print(\"The input pattern is \")\n",
    "print(input_pattern)\n",
    "print(check_order(my_input,input_pattern))"
   ]
  },
  {
   "cell_type": "markdown",
   "id": "19f46eb1",
   "metadata": {},
   "source": [
    "### 7. Write a Python program to sort Python Dictionaries by Key or Value.\n",
    "\n",
    "#### Solution :-"
   ]
  },
  {
   "cell_type": "code",
   "execution_count": 17,
   "id": "1621c681",
   "metadata": {},
   "outputs": [
    {
     "name": "stdout",
     "output_type": "stream",
     "text": [
      "OrderedDict([('rajnish', '9'), ('ravi', '10'), ('sanjeev', '15'), ('suraj', '32'), ('yash', '2')])\n"
     ]
    }
   ],
   "source": [
    "from collections import OrderedDict\n",
    " \n",
    "dict = {'ravi': '10', 'rajnish': '9',\n",
    "        'sanjeev': '15', 'yash': '2', 'suraj': '32'}\n",
    "dict1 = OrderedDict(sorted(dict.items()))\n",
    "print(dict1)"
   ]
  }
 ],
 "metadata": {
  "kernelspec": {
   "display_name": "Python 3 (ipykernel)",
   "language": "python",
   "name": "python3"
  },
  "language_info": {
   "codemirror_mode": {
    "name": "ipython",
    "version": 3
   },
   "file_extension": ".py",
   "mimetype": "text/x-python",
   "name": "python",
   "nbconvert_exporter": "python",
   "pygments_lexer": "ipython3",
   "version": "3.9.7"
  }
 },
 "nbformat": 4,
 "nbformat_minor": 5
}
