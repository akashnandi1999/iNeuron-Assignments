{
 "cells": [
  {
   "cell_type": "markdown",
   "metadata": {
    "id": "dkGbTD94s6CD"
   },
   "source": [
    "# ASSIGNMENT Solution\n",
    "## - by Akash Nandi"
   ]
  },
  {
   "cell_type": "markdown",
   "metadata": {
    "id": "n3FuI-mutNl6"
   },
   "source": [
    "# List, Tuple and Sets"
   ]
  },
  {
   "cell_type": "markdown",
   "metadata": {
    "id": "hZcGNSR2y9zW"
   },
   "source": [
    "#### 1. On amazon website we have the following available items - \n",
    "\n",
    "```python\n",
    "amazon_website = [(\"watch\", 5000), (\"phone\", 10000), (\"laptop\", 50000), (\"shirt\", 1000)]\n",
    "```\n",
    "Take the user input N no. of times and find out the total cost to be paid?\n",
    "\n",
    "OR\n",
    "\n",
    "You can ask the user quntity or the count of item?\n",
    "\n",
    "if the item is not present in the amazon website then print that item as out of stock and do add it total\n",
    "\n",
    "\n",
    "HINT: while, for loop.. indexing\n",
    "\n",
    "#### Solution :-"
   ]
  },
  {
   "cell_type": "code",
   "execution_count": 58,
   "metadata": {},
   "outputs": [
    {
     "name": "stdout",
     "output_type": "stream",
     "text": [
      "Enter the product name: shirt\n",
      "Enter the product quantity needed: 2\n",
      "Total cost of 2 shirt =  ₹2000\n"
     ]
    }
   ],
   "source": [
    "amazon_website = [(\"watch\", 5000), (\"phone\", 10000), (\"laptop\", 50000), (\"shirt\", 1000)]\n",
    "\n",
    "total_cost = 0\n",
    "\n",
    "prod_name = input(\"Enter the product name: \")\n",
    "prod_quan = int(input(\"Enter the product quantity needed: \"))\n",
    "\n",
    "for i in amazon_website:\n",
    "    if prod_name in i:\n",
    "        total_cost = prod_quan * i[1]\n",
    "        print(f\"Total cost of {prod_quan} {prod_name} =  ₹{total_cost}\")\n",
    "        break\n",
    "else:\n",
    "    print(\"Product out of stock\")"
   ]
  },
  {
   "cell_type": "markdown",
   "metadata": {
    "id": "FQrKC2gzzsUm"
   },
   "source": [
    "#### 2. What will be the output of the following code snippet?\n",
    "\n",
    "```\n",
    "arr = [1, 2, 3, 4, 5, 6]\n",
    "for i in range(1, 6):\n",
    "    arr[i - 1] = arr[i]\n",
    "for i in range(0, 6): \n",
    "    print(arr[i], end = \" \")\n",
    "```\n",
    "\n",
    "#### Solution :-   Output is:   2 3 4 5 6 6"
   ]
  },
  {
   "cell_type": "code",
   "execution_count": 17,
   "metadata": {},
   "outputs": [
    {
     "name": "stdout",
     "output_type": "stream",
     "text": [
      "2 3 4 5 6 6 "
     ]
    }
   ],
   "source": [
    "arr = [1, 2, 3, 4, 5, 6]\n",
    "for i in range(1, 6):\n",
    "    arr[i - 1] = arr[i]       # The value of the current index is copied to the previous index.\n",
    "for i in range(0, 6): \n",
    "    print(arr[i], end = \" \")"
   ]
  },
  {
   "cell_type": "markdown",
   "metadata": {
    "id": "nL_DZJFS0ZZF"
   },
   "source": [
    "#### 3. Write a Python program to find the repeated items of a tuple.\n",
    "\n",
    "#### Solution :-"
   ]
  },
  {
   "cell_type": "code",
   "execution_count": 65,
   "metadata": {},
   "outputs": [
    {
     "name": "stdout",
     "output_type": "stream",
     "text": [
      "Enter the length of the required tuple : 14\n",
      "Enter a number to insert in the tuple: 1\n",
      "Enter a number to insert in the tuple: 1\n",
      "Enter a number to insert in the tuple: 1\n",
      "Enter a number to insert in the tuple: 2\n",
      "Enter a number to insert in the tuple: 2\n",
      "Enter a number to insert in the tuple: 3\n",
      "Enter a number to insert in the tuple: 3\n",
      "Enter a number to insert in the tuple: 3\n",
      "Enter a number to insert in the tuple: 4\n",
      "Enter a number to insert in the tuple: 5\n",
      "Enter a number to insert in the tuple: 6\n",
      "Enter a number to insert in the tuple: 6\n",
      "Enter a number to insert in the tuple: 7\n",
      "Enter a number to insert in the tuple: 8\n",
      "\n",
      "\n",
      "The tuple is:  (1, 1, 1, 2, 2, 3, 3, 3, 4, 5, 6, 6, 7, 8) \n",
      "\n",
      "Below are the repeated elements in the tuple :-\n",
      "1 2 3 6 "
     ]
    }
   ],
   "source": [
    "l = []\n",
    "    \n",
    "total_inputs = int(input(\"Enter the length of the required tuple : \"))\n",
    "\n",
    "for i in range(total_inputs):\n",
    "    ele = int(input(\"Enter a number to insert in the tuple: \"))\n",
    "    l.append(ele)\n",
    "    \n",
    "tup = tuple(l)\n",
    "print(\"\\n\")\n",
    "print(\"The tuple is: \", tup, \"\\n\")\n",
    "\n",
    "print(\"Below are the repeated elements in the tuple :-\")\n",
    "\n",
    "lst = []\n",
    "for i in tup:\n",
    "    if tup.count(i) > 1:\n",
    "        lst.append(i)\n",
    "\n",
    "for i in set(lst):\n",
    "    print(i, end = \" \")"
   ]
  },
  {
   "cell_type": "markdown",
   "metadata": {
    "id": "ne8WpLZZ1GSm"
   },
   "source": [
    "### 4. Replace last value of tuples in a list with 500. Try using list comprehension\n",
    "\n",
    "Example -: \n",
    "```\n",
    "Input -:\n",
    "\n",
    "[(10, 20, 40), (40, 50, 60), (70, 80, 90)]\n",
    "\n",
    "Output -:\n",
    "[(10, 20, 500), (40, 50, 500), (70, 80, 500)]\n",
    "\n",
    "\n",
    "```\n"
   ]
  },
  {
   "cell_type": "code",
   "execution_count": 57,
   "metadata": {
    "id": "YpvH9Di21z-O"
   },
   "outputs": [
    {
     "name": "stdout",
     "output_type": "stream",
     "text": [
      "Input :1 \r\n",
      "[(10, 20, 40), (40, 50, 60), (70, 80, 90)] \n",
      "\n",
      "Output :- \r\n",
      "[(10, 20, 500), (40, 50, 500), (70, 80, 500)]\n"
     ]
    }
   ],
   "source": [
    "lst = [(10, 20, 40), (40, 50, 60), (70, 80, 90)]\n",
    "print(\"Input :1\",\"\\r\")\n",
    "print(lst,\"\\n\")\n",
    "\n",
    "l = []\n",
    "for tup in lst:\n",
    "    a = list(tup)\n",
    "    a[len(tup)-1] = 500\n",
    "    l.append(tuple(a))\n",
    "\n",
    "print(\"Output :-\",\"\\r\")\n",
    "print(l)"
   ]
  },
  {
   "cell_type": "code",
   "execution_count": null,
   "metadata": {
    "id": "mbx4uz9Y2bHk"
   },
   "outputs": [],
   "source": []
  }
 ],
 "metadata": {
  "colab": {
   "collapsed_sections": [],
   "provenance": []
  },
  "kernelspec": {
   "display_name": "Python 3 (ipykernel)",
   "language": "python",
   "name": "python3"
  },
  "language_info": {
   "codemirror_mode": {
    "name": "ipython",
    "version": 3
   },
   "file_extension": ".py",
   "mimetype": "text/x-python",
   "name": "python",
   "nbconvert_exporter": "python",
   "pygments_lexer": "ipython3",
   "version": "3.9.7"
  }
 },
 "nbformat": 4,
 "nbformat_minor": 1
}
