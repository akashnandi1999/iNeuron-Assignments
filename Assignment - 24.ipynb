{
 "cells": [
  {
   "cell_type": "markdown",
   "id": "f696a110",
   "metadata": {},
   "source": [
    "## Assignment - 24\n",
    "\n",
    "### - by Akash Nandi"
   ]
  },
  {
   "cell_type": "markdown",
   "id": "3ec2a8a6",
   "metadata": {},
   "source": [
    "### 1. What is the relationship between def statements and lambda expressions ?\n",
    "\n",
    "#### Solution :- def functions are easy to interpret compared to lambda. To return an object from the function, return should be explicitly defined in def but not in lambda Execution time in def is slower compared to lambda.\n",
    "#### ----------------------------------------------------------------------------------------------------------------------------------------------------------------------------------------"
   ]
  },
  {
   "cell_type": "markdown",
   "id": "68ee46af",
   "metadata": {},
   "source": [
    "### 2. What is the benefit of lambda ?\n",
    "\n",
    "#### Solution :- Functions can be created in a single line. Can be used to create Nameless/Anonymous functions inside some complex functions if we are planning to use it only once. Fuctions created using lambda expressions can be assigned to a variable and can be used by simply calling the variable.\n",
    "#### ----------------------------------------------------------------------------------------------------------------------------------------------------------------------------------------"
   ]
  },
  {
   "cell_type": "markdown",
   "id": "10084fcd",
   "metadata": {},
   "source": [
    "### 3. Compare and contrast map, filter, and reduce.\n",
    "\n",
    "#### Solution :- map(): The map() function takes another function as a parameter along with a sequence of iterables and returns an output filter applying the function to each iterable present in the sequence. filter():A filter function in Python tests a specific user-defined condition for a function and returns an iterable for the elements and values that satisfy the condition or, in other words, return true. reduce(): The reduce() function applies a given function to the iterables and returns a single value as a result.\n",
    "#### ----------------------------------------------------------------------------------------------------------------------------------------------------------------------------------------"
   ]
  },
  {
   "cell_type": "markdown",
   "id": "35143a38",
   "metadata": {},
   "source": [
    "### 4. What are function annotations, and how are they used ?\n",
    "\n",
    "#### Solution :- Function annotations are arbitrary python expressions that are associated with various part of functions. These expressions are evaluated at compile time and have no life in python’s runtime environment. e.g.- def func(x:'annotating x', y: 'annotating y', z: int) -> float: print(x + y + z).\n",
    "#### ----------------------------------------------------------------------------------------------------------------------------------------------------------------------------------------"
   ]
  },
  {
   "cell_type": "markdown",
   "id": "4790ab8a",
   "metadata": {},
   "source": [
    "### 5. What are recursive functions, and how are they used ?\n",
    "\n",
    "#### Solution :- In programming terms, a recursive function can be defined as a routine that calls itself directly or indirectly."
   ]
  },
  {
   "cell_type": "code",
   "execution_count": null,
   "id": "7d7dd570",
   "metadata": {},
   "outputs": [],
   "source": [
    "def factorial(x):\n",
    "    \"\"\"This is a recursive function to find the factorial of an integer\"\"\"\n",
    "    if x == 1:\n",
    "        return 1\n",
    "    else:\n",
    "        return (x * factorial(x-1))"
   ]
  },
  {
   "cell_type": "markdown",
   "id": "4faa965f",
   "metadata": {},
   "source": [
    "### 6. What are some general design guidelines for coding functions ?\n",
    "\n",
    "#### Solution :-\n",
    "\n",
    "#### Some general design guidelines for coding functions :-\n",
    "#### 1. Proper Identation\n",
    "#### 2. Use docstring to explain the functionality of the function\n",
    "#### 3. Naming convention for function names must be (pascalCase or camelCase) and stick with the same convention throughout the application.\n",
    "#### 4. function name must conveys the purpose of the function.\n",
    "#### 5. avoid using or limited use of global variables.\n",
    "#### 6. Follow proper variable naming convebtiob like avoid using digits, keywords name, while choosing a variable name and name must covey the purpose of the variable\n",
    "7.Local variables should be named using camelCase format (ex: localVariable) whereas Global variables names should be \n",
    "using PascalCase (ex:GlobalVariable) and constant should be represented in uppercase (ex:CONSTANT)."
   ]
  }
 ],
 "metadata": {
  "kernelspec": {
   "display_name": "Python 3 (ipykernel)",
   "language": "python",
   "name": "python3"
  },
  "language_info": {
   "codemirror_mode": {
    "name": "ipython",
    "version": 3
   },
   "file_extension": ".py",
   "mimetype": "text/x-python",
   "name": "python",
   "nbconvert_exporter": "python",
   "pygments_lexer": "ipython3",
   "version": "3.9.7"
  }
 },
 "nbformat": 4,
 "nbformat_minor": 5
}
