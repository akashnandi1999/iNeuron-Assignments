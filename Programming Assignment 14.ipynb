{
 "cells": [
  {
   "cell_type": "markdown",
   "id": "6da7651c",
   "metadata": {},
   "source": [
    "## Programming Assignment - 14\n",
    "\n",
    "### - by Akash Nandi"
   ]
  },
  {
   "cell_type": "markdown",
   "id": "ac8d08f4",
   "metadata": {},
   "source": [
    "### 1. Define a class with a generator which can iterate the numbers, which are divisible by 7, between a given range 0 and n.\n",
    "\n",
    "#### Solution :-"
   ]
  },
  {
   "cell_type": "code",
   "execution_count": 7,
   "id": "ae83bf2c",
   "metadata": {},
   "outputs": [
    {
     "name": "stdout",
     "output_type": "stream",
     "text": [
      "Enter a number: 119\n",
      "Below are the numbers divisible by 7:-\n",
      "0 7 14 21 28 35 42 49 56 63 70 77 84 91 98 105 112 119 "
     ]
    }
   ],
   "source": [
    "class div:\n",
    "    def __init__(self, n):\n",
    "        self.n = n\n",
    "    \n",
    "    def div_by(self):\n",
    "        try:\n",
    "            for i in range(self.n+1):\n",
    "                if i%7 == 0:\n",
    "                    yield i             \n",
    "        except Exception as e:\n",
    "            print(\"Error occured: e\")\n",
    "            \n",
    "            \n",
    "while True:\n",
    "    num = int(input(\"Enter a number: \"))\n",
    "    if num>0:\n",
    "        break\n",
    "    else:\n",
    "        print(\"Invalid input....Please try again and give a proper input.\")\n",
    "        continue\n",
    "        \n",
    "check_div = div(num)\n",
    "\n",
    "print(f\"Below are the numbers divisible by 7:-\")\n",
    "for i in check_div.div_by():\n",
    "    print(i, end=\" \")"
   ]
  },
  {
   "cell_type": "markdown",
   "id": "3b0812d2",
   "metadata": {},
   "source": [
    "### 2. Write a program to compute the frequency of the words from the input. The output should output after sorting the key alphanumerically.\n",
    "\n",
    "#### Solution :-"
   ]
  },
  {
   "cell_type": "code",
   "execution_count": 12,
   "id": "cd895284",
   "metadata": {},
   "outputs": [
    {
     "name": "stdout",
     "output_type": "stream",
     "text": [
      "Give your input: New to Python or choosing between Python 2 and Python 3? Read Python 2 or Python 3.\n",
      "Below are the frequency of the letters of the given input:-\n",
      "2 - 2\n",
      "3. - 1\n",
      "3? - 1\n",
      "New - 1\n",
      "Python - 5\n",
      "Read - 1\n",
      "and - 1\n",
      "between - 1\n",
      "choosing - 1\n",
      "or - 2\n",
      "to - 1\n"
     ]
    }
   ],
   "source": [
    "from collections import Counter\n",
    "\n",
    "class freq:\n",
    "    def __init__(self, alp):\n",
    "        self.alp = alp\n",
    "        \n",
    "    def cal_freq(self):\n",
    "        total_alp = sorted(self.alp.split(\" \"))\n",
    "        cnt = Counter(total_alp)\n",
    "        print(\"Below are the frequency of the letters of the given input:-\")\n",
    "        for k,v in cnt.items():\n",
    "            print(k,\"-\",v)\n",
    "            \n",
    "a = input(\"Give your input: \")\n",
    "\n",
    "f = freq(a)\n",
    "\n",
    "f.cal_freq()"
   ]
  },
  {
   "cell_type": "markdown",
   "id": "76b109cd",
   "metadata": {},
   "source": [
    "### 3. Define a class Person and its two child classes: Male and Female. All classes have a method &quot;getGender&quot; which can print &quot;Male&quot; for Male class and &quot;Female&quot; for Female class.\n",
    "\n",
    "#### Solution :-"
   ]
  },
  {
   "cell_type": "code",
   "execution_count": 26,
   "id": "87160237",
   "metadata": {},
   "outputs": [
    {
     "name": "stdout",
     "output_type": "stream",
     "text": [
      "Enter your Name: Akash\n",
      "Enter your Gender(M/F): M\n"
     ]
    },
    {
     "data": {
      "text/plain": [
       "'Male'"
      ]
     },
     "execution_count": 26,
     "metadata": {},
     "output_type": "execute_result"
    }
   ],
   "source": [
    "class person:\n",
    "    def __init__(self, name, gender):\n",
    "        self.name = name\n",
    "        self.gender = gender\n",
    "    \n",
    "    pass\n",
    "\n",
    "class male(person):\n",
    "    def __init__(self, name, gender):\n",
    "        person.__init__(self, name, gender)\n",
    "        \n",
    "    def getGender(self):\n",
    "        if self.gender == \"F\" or self.gender == \"f\":\n",
    "            return \"Female\"\n",
    "        else:\n",
    "            return \"Male\"\n",
    "\n",
    "class female(person):\n",
    "    def __init__(self, name, gender):\n",
    "        person.__init__(self, name, gender)\n",
    "    \n",
    "    def getGender(self):\n",
    "        if self.gender == \"M\" or self.gender == \"m\":\n",
    "            return \"Male\"\n",
    "        \n",
    "        else:\n",
    "            return \"Female\"\n",
    "        \n",
    "\n",
    "def \n",
    "n = input(\"Enter your Name: \")\n",
    "g = input(\"Enter your Gender(M/F): \")\n",
    "\n",
    "if g == \"M\" or g == \"m\":\n",
    "    k = male(n,g)\n",
    "elif g == \"F\" or g == \"f\":\n",
    "    k = female(n,g)\n",
    "else:\n",
    "    raise Exception(\"Invalid input for Gender.\")\n",
    "    \n",
    "k.getGender()"
   ]
  },
  {
   "cell_type": "markdown",
   "id": "0529f37b",
   "metadata": {},
   "source": [
    "### 4. Please write a program to generate all sentences where subject is in [\"I\", \"You\"] and verb is in [\"Play\", \"Love\"] and the object is in [\"Hockey\", \"Football\"].\n",
    "\n",
    "#### Solution :-"
   ]
  },
  {
   "cell_type": "code",
   "execution_count": 7,
   "id": "4b7cd529",
   "metadata": {},
   "outputs": [
    {
     "name": "stdout",
     "output_type": "stream",
     "text": [
      "Below are the required sentences:-\n",
      "1. I Play Hockey\n",
      "2. I Play Football\n",
      "3. I Love Hockey\n",
      "4. I Love Football\n",
      "5. You Play Hockey\n",
      "6. You Play Football\n",
      "7. You Love Hockey\n",
      "8. You Love Football\n"
     ]
    }
   ],
   "source": [
    "def print_sent(sub_lst, verb_lst, obj_lst):\n",
    "    sent = [(sub+\" \"+ v + \" \" + o) for sub in sub_lst for v in verb_lst for o in obj_lst]\n",
    "    for i in range(len(sent)):\n",
    "         yield(str(i+1)+\". \"+str(sent[i]))\n",
    "\n",
    "\n",
    "sub_lst=[\"I\", \"You\"]\n",
    "verb_lst=[\"Play\", \"Love\"]\n",
    "obj_lst=[\"Hockey\",\"Football\"]\n",
    "\n",
    "print(\"Below are the required sentences:-\")\n",
    "for i in print_sent(sub_lst, verb_lst, obj_lst):\n",
    "    print(i)"
   ]
  },
  {
   "cell_type": "markdown",
   "id": "19711268",
   "metadata": {},
   "source": [
    "### 5. Please write a program to compress and decompress the string \"hello world!hello world!hello world!hello world!\".\n",
    "\n",
    "#### Solution :-"
   ]
  },
  {
   "cell_type": "code",
   "execution_count": 19,
   "id": "4c89abbc",
   "metadata": {},
   "outputs": [
    {
     "name": "stdout",
     "output_type": "stream",
     "text": [
      "b'x\\x9c\\xcbH\\xcd\\xc9\\xc9W(\\xcf/\\xcaIQ\\xcc \\x82\\r\\x00\\xbd[\\x11\\xf5'\n",
      "b'hello world!hello world!hello world!hello world!'\n"
     ]
    }
   ],
   "source": [
    "import zlib\n",
    "s = 'hello world!hello world!hello world!hello world!'\n",
    "\n",
    "b = bytes(s, 'utf-8')\n",
    "c = zlib.compress(b)\n",
    "print(c)\n",
    "print(zlib.decompress(c))"
   ]
  },
  {
   "cell_type": "markdown",
   "id": "cfdd0f47",
   "metadata": {},
   "source": [
    "### 6. Please write a binary search function which searches an item in a sorted list. The function should return the index of element to be searched in the list.\n",
    "\n",
    "#### Solution:-"
   ]
  },
  {
   "cell_type": "code",
   "execution_count": 28,
   "id": "ea07db52",
   "metadata": {},
   "outputs": [
    {
     "name": "stdout",
     "output_type": "stream",
     "text": [
      "The list is [23, 12, 10, 8, 45, 67, 22, 11]\n",
      "Enter the element for Binary Search in the above list: 12\n"
     ]
    },
    {
     "data": {
      "text/plain": [
       "'The index of 12 is 3'"
      ]
     },
     "execution_count": 28,
     "metadata": {},
     "output_type": "execute_result"
    }
   ],
   "source": [
    "def binary_search(l, x):\n",
    "    low = 0\n",
    "    high = len(l)-1\n",
    "    while low<=high:\n",
    "        mid = (low+high)//2\n",
    "        if l[mid] == x:\n",
    "            return f\"The index of {x} is {mid}\"\n",
    "        elif l[mid] > x:\n",
    "            high = mid-1\n",
    "        else:\n",
    "            low = mid+1\n",
    "    return -1\n",
    "\n",
    "l = [23,12,10,8,45,67,22,11]\n",
    "print(f\"The list is {l}\")\n",
    "ele = int(input(\"Enter the element for Binary Search in the above list: \"))\n",
    "binary_search(sorted(l),ele)"
   ]
  }
 ],
 "metadata": {
  "kernelspec": {
   "display_name": "Python 3 (ipykernel)",
   "language": "python",
   "name": "python3"
  },
  "language_info": {
   "codemirror_mode": {
    "name": "ipython",
    "version": 3
   },
   "file_extension": ".py",
   "mimetype": "text/x-python",
   "name": "python",
   "nbconvert_exporter": "python",
   "pygments_lexer": "ipython3",
   "version": "3.9.7"
  }
 },
 "nbformat": 4,
 "nbformat_minor": 5
}
