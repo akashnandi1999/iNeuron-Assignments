{
 "cells": [
  {
   "cell_type": "markdown",
   "id": "92703c78",
   "metadata": {},
   "source": [
    "## Assignment - 13\n",
    "\n",
    "### - by Akash Nandi"
   ]
  },
  {
   "cell_type": "markdown",
   "id": "2339b28d",
   "metadata": {},
   "source": [
    "### 1. What advantages do Excel spreadsheets have over CSV spreadsheets ?\n",
    "\n",
    "#### Solution :- Excel file formats are better for storing and analysing complex data. We can also do operations on the data using formulas in excel, whereas CSV files are plain-text files and does not contain any formulas.\n",
    "#### ----------------------------------------------------------------------------------------------------------------------------------------------------------------------------------------"
   ]
  },
  {
   "cell_type": "markdown",
   "id": "b75f9358",
   "metadata": {},
   "source": [
    "### 2.What do you pass to csv.reader() and csv.writer() to create reader and writer objects ?\n",
    "\n",
    "#### Solution :- "
   ]
  },
  {
   "cell_type": "code",
   "execution_count": 6,
   "id": "681259a3",
   "metadata": {},
   "outputs": [],
   "source": [
    "# A Reader object lets you iterate over lines in the CSV file. Enter the following into the interactive shell, with example.csv in the current working directory:\n",
    "import csv\n",
    "exampleFile = open('example.csv')\n",
    "exampleReader = csv.reader(exampleFile)\n",
    "exampleData = list(exampleReader)\n",
    "\n",
    "# A Writer object lets you write data to a CSV file. To create a Writer object, you use the csv.writer() function. Enter the following into the interactive shell:\n",
    "outputFile = open('output.csv', 'w', newline='')\n",
    "outputWriter = csv.writer(outputFile)\n",
    "outputWriter.writerow(['spam', 'eggs', 'bacon', 'ham'])"
   ]
  },
  {
   "cell_type": "markdown",
   "id": "1ac9596e",
   "metadata": {},
   "source": [
    "### 3. What modes do File objects for reader and writer objects need to be opened in ?\n",
    "\n",
    "#### Solution :- For reader object the file objects needed to be opened in read mode mode='r'. For writer object the file objects needed to be opened in write mode mode='w'"
   ]
  },
  {
   "cell_type": "markdown",
   "id": "676b520d",
   "metadata": {},
   "source": [
    "### 4. What method takes a list argument and writes it to a CSV file ?\n",
    "\n",
    "#### Solution :- writerow() and writerows(), writerow() method writes a single row at a time, writerows() method is used to write multiple rows at a time."
   ]
  },
  {
   "cell_type": "markdown",
   "id": "743c424c",
   "metadata": {},
   "source": [
    "### 5. What do the keyword arguments delimiter and line terminator do ?\n",
    "\n",
    "#### Solution :- Lets take the example of a csv file:\n",
    "#### Company, Designation, Salary\n",
    "#### Amazon, SDE-1, 8500000\n",
    "#### Capgemini, Tester, 5000000\n",
    "#### Here ',' is Delimiter. We can use any Character as per our needs if required.\n",
    "#### Line Terminator comes at end of line by default it is newline and can be changed accourding to Requirement."
   ]
  },
  {
   "cell_type": "markdown",
   "id": "29934dd5",
   "metadata": {},
   "source": [
    "### 6. What function takes a string of JSON data and returns a Python data structure ?\n",
    "\n",
    "#### Solution :- loads() method takes a string of JSON data and returns a Python data structure."
   ]
  },
  {
   "cell_type": "markdown",
   "id": "436d768c",
   "metadata": {},
   "source": [
    "### 7. What function takes a Python data structure and returns a string of JSON data ?\n",
    "\n",
    "#### Solution :- dumps() method takes a python data structure and returns a string of JSON data."
   ]
  }
 ],
 "metadata": {
  "kernelspec": {
   "display_name": "Python 3 (ipykernel)",
   "language": "python",
   "name": "python3"
  },
  "language_info": {
   "codemirror_mode": {
    "name": "ipython",
    "version": 3
   },
   "file_extension": ".py",
   "mimetype": "text/x-python",
   "name": "python",
   "nbconvert_exporter": "python",
   "pygments_lexer": "ipython3",
   "version": "3.9.7"
  }
 },
 "nbformat": 4,
 "nbformat_minor": 5
}
