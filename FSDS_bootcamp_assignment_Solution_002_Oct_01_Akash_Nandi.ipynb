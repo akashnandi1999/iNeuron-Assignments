{
 "cells": [
  {
   "cell_type": "markdown",
   "metadata": {
    "id": "GT4IytkJMNa-"
   },
   "source": [
    "1. What is indentation error? Why indentation is important? Give one simple example?\n",
    "Ans- When the spaces or the Tabs are not placed properly in the correct position, we get an Indentation Error.\n",
    "     Indentation is important as it gives a clear Readability of the code.\n",
    "     Below is the example of an Indentation:-\n",
    "     \n",
    "     course = 'ML'\n",
    "     if course == 'ML':\n",
    "         print('Start the Course') \n",
    "     else: \n",
    "         print('Please Register to start the course') \n",
    "     print('Best of Luck') \n",
    "\n",
    "2. Correct the following code and write the comment where you made the correction?\n",
    "\n",
    "  ```python\n",
    "class_started = bool(input(\"Hey friend, is class started?: [0-False/1-True]\"))       # Made correction by removing the spaces from the beginning\n",
    "\n",
    "if class_started:                    # Made correction by removing the spaces from the beginning\n",
    "    print(\"Since class started...\")  # Made correction by removing the spaces and made the print statement within the \"if\" condition\n",
    "    print(\"Lets concentrate\")        # Made correction by removing the spaces and made the print statement within the \"if\" condition\n",
    "else:                                # Made correction by removing the spaces from the beginning\n",
    "    print(\"Since class is not started...\")  # Made correction by removing the spaces and made the print statement within the \"else\" condition\n",
    "    print(\"let's revise\")                   # Made correction by removing the spaces and made the print statement within the \"else\" condition\n",
    "  ```\n",
    "\n",
    "  **HINT:** Refer your data type conversion class\n",
    "\n",
    "3. Use if else condition to verify that dataype of `input()` method in python is always string.\n",
    "Ans- Below is the code written to verify the datatype of 'input()' method in python:-\n",
    "\n",
    "```python\n",
    "c = input(\"Enter anything: \")\n",
    "\n",
    "if type(c) == 'str':\n",
    "    print(\"The datatype of input() method is a always a String\")\n",
    "else:\n",
    "    print(\"The datatype of input() method is not a String)\n",
    "\n",
    "```\n",
    "\n",
    "4. Take 3 variables and assign integer values to them. Find the largest variable, by only using the if and else conditions.\n",
    "Ans- Below is the code to find the largest of 3 variables:-\n",
    "\n",
    "```python\n",
    "a = 2\n",
    "b = 3\n",
    "c = 4\n",
    "\n",
    "if a>b and a>c:\n",
    "    print(\"a is the largest variable\")\n",
    "elif b>a and b>c:\n",
    "    print(\"b is the largest variable\")\n",
    "else:\n",
    "    print(\"c is the largest variable\")\n",
    "```\n",
    "\n",
    "5. What would be the solution?\n",
    "    1. True\n",
    "    2. False\n",
    "\n",
    "    ```python\n",
    "    a = 6\n",
    "    b = 10\n",
    "    print( not ( not a == 10 or not b == 10) )\n",
    "    ```\n",
    "Ans- False\n",
    "    \n",
    "6. Find the answer as well as find out the reason behind the result? -\n",
    "    - case 1:\n",
    "        ```python\n",
    "        A = 5.0\n",
    "        B = 10/2\n",
    "        print(A is B)\n",
    "        ```\n",
    "Ans- False because the is operator checks wehether the two variables A and B points/refers to the same object in the memory and in the above case they point/refer to different object in the memory.\n",
    "      \n",
    "    - case 2:\n",
    "        ```python\n",
    "        A = 5.0\n",
    "        B = int(10/2)\n",
    "        print(A is B)\n",
    "        ```\n",
    "Ans- False because the is operator checks wehether the two variables A and B points/refers to the same object in the memory and in the above case they point/refer to different object in the memory.\n",
    "\n",
    "    - case 3:\n",
    "        ```python\n",
    "        A = 5.0\n",
    "        B = float(10/2)\n",
    "        print(A is B)\n",
    "        ```\n",
    "Ans- False because the is operator checks wehether the two variables A and B points/refers to the same object in the memory and in the above case they point/refer to different object in the memory."
   ]
  },
  {
   "cell_type": "markdown",
   "metadata": {
    "id": "a_4kbBVWNY-4"
   },
   "source": [
    "### Try to understand the following examples and answer the question based on it - \n",
    "    \n",
    "**Arithmatic Operators**\n",
    "\n",
    "|Operation|Meaning|\n",
    "|:-:|:-:|\n",
    "| **+** |addition|\n",
    "| **-** |subtraction|\n",
    "| **\\*** |multiplication|\n",
    "| **/** |true division|\n",
    "| **//** |integer division|\n",
    "| **%** |the modulo operator|\n",
    "\n",
    "\n",
    "Here `+`, `-`, `*`, `/` are regular arithmatic operators. Lets look at the `//` and `%` operators\n",
    "\n",
    "Usecase or examples - \n",
    "    \n",
    "```python\n",
    "var_a = 5\n",
    "var_b = 25\n",
    "integer_division = var_b // var_a\n",
    "print(f\"integer division: {var_b}/{var_a}={integer_division}\")\n",
    "```\n",
    "\n",
    "OUTPUT: integer division: 25/5=5\n",
    "\n",
    "```python\n",
    "var_a = 3\n",
    "var_b = 25\n",
    "integer_division = var_b // var_a\n",
    "print(f\"integer division: {var_b}/{var_a}={integer_division}\")\n",
    "```\n",
    "\n",
    "OUTPUT: integer division: 25/3=8\n",
    "\n",
    "```python\n",
    "var_a = 5\n",
    "var_b = 25\n",
    "remainder = var_b % var_a\n",
    "print(f\"remainder: {var_b}/{var_a} is {remainder}\")\n",
    "```\n",
    "\n",
    "OUTPUT: remainder: 25/5 is 0\n",
    "\n",
    "```python\n",
    "var_a = 3\n",
    "var_b = 25\n",
    "remainder = var_b % var_a\n",
    "print(f\"remainder: {var_b}/{var_a} is {remainder}\")\n",
    "```\n",
    "\n",
    "OUTPUT: remainder: 25/3 is 1\n",
    "\n"
   ]
  },
  {
   "cell_type": "markdown",
   "metadata": {
    "id": "v288WPlMNxmM"
   },
   "source": [
    "### Answer below questions on the above theory - \n",
    "\n",
    "7. Write a program that asks the user to enter a number. You should print out a message to the user, either “That number is divisible by either 3 or 5”, or “That number is not divisible by either 3 or 5”. Be sure to consider the data type of the input you are taking in from the user. Use a single if/else block to solve this problem.\n",
    "\n",
    "8. Take user input for length and width. Then calculate the area of rectangle. Also print as per length and width whether its a square of rectangle.\n",
    "\n",
    "9. Take two variable radius_1 and radius_2 and calculate the area of circle_1 and circle_2. Also print which circle has large area. If area is equal then print area is equal.\n",
    "\n",
    "10. Check whether a year is leap year or not. Use nested if...else to solve this problem. A leap year is exactly divisible by 4 except for century years (years ending with 00). The century year is a leap year only if it is perfectly divisible by 400."
   ]
  },
  {
   "cell_type": "code",
   "execution_count": 1,
   "metadata": {
    "id": "XumyqFp6MHnv"
   },
   "outputs": [
    {
     "name": "stdout",
     "output_type": "stream",
     "text": [
      "Enter a number: 3\n",
      "That number is divisible by either 3 or 5\n"
     ]
    }
   ],
   "source": [
    "# Ans 7- Below is the answer of Question 7.\n",
    "\n",
    "num = int(input(\"Enter a number: \"))\n",
    "\n",
    "if num%3==0 or num%5==0:\n",
    "    print(\"That number is divisible by either 3 or 5\")\n",
    "else:\n",
    "    print(\"That number is not divisible by either 3 or 5\")"
   ]
  },
  {
   "cell_type": "code",
   "execution_count": 3,
   "metadata": {},
   "outputs": [
    {
     "name": "stdout",
     "output_type": "stream",
     "text": [
      "Enter the length: 5.34\n",
      "Enter the breadth: 5.34\n",
      "Area = 28.5156\n",
      "It is a Square\n"
     ]
    }
   ],
   "source": [
    "# Ans 7- Below is the answer of Question 8.\n",
    "\n",
    "length = float(input(\"Enter the length: \"))\n",
    "breadth = float(input(\"Enter the breadth: \"))\n",
    "\n",
    "area = length * breadth\n",
    "print(\"Area =\",area)\n",
    "\n",
    "if length == breadth:\n",
    "    print(\"It is a Square\")\n",
    "else:\n",
    "    print(\"It is a Rectangle\")"
   ]
  },
  {
   "cell_type": "code",
   "execution_count": 4,
   "metadata": {},
   "outputs": [
    {
     "name": "stdout",
     "output_type": "stream",
     "text": [
      "Enter the radius of 1st Circle: 6.2\n",
      "Enter the radius of 2nd circle: 5.2\n",
      "Area of 1st Circle > Area of 2nd Circle\n"
     ]
    }
   ],
   "source": [
    "# Ans 9- Below is the answer of Question 9.\n",
    "\n",
    "import math\n",
    "\n",
    "radius_1 = float(input(\"Enter the radius of 1st Circle: \"))\n",
    "radius_2 = float(input(\"Enter the radius of 2nd circle: \"))\n",
    "\n",
    "area_1 = math.pi*(radius_1**2)\n",
    "area_2 = math.pi*(radius_2**2)\n",
    "\n",
    "if area_1 == area_2:\n",
    "    print(\"Area is equal\")\n",
    "elif area_1 > area_2:\n",
    "    print(\"Area of 1st Circle > Area of 2nd Circle\")\n",
    "else:\n",
    "    print(\"Area of 2nd Circle > Area of 1st Circle\")"
   ]
  },
  {
   "cell_type": "code",
   "execution_count": 8,
   "metadata": {},
   "outputs": [
    {
     "name": "stdout",
     "output_type": "stream",
     "text": [
      "Enter the year: 2020\n",
      "2020 is a leap year\n"
     ]
    }
   ],
   "source": [
    "# Ans 10- Below is the answer of Question 10.\n",
    "\n",
    "year = int(input(\"Enter the year: \"))\n",
    "if((year % 400 == 0) or (year % 100 != 0) and (year % 4 == 0)):\n",
    "    print(f\"{year} is a leap year\")\n",
    "else:\n",
    "    print(f\"{year} is not a leap year\")"
   ]
  }
 ],
 "metadata": {
  "colab": {
   "collapsed_sections": [],
   "provenance": []
  },
  "kernelspec": {
   "display_name": "Python 3 (ipykernel)",
   "language": "python",
   "name": "python3"
  },
  "language_info": {
   "codemirror_mode": {
    "name": "ipython",
    "version": 3
   },
   "file_extension": ".py",
   "mimetype": "text/x-python",
   "name": "python",
   "nbconvert_exporter": "python",
   "pygments_lexer": "ipython3",
   "version": "3.9.7"
  }
 },
 "nbformat": 4,
 "nbformat_minor": 1
}
