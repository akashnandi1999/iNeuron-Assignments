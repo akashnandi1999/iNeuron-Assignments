{
 "cells": [
  {
   "cell_type": "markdown",
   "id": "24dd08dc",
   "metadata": {},
   "source": [
    "## Programming Assignment 13\n",
    "\n",
    "### - by Akash Nandi"
   ]
  },
  {
   "cell_type": "markdown",
   "id": "e2df6db9",
   "metadata": {},
   "source": [
    "### 1. Write a program that calculates and prints the value according to the given formula:\n",
    "### Q = Square root of [(2 * C * D)/H]\n",
    "### Following are the fixed values of C and H:\n",
    "### C is 50. H is 30.\n",
    "### D is the variable whose values should be input to your program in a comma-separated sequence.\n",
    "### Example\n",
    "### Let us assume the following comma separated input sequence is given to the program:\n",
    "### 100,150,180\n",
    "### The output of the program should be:\n",
    "### 18,22,24\n",
    "\n",
    "#### Solution :-"
   ]
  },
  {
   "cell_type": "code",
   "execution_count": 7,
   "id": "6bc082fb",
   "metadata": {},
   "outputs": [
    {
     "name": "stdout",
     "output_type": "stream",
     "text": [
      "Giver your input: 12,23,45\n",
      "The Result is: 40.0,76.67,150.0\n"
     ]
    }
   ],
   "source": [
    "c = 50\n",
    "h = 30\n",
    "\n",
    "user_input = input(\"Giver your input: \")\n",
    "\n",
    "d = user_input.split(\",\")\n",
    "\n",
    "for i in range(len(d)):\n",
    "    d[i] = str(round(((int(d[i]) * 2 * c)/h),2))\n",
    "\n",
    "res = \",\".join(d)\n",
    "print(f\"The Result is: {res}\")"
   ]
  },
  {
   "cell_type": "markdown",
   "id": "63374a30",
   "metadata": {},
   "source": [
    "### 2. Write a program which takes 2 digits, X,Y as input and generates a 2-dimensional array. The element value in the i-th row and j-th column of the array should be i*j. Note: i=0,1.., X-1; j=0,1,¡Y-1.\n",
    "### Example\n",
    "### Suppose the following inputs are given to the program:\n",
    "### 3,5\n",
    "### Then, the output of the program should be:\n",
    "### [[0, 0, 0, 0, 0], [0, 1, 2, 3, 4], [0, 2, 4, 6, 8]]\n",
    "\n",
    "\n",
    "\n",
    "#### Solution :-"
   ]
  },
  {
   "cell_type": "code",
   "execution_count": 14,
   "id": "09f9b8f9",
   "metadata": {},
   "outputs": [
    {
     "name": "stdout",
     "output_type": "stream",
     "text": [
      "Enter the value of X: 3\n",
      "Enter the value of Y: 5\n",
      "The result is: [[0, 0, 0, 0, 0], [0, 1, 2, 3, 4], [0, 2, 4, 6, 8]]\n"
     ]
    }
   ],
   "source": [
    "x = int(input(\"Enter the value of X: \"))\n",
    "y = int(input(\"Enter the value of Y: \"))\n",
    "\n",
    "l, b = [], []\n",
    "\n",
    "for i in range(x):\n",
    "    for j in range(y):\n",
    "        b.append(i*j)\n",
    "    l.append(b)\n",
    "    b = []\n",
    "\n",
    "print(f\"The result is: {l}\")"
   ]
  },
  {
   "cell_type": "markdown",
   "id": "fa49503a",
   "metadata": {},
   "source": [
    "### 3. Write a program that accepts a comma separated sequence of words as input and prints the words in a comma-separated sequence after sorting them alphabetically. \n",
    "### Suppose the following input is supplied to the program:           without,hello,bag,world\n",
    "### Then, the output should be:              bag,hello,without,world\n",
    "\n",
    "#### Solution :-"
   ]
  },
  {
   "cell_type": "code",
   "execution_count": 18,
   "id": "7c751224",
   "metadata": {},
   "outputs": [
    {
     "name": "stdout",
     "output_type": "stream",
     "text": [
      "Give your input: without,hello,bag,world\n",
      "The result is: bag,hello,without,world\n"
     ]
    }
   ],
   "source": [
    "user_input = input(\"Give your input: \")\n",
    "\n",
    "l = user_input.split(\",\")\n",
    "\n",
    "print(\"The result is:\",\",\".join(sorted(l)))"
   ]
  },
  {
   "cell_type": "markdown",
   "id": "6c5bf531",
   "metadata": {},
   "source": [
    "### 4. Write a program that accepts a sequence of whitespace separated words as input and prints the words after removing all duplicate words and sorting them alphanumerically.\n",
    "### Suppose the following input is supplied to the program: hello world and practice makes perfect and hello world again\n",
    "### Then, the output should be: again and hello makes perfect practice world"
   ]
  },
  {
   "cell_type": "code",
   "execution_count": 20,
   "id": "69aa3e00",
   "metadata": {},
   "outputs": [
    {
     "name": "stdout",
     "output_type": "stream",
     "text": [
      "Give your input: hello world and practice makes perfect and hello world again\n",
      "The result is: again and and hello hello makes perfect practice world world\n"
     ]
    }
   ],
   "source": [
    "user_input = input(\"Give your input: \")\n",
    "\n",
    "l = user_input.split(\" \")\n",
    "\n",
    "print(\"The result is:\",\" \".join(sorted(l)))"
   ]
  },
  {
   "cell_type": "markdown",
   "id": "754b85bf",
   "metadata": {},
   "source": [
    "### 5. Write a program that accepts a sentence and calculate the number of letters and digits.\n",
    "### Suppose the following input is supplied to the program: hello world! 123\n",
    "### Then, the output should be: LETTERS 10\n",
    "\n",
    "#### Solution :-"
   ]
  },
  {
   "cell_type": "code",
   "execution_count": 23,
   "id": "9e0437e5",
   "metadata": {},
   "outputs": [
    {
     "name": "stdout",
     "output_type": "stream",
     "text": [
      "Give an input: hello world! 123\n",
      "Letters = 10 and Digits = 3\n"
     ]
    }
   ],
   "source": [
    "user_input = input(\"Give an input: \")\n",
    "\n",
    "alp, dig = 0, 0\n",
    "\n",
    "for i in user_input:\n",
    "    if i.isalpha():\n",
    "        alp += 1\n",
    "    elif i.isdigit():\n",
    "        dig += 1\n",
    "    else:\n",
    "        pass\n",
    "\n",
    "print(f\"Letters = {alp} and Digits = {dig}\")"
   ]
  },
  {
   "cell_type": "markdown",
   "id": "c2752425",
   "metadata": {},
   "source": [
    "### A website requires the users to input username and password to register. Write a program to check the validity of password input by users. Following are the criteria for checking the password:\n",
    "#### 1. At least 1 letter between [a-z]\n",
    "#### 2. At least 1 number between [0-9]\n",
    "#### 1. At least 1 letter between [A-Z]\n",
    "#### 3. At least 1 character from [$#@]\n",
    "#### 4. Minimum length of transaction password: 6\n",
    "#### 5. Maximum length of transaction password: 12\n",
    "### Your program should accept a sequence of comma separated passwords and will check them according to the above criteria. Passwords that match the criteria are to be printed, each separated by a comma.\n",
    "### Example\n",
    "### If the following passwords are given as input to the program:\n",
    "### ABd1234@1,a F1#,2w3E*,2We3345\n",
    "### Then, the output of the program should be:\n",
    "### ABd1234@1"
   ]
  },
  {
   "cell_type": "code",
   "execution_count": 34,
   "id": "2e244b3c",
   "metadata": {},
   "outputs": [
    {
     "name": "stdout",
     "output_type": "stream",
     "text": [
      "Give Input: ABd1234@1,a F1#,2w3E*,2We3345\n",
      "ABd1234@1 "
     ]
    }
   ],
   "source": [
    "def passCheck(s):\n",
    "    small_ch = 0\n",
    "    cap_ch = 0\n",
    "    spe_ch = 0\n",
    "    num_ch = 0\n",
    "    if len(s)>=6 and len(s)<=12:\n",
    "        for i in s:\n",
    "            if i in small:\n",
    "                small_ch+=1\n",
    "            if i in cap:\n",
    "                cap_ch+=1\n",
    "            if i in num:\n",
    "                num_ch+=1\n",
    "            if i in spe:\n",
    "                spe_ch +=1\n",
    "        if small_ch>=1 and cap_ch>=1 and num_ch>=1 and spe_ch>=1 and small_ch+cap_ch+num_ch+spe_ch == len(s):\n",
    "            return True\n",
    "        else:\n",
    "            return False\n",
    "    return False\n",
    "\n",
    "small = \"abcdefghijklmnopqrstuvwxyz\"\n",
    "cap = \"ABCDEFGHIJKLMNOPQRSTUVWXYZ\"\n",
    "num = \"0123456789\"\n",
    "spe = \"$#@\"\n",
    "\n",
    "user_input = input(\"Give Input: \")\n",
    "\n",
    "l = user_input.split(\",\")\n",
    "\n",
    "for i in l:\n",
    "    if passCheck(i):\n",
    "        print(i, end = \" \")\n",
    "    else:\n",
    "        pass"
   ]
  }
 ],
 "metadata": {
  "kernelspec": {
   "display_name": "Python 3 (ipykernel)",
   "language": "python",
   "name": "python3"
  },
  "language_info": {
   "codemirror_mode": {
    "name": "ipython",
    "version": 3
   },
   "file_extension": ".py",
   "mimetype": "text/x-python",
   "name": "python",
   "nbconvert_exporter": "python",
   "pygments_lexer": "ipython3",
   "version": "3.9.7"
  }
 },
 "nbformat": 4,
 "nbformat_minor": 5
}
