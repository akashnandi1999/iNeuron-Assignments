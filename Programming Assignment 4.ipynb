{
 "cells": [
  {
   "cell_type": "markdown",
   "id": "47ddf3c8",
   "metadata": {},
   "source": [
    "## Programming Assignment 4 - Solution\n",
    "\n",
    "### - by Akash Nandi"
   ]
  },
  {
   "cell_type": "markdown",
   "id": "4b6bed42",
   "metadata": {},
   "source": [
    "#### 1. Write a Python Program to Find the Factorial of a Number?\n",
    "\n",
    "#### Solution :-"
   ]
  },
  {
   "cell_type": "code",
   "execution_count": 5,
   "id": "a381e5c1",
   "metadata": {},
   "outputs": [
    {
     "name": "stdout",
     "output_type": "stream",
     "text": [
      "Enter a number to find it's Factorial: 6\n",
      " The factorial of 6 = 720\n"
     ]
    }
   ],
   "source": [
    "def fact(n):\n",
    "    if n == 0 or n == 1:\n",
    "        return 1\n",
    "    else:\n",
    "        return n*fact(n-1)\n",
    "\n",
    "    \n",
    "    \n",
    "n = int(input(\"Enter a number to find it's Factorial: \"))\n",
    "\n",
    "print(f\" The factorial of {n} = {fact(n)}\")\n",
    "\n"
   ]
  },
  {
   "cell_type": "markdown",
   "id": "216b0dbd",
   "metadata": {},
   "source": [
    "#### 2. Write a Python Program to Display the multiplication Table?\n",
    "\n",
    "#### Solution :-"
   ]
  },
  {
   "cell_type": "code",
   "execution_count": 69,
   "id": "03085d56",
   "metadata": {},
   "outputs": [
    {
     "name": "stdout",
     "output_type": "stream",
     "text": [
      "Enter a number to find it's Multiplication Table: 5\n",
      "\n",
      "\n",
      "Below is the multiplication table of 5:\n",
      "1 x 5 = 5\n",
      "2 x 5 = 10\n",
      "3 x 5 = 15\n",
      "4 x 5 = 20\n",
      "5 x 5 = 25\n",
      "6 x 5 = 30\n",
      "7 x 5 = 35\n",
      "8 x 5 = 40\n",
      "9 x 5 = 45\n",
      "10 x 5 = 50\n",
      "This is the final Output\n"
     ]
    }
   ],
   "source": [
    "def mulTable(n):\n",
    "    for i in range(1,11):\n",
    "        print(f\"{i} x {n} = {i*n}\")\n",
    "    return (\"This is the final Output\")\n",
    "\n",
    "n = int(input(\"Enter a number to find it's Multiplication Table: \"))\n",
    "print(\"\\n\")\n",
    "\n",
    "print(f\"Below is the multiplication table of {n}:\")\n",
    "print(mulTable(n))"
   ]
  },
  {
   "cell_type": "markdown",
   "id": "77f0eb96",
   "metadata": {},
   "source": [
    "#### 3. Write a Python Program to Print the Fibonacci sequence?\n",
    "\n",
    "#### Solution :-"
   ]
  },
  {
   "cell_type": "code",
   "execution_count": 52,
   "id": "47615bc4",
   "metadata": {},
   "outputs": [
    {
     "name": "stdout",
     "output_type": "stream",
     "text": [
      "Enter a number to get the fibonacci sequence upto that number: 7\n",
      "0 1 1 2 3 5 8 13 21 "
     ]
    }
   ],
   "source": [
    "n = int(input(\"Enter a number to get the fibonacci sequence upto that number: \"))\n",
    "\n",
    "a = 0\n",
    "b = 1\n",
    "sum = 0\n",
    "\n",
    "print(a, end=\" \")\n",
    "print(b, end=\" \")\n",
    "\n",
    "i = 1\n",
    "while(i <= n):\n",
    "    sum = a + b\n",
    "    print(sum, end=\" \")\n",
    "    a = b\n",
    "    b = sum\n",
    "    i+=1"
   ]
  },
  {
   "cell_type": "markdown",
   "id": "20ad5ef3",
   "metadata": {},
   "source": [
    "#### 4. Write a Python Program to Check Armstrong Number?\n",
    "\n",
    "#### Solution :-"
   ]
  },
  {
   "cell_type": "code",
   "execution_count": 56,
   "id": "3114df5a",
   "metadata": {},
   "outputs": [
    {
     "name": "stdout",
     "output_type": "stream",
     "text": [
      "Enter a number to check for Armstrong Number: 1634\n",
      "1634 is an Armstrong Number\n"
     ]
    }
   ],
   "source": [
    "def armstrong(num):\n",
    "    n = num\n",
    "    res = 0\n",
    "    p = len(str(n))\n",
    "    if n < 0:\n",
    "        return (\"Invalid Input\")\n",
    "    else:\n",
    "        while n > 0:\n",
    "            rem = n%10\n",
    "            res = res+(rem**p)\n",
    "            n = n//10\n",
    "    return res\n",
    "\n",
    "num = int(input(\"Enter a number to check for Armstrong Number: \"))\n",
    "\n",
    "if armstrong(num) == num:\n",
    "    print(f\"{num} is an Armstrong Number\")\n",
    "else:\n",
    "    print(f\"{num} is not an Armstrong Number\")"
   ]
  },
  {
   "cell_type": "markdown",
   "id": "be5d97de",
   "metadata": {},
   "source": [
    "#### 5. Write a Python Program to Find Armstrong Number in an Interval?\n",
    "\n",
    "#### Solution :-"
   ]
  },
  {
   "cell_type": "code",
   "execution_count": 66,
   "id": "e5f482e5",
   "metadata": {},
   "outputs": [
    {
     "name": "stdout",
     "output_type": "stream",
     "text": [
      "Enter the lower bound: 100\n",
      "Enter the upper bound: 10000\n",
      "\n",
      "\n",
      "Below are the Armstrong Numbers between 100 and 10000:  \n",
      "153 370 371 407 1634 8208 9474 "
     ]
    }
   ],
   "source": [
    "def armstrong(num):\n",
    "    n = num\n",
    "    res = 0\n",
    "    p = len(str(n))\n",
    "    if n < 0:\n",
    "        return (\"Invalid Input\")\n",
    "    else:\n",
    "        while n > 0:\n",
    "            rem = n%10\n",
    "            res = res+(rem**p)\n",
    "            n = n//10\n",
    "    return res\n",
    "\n",
    "\n",
    "lower_bound = int(input(\"Enter the lower bound: \"))\n",
    "upper_bound = int(input(\"Enter the upper bound: \"))\n",
    "\n",
    "print(\"\\n\")\n",
    "print(f\"Below are the Armstrong Numbers between {lower_bound} and {upper_bound}: \",\"\\r\")\n",
    "for num in range(lower_bound, upper_bound+1):\n",
    "    if armstrong(num) == num:\n",
    "        print(num, end=\" \")"
   ]
  },
  {
   "cell_type": "markdown",
   "id": "529eaa6a",
   "metadata": {},
   "source": [
    "#### 6. Write a Python Program to Find the Sum of Natural Numbers?\n",
    "\n",
    "#### Solution :-"
   ]
  },
  {
   "cell_type": "code",
   "execution_count": 64,
   "id": "7eb21410",
   "metadata": {},
   "outputs": [
    {
     "name": "stdout",
     "output_type": "stream",
     "text": [
      "Enter a number: 89\n",
      "\n",
      "\n",
      "Sum of 89 Natural Numbers are: 4005.0\n"
     ]
    }
   ],
   "source": [
    "def sumNatural(num):\n",
    "    sum = num*(num+1)/2\n",
    "    return sum\n",
    "\n",
    "num = int(input(\"Enter a number: \"))\n",
    "\n",
    "print(\"\\n\")\n",
    "print(f\"Sum of {num} Natural Numbers are: {sumNatural(num)}\")"
   ]
  }
 ],
 "metadata": {
  "kernelspec": {
   "display_name": "Python 3 (ipykernel)",
   "language": "python",
   "name": "python3"
  },
  "language_info": {
   "codemirror_mode": {
    "name": "ipython",
    "version": 3
   },
   "file_extension": ".py",
   "mimetype": "text/x-python",
   "name": "python",
   "nbconvert_exporter": "python",
   "pygments_lexer": "ipython3",
   "version": "3.9.7"
  }
 },
 "nbformat": 4,
 "nbformat_minor": 5
}
