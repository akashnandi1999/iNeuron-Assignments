{
 "cells": [
  {
   "cell_type": "markdown",
   "id": "917de72a",
   "metadata": {},
   "source": [
    "## Python Assignment\n",
    "\n",
    "## - by Akash Nandi"
   ]
  },
  {
   "cell_type": "markdown",
   "id": "0634d518",
   "metadata": {},
   "source": [
    "#### 1. Write a function which will try to find out len of a string without using an inbuilt len function.\n",
    "\n",
    "#### Solution :-"
   ]
  },
  {
   "cell_type": "code",
   "execution_count": 2,
   "id": "8bdaeca2",
   "metadata": {},
   "outputs": [
    {
     "name": "stdout",
     "output_type": "stream",
     "text": [
      "Enter any string: asgsag\n",
      "Length of the string is:  6\n"
     ]
    }
   ],
   "source": [
    "def stringLength(s):\n",
    "    c = 0\n",
    "    for i in s:\n",
    "        c+=1\n",
    "    return c\n",
    "\n",
    "dummyString = input(\"Enter any string: \")\n",
    "\n",
    "print(\"Length of the string is: \",stringLength(dummyString))"
   ]
  },
  {
   "cell_type": "markdown",
   "id": "d3c83734",
   "metadata": {},
   "source": [
    "#### 2. Write a function which  will be able to print an index of list element without using an index function.\n",
    "\n",
    "#### Solution :-"
   ]
  },
  {
   "cell_type": "code",
   "execution_count": 24,
   "id": "018f82a9",
   "metadata": {},
   "outputs": [
    {
     "name": "stdout",
     "output_type": "stream",
     "text": [
      "Enter the element to get it's index: 6\n"
     ]
    },
    {
     "data": {
      "text/plain": [
       "'The index number of element 6 is 3'"
      ]
     },
     "execution_count": 24,
     "metadata": {},
     "output_type": "execute_result"
    }
   ],
   "source": [
    "def printIndex(lst,element):\n",
    "    for i in range(len(lst)):\n",
    "        if lst[i] == element:\n",
    "            return f\"The index number of element {element} is {i}\"\n",
    "    else:\n",
    "        return \"Element is not present in the list\"\n",
    "    \n",
    "lst = [2, 4, 5, 6, 7, 8, 9, 12]\n",
    "\n",
    "element = int(input(\"Enter the element to get it's index: \"))\n",
    "\n",
    "printIndex(lst,element)"
   ]
  },
  {
   "cell_type": "markdown",
   "id": "266932d7",
   "metadata": {},
   "source": [
    "#### 3. Write a function which will be able to print an ip address of your system.\n",
    "\n",
    "#### Solution :-"
   ]
  },
  {
   "cell_type": "code",
   "execution_count": 46,
   "id": "4daee45a",
   "metadata": {},
   "outputs": [
    {
     "name": "stdout",
     "output_type": "stream",
     "text": [
      "Your Computer's IP Address is: 192.168.0.102\n"
     ]
    }
   ],
   "source": [
    "import socket\n",
    "\n",
    "def printIP(hn): \n",
    "    return socket.gethostbyname(hn)\n",
    "    \n",
    "hn = socket.gethostname()\n",
    "print(\"Your Computer's IP Address is:\", printIP(hn))"
   ]
  },
  {
   "cell_type": "markdown",
   "id": "c82778e1",
   "metadata": {},
   "source": [
    "#### 4. write a function which will shutdown your system.\n",
    "\n",
    "#### Solution :-"
   ]
  },
  {
   "cell_type": "code",
   "execution_count": null,
   "id": "b5ca2409",
   "metadata": {},
   "outputs": [],
   "source": [
    "import os\n",
    "\n",
    "def shutdown(sd):\n",
    "    if sd != \"Yes\" or sd != \"YES\":\n",
    "        exit()\n",
    "    else:\n",
    "        os.system(\"shutdown /s /t 1\")\n",
    "\n",
    "        \n",
    "sdSystem = input(\"Do you want to Shut Down the system ? (Yes/No): \")\n",
    "\n",
    "shutdown(sdSystem)"
   ]
  },
  {
   "cell_type": "markdown",
   "id": "547fd484",
   "metadata": {},
   "source": [
    "#### 5. Write a function which will take input as a list with any kind of numeric value and give an out as a multiplication of all the numeric data l = [3.5, 6.56, 4,5,\"sudh\" , \"ineuron\" , 'fsda bootcamp 2.0']\n",
    "\n",
    "#### Solution :-"
   ]
  },
  {
   "cell_type": "code",
   "execution_count": 50,
   "id": "1503968a",
   "metadata": {},
   "outputs": [
    {
     "data": {
      "text/plain": [
       "459.19999999999993"
      ]
     },
     "execution_count": 50,
     "metadata": {},
     "output_type": "execute_result"
    }
   ],
   "source": [
    "def mulnumeric(lst):\n",
    "    product = 1\n",
    "    for i in lst:\n",
    "        if isinstance(i, int) or isinstance(i, float):\n",
    "            product *= i\n",
    "    return product\n",
    "\n",
    "l = [3.5, 6.56, 4,5,\"sudh\" , \"ineuron\" , 'fsda bootcamp 2.0']\n",
    "\n",
    "mulnumeric(l)"
   ]
  },
  {
   "cell_type": "markdown",
   "id": "32d64a41",
   "metadata": {},
   "source": [
    "#### 6. Write a function which will be able to read all the mails.\n",
    "\n",
    "#### Solution :-"
   ]
  },
  {
   "cell_type": "code",
   "execution_count": null,
   "id": "6fe817b8",
   "metadata": {},
   "outputs": [],
   "source": []
  }
 ],
 "metadata": {
  "kernelspec": {
   "display_name": "Python 3 (ipykernel)",
   "language": "python",
   "name": "python3"
  },
  "language_info": {
   "codemirror_mode": {
    "name": "ipython",
    "version": 3
   },
   "file_extension": ".py",
   "mimetype": "text/x-python",
   "name": "python",
   "nbconvert_exporter": "python",
   "pygments_lexer": "ipython3",
   "version": "3.9.7"
  }
 },
 "nbformat": 4,
 "nbformat_minor": 5
}
