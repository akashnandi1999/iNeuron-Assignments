{
 "cells": [
  {
   "cell_type": "markdown",
   "id": "271d0a58",
   "metadata": {},
   "source": [
    "## Assignment - 3\n",
    "\n",
    "### - by Akash Nandi"
   ]
  },
  {
   "cell_type": "markdown",
   "id": "4eed0dc9",
   "metadata": {},
   "source": [
    "### 1. Why are functions advantageous to have in your programs ?\n",
    "\n",
    "#### Solution : - Functions help to reduce the need for redundancy / duplicacy of a code. Hence they are advantageous in programs.\n",
    "\n",
    "#### ---------------------------------------------------------------------------------------------------------------------------------"
   ]
  },
  {
   "cell_type": "markdown",
   "id": "f26cffe8",
   "metadata": {},
   "source": [
    "### 2. When does the code in a function run: when it is specified or when it is called ?\n",
    "\n",
    "#### Solution :- A function is defined by using the def keyword, followed by a name , followed by a set of parentheses that holds any parameters the function will take (can be empty), and ending with a colon.\n",
    "\n",
    "#### ---------------------------------------------------------------------------------------------------------------------------------"
   ]
  },
  {
   "cell_type": "markdown",
   "id": "595ae114",
   "metadata": {},
   "source": [
    "### 4. What is the difference between a function and a function call ?\n",
    "\n",
    "#### Solution :- A function is a block of code that performs a particular operation by accepting inputs as parameters(not mandatory) and returns a result. A function call is the code used to pass control to a function.\n",
    "\n",
    "#### ---------------------------------------------------------------------------------------------------------------------------------"
   ]
  },
  {
   "cell_type": "markdown",
   "id": "7dd74df3",
   "metadata": {},
   "source": [
    "### 5. How many global scopes are there in a Python program? How many local scopes ?\n",
    "\n",
    "#### Solution :- Global Scope = 1,  Local Scope  = It is created whenever a function is called.\n",
    "\n",
    "#### ---------------------------------------------------------------------------------------------------------------------------------"
   ]
  },
  {
   "cell_type": "markdown",
   "id": "3c456de6",
   "metadata": {},
   "source": [
    "### 6. What happens to variables in a local scope when the function call returns ?\n",
    "\n",
    "#### Solution :- The variables in local scope get destroyed when the function calls returns.\n",
    "\n",
    "#### ---------------------------------------------------------------------------------------------------------------------------------"
   ]
  },
  {
   "cell_type": "markdown",
   "id": "daa0f3b1",
   "metadata": {},
   "source": [
    "### 7. What is the concept of a return value ? Is it possible to have a return value in an expression ?\n",
    "\n",
    "#### Solution :- A return is a value that a function provides to the calling script or function when it's task is completed. There are 4 types of return values- Integer, String, Object and Handle. Yes, It is possible to have a return value in an expression.\n",
    "\n",
    "#### ---------------------------------------------------------------------------------------------------------------------------------"
   ]
  },
  {
   "cell_type": "markdown",
   "id": "a6690294",
   "metadata": {},
   "source": [
    "### 8. If a function does not have a return statement, what is the return value of a call to that function ?\n",
    "\n",
    "#### Solution :- If a function does not have a return statement, bydefault it returns None.\n",
    "\n",
    "#### ---------------------------------------------------------------------------------------------------------------------------------"
   ]
  },
  {
   "cell_type": "markdown",
   "id": "ead6b371",
   "metadata": {},
   "source": [
    "### 9. How do you make a function variable refer to the global variable ?\n",
    "\n",
    "#### Solution :- By using the global keyword, we can make a function variable refer to the global variable.\n",
    "\n",
    "#### ---------------------------------------------------------------------------------------------------------------------------------"
   ]
  },
  {
   "cell_type": "markdown",
   "id": "3498aae6",
   "metadata": {},
   "source": [
    "### 10. What is the data type of None ?\n",
    "\n",
    "#### Solution :- The data type of None is NoneType.\n",
    "\n",
    "#### ---------------------------------------------------------------------------------------------------------------------------------"
   ]
  },
  {
   "cell_type": "markdown",
   "id": "54b63b89",
   "metadata": {},
   "source": [
    "### 11. What does the sentence import areallyourpetsnamederic do ?\n",
    "\n",
    "#### Solution :- It imports a module named as areallyourpetsnamederic.\n",
    "\n",
    "#### ---------------------------------------------------------------------------------------------------------------------------------"
   ]
  },
  {
   "cell_type": "markdown",
   "id": "2cc84acc",
   "metadata": {},
   "source": [
    "### 12. If you had a bacon() feature in a spam module, what would you call it after importing spam?\n",
    "\n",
    "#### Solution :- We can write spam.bacon() to call it.\n",
    "\n",
    "#### ---------------------------------------------------------------------------------------------------------------------------------"
   ]
  },
  {
   "cell_type": "markdown",
   "id": "7a20c431",
   "metadata": {},
   "source": [
    "### 13. What can you do to save a programme from crashing if it encounters an error ?\n",
    "\n",
    "#### Solution :- Usinf of try-catch block will save a programme from crashing if it encounter an error.\n",
    "\n",
    "#### ---------------------------------------------------------------------------------------------------------------------------------"
   ]
  },
  {
   "cell_type": "markdown",
   "id": "eac18769",
   "metadata": {},
   "source": [
    "### 14. What is the purpose of the try clause ? What is the purpose of the except clause ?\n",
    "\n",
    "#### Solution :- The piece of code that can throw an error is written inside the try block and the code which will execute when an error occurs is written inside the catch block.\n",
    "\n",
    "#### ---------------------------------------------------------------------------------------------------------------------------------"
   ]
  }
 ],
 "metadata": {
  "kernelspec": {
   "display_name": "Python 3 (ipykernel)",
   "language": "python",
   "name": "python3"
  },
  "language_info": {
   "codemirror_mode": {
    "name": "ipython",
    "version": 3
   },
   "file_extension": ".py",
   "mimetype": "text/x-python",
   "name": "python",
   "nbconvert_exporter": "python",
   "pygments_lexer": "ipython3",
   "version": "3.9.7"
  }
 },
 "nbformat": 4,
 "nbformat_minor": 5
}
