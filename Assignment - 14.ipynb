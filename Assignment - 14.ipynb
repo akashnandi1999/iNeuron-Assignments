{
 "cells": [
  {
   "cell_type": "markdown",
   "id": "4062f61d",
   "metadata": {},
   "source": [
    "## Assignment - 14\n",
    "\n",
    "### - by Akash Nandi"
   ]
  },
  {
   "cell_type": "markdown",
   "id": "e968fca3",
   "metadata": {},
   "source": [
    "### 1. What does RGBA stand for ?\n",
    "\n",
    "#### Solution :- R - Red, G - Green, B - Blue, A - Alpha. The RGB color model is extended form of RGB to include “alpha” to allow specification of the opacity of a color.\n",
    "#### ----------------------------------------------------------------------------------------------------------------------------------------------------------------------------------------"
   ]
  },
  {
   "cell_type": "markdown",
   "id": "078c9b3a",
   "metadata": {},
   "source": [
    "### 2. From the Pillow module, how do you get the RGBA value of any images ?\n",
    "\n",
    "#### Solution :- ImageColor.getcolor() gives RGBA value of any image."
   ]
  },
  {
   "cell_type": "markdown",
   "id": "c87e4f13",
   "metadata": {},
   "source": [
    "### 3. What is a box tuple, and how does it work ?\n",
    "\n",
    "#### Solution :- A box tuple is a tuple value of four integers: the left-edge x-coordinate, the top-edge y-coordinate,the width, and the height, respectively."
   ]
  },
  {
   "cell_type": "markdown",
   "id": "6e8fffe8",
   "metadata": {},
   "source": [
    "### 4. Use your image and load in notebook then, How can you find out the width and height of an Image object ?\n",
    "\n",
    "#### Solution :- "
   ]
  },
  {
   "cell_type": "code",
   "execution_count": 2,
   "id": "d33f059a",
   "metadata": {},
   "outputs": [
    {
     "name": "stdout",
     "output_type": "stream",
     "text": [
      "Width, Height: (1024, 576)\n"
     ]
    }
   ],
   "source": [
    "from PIL import Image\n",
    "img = Image.open('C:/Users/anandi/Desktop/Python Programming/iNeuron Assignments and Programs/Shiv.jpg')\n",
    "print(f'Width, Height: {img.size}')"
   ]
  },
  {
   "cell_type": "markdown",
   "id": "0a466749",
   "metadata": {},
   "source": [
    "### 5. What method would you call to get Image object for a 100×100 image, excluding the lower-left quarter of it ?\n",
    "\n",
    "#### Solution :-"
   ]
  },
  {
   "cell_type": "code",
   "execution_count": 4,
   "id": "02b8141a",
   "metadata": {},
   "outputs": [],
   "source": [
    "img = Image.open('C:/Users/anandi/Desktop/Python Programming/iNeuron Assignments and Programs/Shiv.jpg')\n",
    "new_img = img.crop((0,50,50,50))"
   ]
  },
  {
   "cell_type": "markdown",
   "id": "3a3d3173",
   "metadata": {},
   "source": [
    "### 6. After making changes to an Image object, how could you save it as an image file ?\n",
    "\n",
    "#### Solution :-"
   ]
  },
  {
   "cell_type": "code",
   "execution_count": 6,
   "id": "ef10ea2f",
   "metadata": {},
   "outputs": [],
   "source": [
    "img = Image.open('C:/Users/anandi/Desktop/Python Programming/iNeuron Assignments and Programs/Shiv.jpg')\n",
    "img.save('C:/Users/anandi/Desktop/Python Programming/iNeuron Assignments and Programs/Shiv.jpg')"
   ]
  },
  {
   "cell_type": "markdown",
   "id": "a3877f84",
   "metadata": {},
   "source": [
    "### 7. What module contains Pillow’s shape-drawing code ?\n",
    "\n",
    "#### Solution :- ImageDraw module contains Pillow's shape-drawing code."
   ]
  },
  {
   "cell_type": "markdown",
   "id": "7dc360bf",
   "metadata": {},
   "source": [
    "### 8. Image objects do not have drawing methods. What kind of object does? How do you get this kind of object ?\n",
    "\n",
    "#### Solution :- ImageDraw objects have shape-drawing methods such as point(), line(), or rectangle().They are returned by passing the Image object to the ImageDraw.Draw() function."
   ]
  }
 ],
 "metadata": {
  "kernelspec": {
   "display_name": "Python 3 (ipykernel)",
   "language": "python",
   "name": "python3"
  },
  "language_info": {
   "codemirror_mode": {
    "name": "ipython",
    "version": 3
   },
   "file_extension": ".py",
   "mimetype": "text/x-python",
   "name": "python",
   "nbconvert_exporter": "python",
   "pygments_lexer": "ipython3",
   "version": "3.9.7"
  }
 },
 "nbformat": 4,
 "nbformat_minor": 5
}
