{
 "cells": [
  {
   "cell_type": "markdown",
   "id": "1f603623",
   "metadata": {},
   "source": [
    "## Assignment - 4\n",
    "\n",
    "### - by Akash Nandi"
   ]
  },
  {
   "cell_type": "markdown",
   "id": "e901c547",
   "metadata": {},
   "source": [
    "### 1. What exactly is []?\n",
    "\n",
    "#### Solution :- [] represents an empty list. \n",
    "#### ---------------------------------------------------------------------------------------------------------------------------------------------------------"
   ]
  },
  {
   "cell_type": "markdown",
   "id": "71a1a299",
   "metadata": {},
   "source": [
    "### 2. In a list of values stored in a variable called spam, how would you assign the value \"hello\" as the third value? (Assume [2, 4, 6, 8, 10] are in spam.)\n",
    "\n",
    "#### Solution :-  spam.insert(2, \"hello\")\n",
    "#### ---------------------------------------------------------------------------------------------------------------------------------------------------------"
   ]
  },
  {
   "cell_type": "markdown",
   "id": "775b8b73",
   "metadata": {},
   "source": [
    "### Let's pretend the spam includes the list ['a',  'b', 'c', 'd'] for the next three queries."
   ]
  },
  {
   "cell_type": "markdown",
   "id": "e95275a7",
   "metadata": {},
   "source": [
    "### 3. What is the value of spam[int(int('3' * 2) / 11)] ?\n",
    "\n",
    "#### Solution :- Output is 'd'\n",
    "#### ---------------------------------------------------------------------------------------------------------------------------------------------------------"
   ]
  },
  {
   "cell_type": "markdown",
   "id": "01c006b7",
   "metadata": {},
   "source": [
    "### 4. What is the value of spam[-1]?\n",
    "\n",
    "#### Solution :- Output is 'd'\n",
    "#### ----------------------------------------------------------------------------------------------------------------------------------------------------------"
   ]
  },
  {
   "cell_type": "markdown",
   "id": "0a43a9b6",
   "metadata": {},
   "source": [
    "### 5. What is the value of spam[:2]?\n",
    "\n",
    "#### Solution :-  Output is ['a', 'b']\n",
    "#### ---------------------------------------------------------------------------------------------------------------------------------------------------------------"
   ]
  },
  {
   "cell_type": "markdown",
   "id": "3d43fd0c",
   "metadata": {},
   "source": [
    "### Let's pretend bacon has the list [3.14, 'cat', 11, 'cat', True] for the next three questions."
   ]
  },
  {
   "cell_type": "markdown",
   "id": "d485c630",
   "metadata": {},
   "source": [
    "### 6. What is the value of bacon.index('cat')?\n",
    "\n",
    "#### Solution :- Output is 1\n",
    "#### -----------------------------------------------------------------------------------------------------------------------------------------------------------------"
   ]
  },
  {
   "cell_type": "markdown",
   "id": "f9155f9e",
   "metadata": {},
   "source": [
    "### 7. How does bacon.append(99) change the look of the list value in bacon ?\n",
    "\n",
    "#### Solution :- Output is [3.14, 'cat', 11, 'cat', True, 99]\n",
    "#### -----------------------------------------------------------------------------------------------------------------------------------------------------------------"
   ]
  },
  {
   "cell_type": "markdown",
   "id": "1a237ef1",
   "metadata": {},
   "source": [
    "### 8. How does bacon.remove('cat') change the look of the list in bacon ?\n",
    "\n",
    "#### Solution :-  Output is [3.14, 11, 'cat', True, 99]\n",
    "#### ----------------------------------------------------------------------------------------------------------------------------------------------------------------------"
   ]
  },
  {
   "cell_type": "markdown",
   "id": "ecdb9d09",
   "metadata": {},
   "source": [
    "### 9. What are the list concatenation and list replication operators ?\n",
    "\n",
    "#### Solution :- For List Concatenation we use \"+\" Operator and for List Replication we use \"*\"  Operator.\n",
    "#### -----------------------------------------------------------------------------------------------------------------------------------------------------------------------"
   ]
  },
  {
   "cell_type": "markdown",
   "id": "9edd3d47",
   "metadata": {},
   "source": [
    "### 10. What is difference between the list methods append() and insert() ?\n",
    "\n",
    "#### Solution :- append() method always inserts an iteam at the end of the list but insert() method can help us insert an item at any position in the list. \n",
    "#### -----------------------------------------------------------------------------------------------------------------------------------------------------------------------"
   ]
  },
  {
   "cell_type": "markdown",
   "id": "15d270a7",
   "metadata": {},
   "source": [
    "### 11. What are the two methods for removing items from a list ?\n",
    "\n",
    "#### Solution :- remove() and pop() are the two methods for removing items from a list.\n",
    "#### ----------------------------------------------------------------------------------------------------------------------------------------------------------------------------"
   ]
  },
  {
   "cell_type": "markdown",
   "id": "a2cf94d0",
   "metadata": {},
   "source": [
    "### 12. Describe how list values and string values are identical.\n",
    "\n",
    "#### Solution :- Both String and List have a certain length. The values in String and in a List can be accessed by their index number.\n",
    "#### ----------------------------------------------------------------------------------------------------------------------------------------------------------------------------"
   ]
  },
  {
   "cell_type": "markdown",
   "id": "fd8f1551",
   "metadata": {},
   "source": [
    "### 13. What is the difference between tuples and lists?\n",
    "\n",
    "#### Solution :- Tuples are Immutable but Lists are Mutable.\n",
    "#### ----------------------------------------------------------------------------------------------------------------------------------------------------------------------------\n"
   ]
  },
  {
   "cell_type": "markdown",
   "id": "03ee05f9",
   "metadata": {},
   "source": [
    "### 14. How do you type a tuple value that only contains the integer 42 ?\n",
    "\n",
    "#### Solution :-                    t = (42,) "
   ]
  },
  {
   "cell_type": "markdown",
   "id": "f6c6860b",
   "metadata": {},
   "source": [
    "### 15. How do you get a list value's tuple form? How do you get a tuple value's list form ?\n",
    "\n",
    "#### Solution :- We can typecast a list to a tuple to get a list value's tuple form. For example: tuple([1,2,3,4]). Similarly we can typecast a tuple to a list to get a tuple value's list form. For Example: list((1,2,3,4)).\n",
    "\n",
    "#### ----------------------------------------------------------------------------------------------------------------------------------------------------------------------------------"
   ]
  },
  {
   "cell_type": "markdown",
   "id": "0ea6723b",
   "metadata": {},
   "source": [
    "### 16. Variables that &quot;contain&quot; list values are not necessarily lists themselves. Instead, what do they contain ?\n",
    "\n",
    "#### Solution :-  They contain the references to the list values.\n",
    "#### ------------------------------------------------------------------------------------------------------------------------------------------------------------------------------"
   ]
  },
  {
   "cell_type": "markdown",
   "id": "fe6f09f8",
   "metadata": {},
   "source": [
    "### 17. How do you distinguish between copy.copy() and copy.deepcopy()?\n",
    "\n",
    "#### Solution :- copy() method creates reference to original object. If you change copied object - you change the original object. deepcopy() method creates new object and does real copying of original object to new one."
   ]
  }
 ],
 "metadata": {
  "kernelspec": {
   "display_name": "Python 3 (ipykernel)",
   "language": "python",
   "name": "python3"
  },
  "language_info": {
   "codemirror_mode": {
    "name": "ipython",
    "version": 3
   },
   "file_extension": ".py",
   "mimetype": "text/x-python",
   "name": "python",
   "nbconvert_exporter": "python",
   "pygments_lexer": "ipython3",
   "version": "3.9.7"
  }
 },
 "nbformat": 4,
 "nbformat_minor": 5
}
