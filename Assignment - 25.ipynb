{
 "cells": [
  {
   "cell_type": "markdown",
   "id": "4152210f",
   "metadata": {},
   "source": [
    "## Assignment - 25\n",
    "\n",
    "### - by Akash Nandi"
   ]
  },
  {
   "cell_type": "markdown",
   "id": "ed3b7251",
   "metadata": {},
   "source": [
    "### 1) . What is the difference between enclosing a list comprehension in square brackets and parentheses ?\n",
    "\n",
    "#### Solution :- If we enclose a list comprehension in square brackets it will become a list and in parentheses it will become tuple."
   ]
  },
  {
   "cell_type": "code",
   "execution_count": 1,
   "id": "37cfdc38",
   "metadata": {},
   "outputs": [
    {
     "name": "stdout",
     "output_type": "stream",
     "text": [
      "<class 'list'>\n",
      "<class 'tuple'>\n"
     ]
    }
   ],
   "source": [
    "l1 = [1,2,3,4,5]\n",
    "print(type(l1))\n",
    "l2 = (1,2,3,4,5)\n",
    "print(type(l2))"
   ]
  },
  {
   "cell_type": "markdown",
   "id": "f0c321fa",
   "metadata": {},
   "source": [
    "### 2) What is the relationship between generators and iterators ?\n",
    "\n",
    "#### Solution :- Iterators are the objects that use the next() method to get the next value of the sequence, whereas generator is a function that produces or yields a sequence of values using a yield statement. Classes are used to Implement the iterators, functions are used to implement the generator. No local variables are used in Iterators, all the local variables are stored before the yield statement. Iterators in python are less memory efficient, generators in Python are more memory efficient.\n",
    "#### ----------------------------------------------------------------------------------------------------------------------------------------------------------------------------------------"
   ]
  },
  {
   "cell_type": "markdown",
   "id": "65dc4ad6",
   "metadata": {},
   "source": [
    "### 3) What are the signs that a function is a generator function ?\n",
    "\n",
    "#### Solution :- If a function contains at least one yield statement (it may contain other yield or return statements), it becomes a generator function."
   ]
  },
  {
   "cell_type": "code",
   "execution_count": 3,
   "id": "e3407339",
   "metadata": {},
   "outputs": [
    {
     "name": "stdout",
     "output_type": "stream",
     "text": [
      "o\n",
      "l\n",
      "l\n",
      "e\n",
      "h\n"
     ]
    }
   ],
   "source": [
    "def rev_str(my_str):\n",
    "    length = len(my_str)\n",
    "    for i in range(length - 1, -1, -1):\n",
    "        yield my_str[i]\n",
    "\n",
    "\n",
    "for char in rev_str(\"hello\"):\n",
    "    print(char)"
   ]
  },
  {
   "cell_type": "markdown",
   "id": "65eac70d",
   "metadata": {},
   "source": [
    "### 4) What is the purpose of a yield statement ?\n",
    "\n",
    "#### Solution :- The Yield keyword in Python is similar to a return statement used for returning values or objects in Python. However, there is a slight difference. The yield statement returns a generator object to the one who calls the function which contains yield, instead of simply returning a value.\n",
    "#### ----------------------------------------------------------------------------------------------------------------------------------------------------------------------------------------"
   ]
  },
  {
   "cell_type": "markdown",
   "id": "38f570db",
   "metadata": {},
   "source": [
    "### 5) What is the relationship between map calls and list comprehensions? Make a comparison and contrast between the two.\n",
    "\n",
    "#### Solution :- List comprehension returns a list, whereas the map function returns an object of Iterable. List comprehension is more concise and easier to read as compared to map. List comprehension allows filtering. In map, we have no such facility. For example, to print all even numbers in range of 100, we can write [n for n in range(100) if n%2 == 0]. There is no alternate for it in map."
   ]
  },
  {
   "cell_type": "code",
   "execution_count": 5,
   "id": "9bb7b7a0",
   "metadata": {},
   "outputs": [
    {
     "name": "stdout",
     "output_type": "stream",
     "text": [
      "<map object at 0x000002033451BEE0>\n",
      "[4, 88, 11.0, 12, -14]\n"
     ]
    }
   ],
   "source": [
    "# example of map.\n",
    "\n",
    "def num (n) :\n",
    "    return n * 2\n",
    "          \n",
    "lst = [2, 44, 5.5, 6, -7]\n",
    "\n",
    "x = map(num, lst) \n",
    "print(x)\n",
    "print(list(x))"
   ]
  },
  {
   "cell_type": "code",
   "execution_count": 6,
   "id": "efc87830",
   "metadata": {},
   "outputs": [
    {
     "name": "stdout",
     "output_type": "stream",
     "text": [
      "[4, 88, 11.0, 12, -14]\n"
     ]
    }
   ],
   "source": [
    "# example of list comprehensions.\n",
    "\n",
    "lst = [2, 44, 5.5, 6, -7]\n",
    "\n",
    "new_lst = [n*2 for n in lst]\n",
    "\n",
    "print(new_lst)"
   ]
  }
 ],
 "metadata": {
  "kernelspec": {
   "display_name": "Python 3 (ipykernel)",
   "language": "python",
   "name": "python3"
  },
  "language_info": {
   "codemirror_mode": {
    "name": "ipython",
    "version": 3
   },
   "file_extension": ".py",
   "mimetype": "text/x-python",
   "name": "python",
   "nbconvert_exporter": "python",
   "pygments_lexer": "ipython3",
   "version": "3.9.7"
  }
 },
 "nbformat": 4,
 "nbformat_minor": 5
}
