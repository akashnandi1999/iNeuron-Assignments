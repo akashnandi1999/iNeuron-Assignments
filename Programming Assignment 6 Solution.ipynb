{
 "cells": [
  {
   "cell_type": "markdown",
   "id": "a8577488",
   "metadata": {},
   "source": [
    "## Programming Assignment 6 - Solutions\n",
    "\n",
    "### - by Akash Nandi"
   ]
  },
  {
   "cell_type": "markdown",
   "id": "387529c7",
   "metadata": {},
   "source": [
    "#### 1. Write a Python Program to Display Fibonacci Sequence Using Recursion.\n",
    "\n",
    "#### Solution :-"
   ]
  },
  {
   "cell_type": "code",
   "execution_count": 3,
   "id": "1e250090",
   "metadata": {},
   "outputs": [
    {
     "name": "stdout",
     "output_type": "stream",
     "text": [
      "Enter the number upto which you want to get the sequence: 10\n",
      "0 1 1 2 3 5 8 13 21 34 55 "
     ]
    }
   ],
   "source": [
    "def fibo(n):\n",
    "    if n <= 1:\n",
    "        return n\n",
    "    return fibo(n-2)+fibo(n-1)\n",
    "\n",
    "n = int(input(\"Enter the number upto which you want to get the sequence: \"))\n",
    "\n",
    "for i in range(0,n+1):\n",
    "    print(fibo(i), end=\" \")\n"
   ]
  },
  {
   "cell_type": "markdown",
   "id": "052e6fd5",
   "metadata": {},
   "source": [
    "#### 2. Write a Python Program to Find Factorial of Number Using Recursion.\n",
    "\n",
    "#### Solution :-"
   ]
  },
  {
   "cell_type": "code",
   "execution_count": 6,
   "id": "8c739f28",
   "metadata": {},
   "outputs": [
    {
     "name": "stdout",
     "output_type": "stream",
     "text": [
      "Enter the number to get it's factorial: 4\n",
      "The factorial of 4 = 24\n"
     ]
    }
   ],
   "source": [
    "def fact(n):\n",
    "    if n<=1:\n",
    "        return 1\n",
    "    return n*fact(n-1)\n",
    "\n",
    "n = int(input(\"Enter the number to get it's factorial: \"))\n",
    "\n",
    "print(f\"The factorial of {n} = {fact(n)}\")"
   ]
  },
  {
   "cell_type": "markdown",
   "id": "80d3f555",
   "metadata": {},
   "source": [
    "#### 3. Write a Python Program to calculate your Body Mass Index.\n",
    "\n",
    "#### Solution :-"
   ]
  },
  {
   "cell_type": "code",
   "execution_count": 9,
   "id": "6ef80b1a",
   "metadata": {},
   "outputs": [
    {
     "name": "stdout",
     "output_type": "stream",
     "text": [
      "Enter the weight(kg): 80\n",
      "Enter the height(cm): 168\n",
      "The Body Mass Index with 80.0kg weight and 168.0cm height = 28.345\n"
     ]
    }
   ],
   "source": [
    "def bodyMassindex(w,h):\n",
    "    h = h/100\n",
    "    return w/(h**2)\n",
    "\n",
    "w = float(input(\"Enter the weight(kg): \"))\n",
    "h = float(input(\"Enter the height(cm): \"))\n",
    "\n",
    "print(f\"The Body Mass Index with {w}kg weight and {h}cm height = {round(bodyMassindex(w,h),3)}\")"
   ]
  },
  {
   "cell_type": "markdown",
   "id": "28893c75",
   "metadata": {},
   "source": [
    "#### 4. Write a Python Program to calculate the natural logarithm of any number.\n",
    "\n",
    "#### Solution :-"
   ]
  },
  {
   "cell_type": "code",
   "execution_count": 27,
   "id": "12572fc7",
   "metadata": {},
   "outputs": [
    {
     "name": "stdout",
     "output_type": "stream",
     "text": [
      "Enter the number: 4\n",
      "\n",
      "\n",
      "Options for types of log Calculation :-\n",
      "log() log10() log2() log(1+a) \n",
      "\n",
      "Enter the log type for a result from the above options: log10()\n",
      "log10(4) of 4 = 0.6020599913279624\n"
     ]
    }
   ],
   "source": [
    "import math\n",
    "\n",
    "arr = [\"log()\",\"log10()\",\"log2()\",\"log(1+a)\"]\n",
    "\n",
    "n = int(input(\"Enter the number: \"))\n",
    "print(\"\\n\")\n",
    "print(\"Options for types of log Calculation :-\")\n",
    "for i in arr:\n",
    "    print(i, end=\" \")\n",
    "print(\"\\n\")\n",
    "logType = input(\"Enter the log type for a result from the above options: \")\n",
    "\n",
    "if logType == \"log()\":\n",
    "    print(f\"log({n}) of {n} = {math.log(n)}\")\n",
    "elif logType == \"log10()\":\n",
    "    print(f\"log10({n}) of {n} = {math.log10(n)}\")\n",
    "elif logType == \"log2()\":\n",
    "    print(f\"log2({n}) of {n} = {math.log2(n)}\")\n",
    "elif logType == \"log(1+a)\":\n",
    "    print(f\"log(1+n) of {n} = {math.log1p(n)}\")\n",
    "else:\n",
    "    print(\"Invalid Input\")"
   ]
  },
  {
   "cell_type": "markdown",
   "id": "5e343de5",
   "metadata": {},
   "source": [
    "#### 5. Write a Python Program for cube sum of first n natural numbers.\n",
    "\n",
    "#### Solution :-"
   ]
  },
  {
   "cell_type": "code",
   "execution_count": 31,
   "id": "78772c2e",
   "metadata": {},
   "outputs": [
    {
     "name": "stdout",
     "output_type": "stream",
     "text": [
      "Enter a natural number: 6\n",
      "The Cube Sum of first 6 natural numbers = 441\n"
     ]
    }
   ],
   "source": [
    "def cubeSum(n):\n",
    "    s = 0\n",
    "    for i in range(1,n+1):\n",
    "        s = s+(i**3)\n",
    "    return s\n",
    "\n",
    "n = int(input(\"Enter a natural number: \"))\n",
    "print(f\"The Cube Sum of first {n} natural numbers = {cubeSum(n)}\")"
   ]
  }
 ],
 "metadata": {
  "kernelspec": {
   "display_name": "Python 3 (ipykernel)",
   "language": "python",
   "name": "python3"
  },
  "language_info": {
   "codemirror_mode": {
    "name": "ipython",
    "version": 3
   },
   "file_extension": ".py",
   "mimetype": "text/x-python",
   "name": "python",
   "nbconvert_exporter": "python",
   "pygments_lexer": "ipython3",
   "version": "3.9.7"
  }
 },
 "nbformat": 4,
 "nbformat_minor": 5
}
