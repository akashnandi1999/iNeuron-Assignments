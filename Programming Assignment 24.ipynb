{
 "cells": [
  {
   "cell_type": "markdown",
   "id": "c7cbd2d5",
   "metadata": {},
   "source": [
    "## Programming Assignment 24\n",
    "\n",
    "### - by Akash Nandi"
   ]
  },
  {
   "cell_type": "markdown",
   "id": "a0eaa2e6",
   "metadata": {},
   "source": [
    "### 1. Create a function that takes an integer and returns a list from 1 to the given number, where: 1. If the number can be divided evenly by 4, amplify it by 10 (i.e. return 10 times the number). 2. If the number cannot be divided evenly by 4, simply return the number. Examples amplify(4) ➞ [1, 2, 3, 40] amplify(3) ➞ [1, 2, 3] amplify(25) ➞ [1, 2, 3, 40, 5, 6, 7, 80, 9, 10, 11, 120, 13, 14, 15, 160, 17, 18, 19, 200, 21, 22, 23, 240, 25].\n",
    "\n",
    "#### Solution :-"
   ]
  },
  {
   "cell_type": "code",
   "execution_count": 1,
   "id": "b450211e",
   "metadata": {},
   "outputs": [],
   "source": [
    "def amplify(n):\n",
    "    l = [i*10 if i%4 == 0 else i for i in range(1,n+1)]\n",
    "    print(l)"
   ]
  },
  {
   "cell_type": "code",
   "execution_count": 2,
   "id": "fb5ea75a",
   "metadata": {},
   "outputs": [
    {
     "name": "stdout",
     "output_type": "stream",
     "text": [
      "Enter a number: 25\n",
      "[1, 2, 3, 40, 5, 6, 7, 80, 9, 10, 11, 120, 13, 14, 15, 160, 17, 18, 19, 200, 21, 22, 23, 240, 25]\n"
     ]
    }
   ],
   "source": [
    "n = int(input(\"Enter a number: \"))\n",
    "amplify(n)"
   ]
  },
  {
   "cell_type": "markdown",
   "id": "f4cb2604",
   "metadata": {},
   "source": [
    "### 2. Create a function that takes a list of numbers and return the number that's unique. Examples unique([3, 3, 3, 7, 3, 3]) ➞ 7 unique([0, 0, 0.77, 0, 0]) ➞ 0.77 unique([0, 1, 1, 1, 1, 1, 1, 1]) ➞ 0 Notes Test cases will always have exactly one unique number while all others are the same.\n",
    "\n",
    "#### Solution :-"
   ]
  },
  {
   "cell_type": "code",
   "execution_count": 3,
   "id": "474aa29f",
   "metadata": {},
   "outputs": [
    {
     "data": {
      "text/plain": [
       "0"
      ]
     },
     "execution_count": 3,
     "metadata": {},
     "output_type": "execute_result"
    }
   ],
   "source": [
    "def unique(l):\n",
    "    s = list(set(l))\n",
    "    for i in s:\n",
    "        if l.count(i) == 1:\n",
    "            return i\n",
    "l = [0, 1, 1, 1, 1, 1, 1, 1]\n",
    "unique(l)"
   ]
  },
  {
   "cell_type": "markdown",
   "id": "0c1ec085",
   "metadata": {},
   "source": [
    "### 3. Your task is to create a Circle constructor that creates a circle with a radius provided by an argument. The circles constructed must have two getters getArea() (PIr^2) and getPerimeter() (2PI*r) which give both respective areas and perimeter (circumference). For help with this class, I have provided you with a Rectangle constructor which you can use as a base example.\n",
    "\n",
    "#### Solution :-"
   ]
  },
  {
   "cell_type": "code",
   "execution_count": 4,
   "id": "e5d4ea61",
   "metadata": {},
   "outputs": [
    {
     "name": "stdout",
     "output_type": "stream",
     "text": [
      "380.13\n",
      "27.9\n"
     ]
    }
   ],
   "source": [
    "import math\n",
    "class Circle:\n",
    "    def __init__(self,r):\n",
    "        self.r = r\n",
    "    def getArea(self):\n",
    "        return round(math.pi * pow(self.r,2),2)\n",
    "    def getPerimeter(self):\n",
    "        return round(2*math.pi*self.r,2)\n",
    "    \n",
    "circy = Circle(11)\n",
    "print(circy.getArea())\n",
    "circy = Circle(4.44)\n",
    "print(circy.getPerimeter())"
   ]
  },
  {
   "cell_type": "markdown",
   "id": "11029d8d",
   "metadata": {},
   "source": [
    "### 4. Create a function that takes a list of strings and return a list, sorted from shortest to longest. Examples sort_by_length([\"Google\", \"Apple\", \"Microsoft\"]) ➞ [\"Apple\", \"Google\", \"Microsoft\"] sort_by_length([\"Leonardo\", \"Michelangelo\", \"Raphael\", \"Donatello\"]) ➞ [\"Raphael\", \"Leonardo\", \"Donatello\", \"Michelangelo\"] sort_by_length([\"Turing\", \"Einstein\", \"Jung\"]) ➞ [\"Jung\", \"Turing\", \"Einstein\"] Notes All test cases contain lists with strings of different lengths, so you won't have to deal with multiple strings of the same length.\n",
    "\n",
    "#### Solution :-"
   ]
  },
  {
   "cell_type": "code",
   "execution_count": 5,
   "id": "be0e89e8",
   "metadata": {},
   "outputs": [
    {
     "data": {
      "text/plain": [
       "['Einstein', 'Jung', 'Turing']"
      ]
     },
     "execution_count": 5,
     "metadata": {},
     "output_type": "execute_result"
    }
   ],
   "source": [
    "def sort_by_length(l):\n",
    "    return sorted(l)\n",
    "\n",
    "l = [\"Turing\", \"Einstein\", \"Jung\"]\n",
    "sort_by_length(l)"
   ]
  },
  {
   "cell_type": "markdown",
   "id": "5628f8ff",
   "metadata": {},
   "source": [
    "### 5. Create a function that validates whether three given integers form a Pythagorean triplet. The sum of the squares of the two smallest integers must equal the square of the largest number to be validated. Examples is_triplet(3, 4, 5) ➞ True.\n",
    "\n",
    "#### Solution :-"
   ]
  },
  {
   "cell_type": "code",
   "execution_count": 7,
   "id": "6f0843ad",
   "metadata": {},
   "outputs": [
    {
     "name": "stdout",
     "output_type": "stream",
     "text": [
      "a: 1\n",
      "b: 2\n",
      "c: 3\n"
     ]
    },
    {
     "data": {
      "text/plain": [
       "False"
      ]
     },
     "execution_count": 7,
     "metadata": {},
     "output_type": "execute_result"
    }
   ],
   "source": [
    "def is_triplet(a,b,c):\n",
    "    return ((a*a+b*b==c*c) or (a*a+c*c==b*b) or ((c*c+b*b==a*a)))\n",
    "\n",
    "a = int(input(\"a: \"))\n",
    "b = int(input(\"b: \"))\n",
    "c = int(input(\"c: \"))\n",
    "\n",
    "is_triplet(a,b,c)"
   ]
  }
 ],
 "metadata": {
  "kernelspec": {
   "display_name": "Python 3 (ipykernel)",
   "language": "python",
   "name": "python3"
  },
  "language_info": {
   "codemirror_mode": {
    "name": "ipython",
    "version": 3
   },
   "file_extension": ".py",
   "mimetype": "text/x-python",
   "name": "python",
   "nbconvert_exporter": "python",
   "pygments_lexer": "ipython3",
   "version": "3.9.7"
  }
 },
 "nbformat": 4,
 "nbformat_minor": 5
}
