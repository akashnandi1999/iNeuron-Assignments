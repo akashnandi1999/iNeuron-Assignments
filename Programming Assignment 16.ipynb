{
 "cells": [
  {
   "cell_type": "markdown",
   "id": "0dba3690",
   "metadata": {},
   "source": [
    "## Programming Assignment 16\n",
    "\n",
    "### - by Akash Nandi"
   ]
  },
  {
   "cell_type": "markdown",
   "id": "7cdc303d",
   "metadata": {},
   "source": [
    "### 1. Write a function that stutters a word as if someone is struggling to read it. The first two letters are repeated twice with an ellipsis ... and space after each, and then the word is pronounced with a question mark ?.\n",
    "\n",
    "#### Solution :-"
   ]
  },
  {
   "cell_type": "code",
   "execution_count": 22,
   "id": "8551708c",
   "metadata": {},
   "outputs": [
    {
     "name": "stdout",
     "output_type": "stream",
     "text": [
      "Enter a string: 12\n",
      "Invalid Input.....Please try Again.\n",
      "Enter a string: incredible\n"
     ]
    },
    {
     "data": {
      "text/plain": [
       "'in... in... incredible'"
      ]
     },
     "execution_count": 22,
     "metadata": {},
     "output_type": "execute_result"
    }
   ],
   "source": [
    "def stutter(s):\n",
    "    try:\n",
    "        if not isinstance(s, str):\n",
    "            raise Exception(\"The function will only take 4string as an input.\")\n",
    "        else:\n",
    "            n_s = s[0:2]+\"... \"+s[0:2]+\"... \"+s\n",
    "    except Exception as e:\n",
    "        print(\"Error Occured...\")\n",
    "        print(e)\n",
    "    return n_s\n",
    "\n",
    "\n",
    "while True:\n",
    "    s = (input(\"Enter a string: \"))\n",
    "    if len(s)>2 and s.islower():\n",
    "        break\n",
    "    else:\n",
    "        print(\"Invalid Input.....Please try Again.\")\n",
    "        continue\n",
    "\n",
    "stutter(s)"
   ]
  },
  {
   "cell_type": "markdown",
   "id": "b97f3fd7",
   "metadata": {},
   "source": [
    "### 2. Create a function that takes an angle in radians and returns the corresponding angle in degrees rounded to one decimal place.\n",
    "\n",
    "#### Solution :-"
   ]
  },
  {
   "cell_type": "code",
   "execution_count": 25,
   "id": "31638c24",
   "metadata": {},
   "outputs": [
    {
     "name": "stdout",
     "output_type": "stream",
     "text": [
      "Enter the angle in radian: 4\n",
      "The angle is degrees for 4 radian is = 229.2 degrees\n"
     ]
    }
   ],
   "source": [
    "import math\n",
    "\n",
    "def con_deg(r):\n",
    "    return round((r*(180/math.pi)),1)\n",
    "\n",
    "r = int(input(\"Enter the angle in radian: \"))\n",
    "\n",
    "print(f\"The angle is degrees for {r} radian is = {con_deg(r)} degrees\")"
   ]
  },
  {
   "cell_type": "markdown",
   "id": "87a45a02",
   "metadata": {},
   "source": [
    "### 3. In this challenge, establish if a given integer num is a Curzon number. If 1 plus 2 elevated to num is exactly divisible by 1 plus 2 multiplied by num, then num is a Curzon number. Given a non-negative integer num, implement a function that returns True if num is a Curzon number, or False otherwise.\n",
    "\n",
    "#### Solution :-"
   ]
  },
  {
   "cell_type": "code",
   "execution_count": 37,
   "id": "326657f9",
   "metadata": {},
   "outputs": [
    {
     "name": "stdout",
     "output_type": "stream",
     "text": [
      "Enter a number: 14\n"
     ]
    },
    {
     "data": {
      "text/plain": [
       "True"
      ]
     },
     "execution_count": 37,
     "metadata": {},
     "output_type": "execute_result"
    }
   ],
   "source": [
    "def is_curzon(num):\n",
    "    if ((2**num)+1)%((2*num)+1) == 0:\n",
    "        return True\n",
    "    else:\n",
    "        return False\n",
    "    \n",
    "num = int(input(\"Enter a number: \"))\n",
    "is_curzon(num)"
   ]
  },
  {
   "cell_type": "markdown",
   "id": "4a50d680",
   "metadata": {},
   "source": [
    "### 4. Given the side length x find the area of a hexagon.\n",
    "\n",
    "#### Solution :-"
   ]
  },
  {
   "cell_type": "code",
   "execution_count": 41,
   "id": "391c462d",
   "metadata": {},
   "outputs": [
    {
     "name": "stdout",
     "output_type": "stream",
     "text": [
      "Enter the side of the hexagon: 3\n",
      "Area of Hexagon with 3 units = 23.4 square units\n"
     ]
    }
   ],
   "source": [
    "def hex_area(side):\n",
    "    return ((3**(1/2))*(3/2)*(side**2))\n",
    "\n",
    "side = int(input(\"Enter the side of the hexagon: \"))\n",
    "print(f\"Area of Hexagon with {side} units = {round(hex_area(side),1)} square units\")"
   ]
  },
  {
   "cell_type": "markdown",
   "id": "8f90fac2",
   "metadata": {},
   "source": [
    "### 5. Create a function that returns a base-2 (binary) representation of a base-10(decimal) string number. To convert is simple: ((2) means base-2 and (10) means base-10) 010101001(2) = 1 + 8 + 32 + 128. Going from right to left, the value of the most right bit is 1, now from that every bit to the left will be x2 the value, value of an 8 bit binary numbers are (256, 128, 64, 32, 16, 8, 4, 2, 1)."
   ]
  },
  {
   "cell_type": "code",
   "execution_count": 42,
   "id": "efbd7ead",
   "metadata": {},
   "outputs": [
    {
     "name": "stdout",
     "output_type": "stream",
     "text": [
      "Enter a number: 5\n",
      "0101"
     ]
    }
   ],
   "source": [
    "def con_Bin(num):\n",
    "    if num >= 1:\n",
    "        con_Bin(num // 2)\n",
    "    print(num % 2, end = '')\n",
    "\n",
    "num = int(input(\"Enter a number: \"))\n",
    "\n",
    "con_Bin(num)"
   ]
  }
 ],
 "metadata": {
  "kernelspec": {
   "display_name": "Python 3 (ipykernel)",
   "language": "python",
   "name": "python3"
  },
  "language_info": {
   "codemirror_mode": {
    "name": "ipython",
    "version": 3
   },
   "file_extension": ".py",
   "mimetype": "text/x-python",
   "name": "python",
   "nbconvert_exporter": "python",
   "pygments_lexer": "ipython3",
   "version": "3.9.7"
  }
 },
 "nbformat": 4,
 "nbformat_minor": 5
}
