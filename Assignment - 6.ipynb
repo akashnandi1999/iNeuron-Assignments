{
 "cells": [
  {
   "cell_type": "markdown",
   "id": "91044abd",
   "metadata": {},
   "source": [
    "## Assignment - 6\n",
    "\n",
    "### - by Akash Nandi"
   ]
  },
  {
   "cell_type": "markdown",
   "id": "1c432268",
   "metadata": {},
   "source": [
    "### 1. What are escape characters, and how do you use them ?\n",
    "\n",
    "#### Solution :- Escape characters represent characters in string values that would otherwise be difficult or impossible to type into code. To insert characters that are illegal in a string, use an escape character.  It is a '\\' (backslash) followed by the character we want to insert. For Example: txt = \"We are  \\\" special \\\" students\".\n",
    "#### ----------------------------------------------------------------------------------------------------------------------------------------------------------------------------------------"
   ]
  },
  {
   "cell_type": "markdown",
   "id": "b61e51ba",
   "metadata": {},
   "source": [
    "### 2. What do the escape characters n and t stand for ?\n",
    "\n",
    "#### Solution :- \"\\n\" stands for next line and \"\\t\" stands for Tab.\n",
    "#### ----------------------------------------------------------------------------------------------------------------------------------------------------------------------------------------"
   ]
  },
  {
   "cell_type": "markdown",
   "id": "1f2a6a56",
   "metadata": {},
   "source": [
    "### 3. What is the way to include backslash characters in a string ?\n",
    "\n",
    "#### Solution :- We can use two backslashes together to include backslash character in a string.\n",
    "#### ----------------------------------------------------------------------------------------------------------------------------------------------------------------------------------------"
   ]
  },
  {
   "cell_type": "markdown",
   "id": "441084c8",
   "metadata": {},
   "source": [
    "### 4. The string \"Howl's Moving Castle\" is a correct value. Why isn't the single quote character in the word Howl's not escaped a problem?\n",
    "\n",
    "#### Solution :- Since double quotes are used to mark the beginning and ending of the string, the single quote in \"Howl's\" dosen't count to be wrong. It is absolutely correct.\n",
    "#### ----------------------------------------------------------------------------------------------------------------------------------------------------------------------------------------"
   ]
  },
  {
   "cell_type": "markdown",
   "id": "3b5b9198",
   "metadata": {},
   "source": [
    "### 5. How do you write a string of newlines if you don't want to use the n character ?\n",
    "\n",
    "#### Solution :- Using end = \" \" in the code can help us to write a string of newlines if we don't want to use the n characters.\n",
    "#### ----------------------------------------------------------------------------------------------------------------------------------------------------------------------------------------"
   ]
  },
  {
   "cell_type": "markdown",
   "id": "2961d52d",
   "metadata": {},
   "source": [
    "### 6. What are the values of the given expressions ?\n",
    "\n",
    "### 'Hello, world'[1]\n",
    "#### Solution :- 'e'\n",
    "\n",
    "### 'Hello, world!'[0:5]\n",
    "#### Solution :- 'Hello'\n",
    "\n",
    "### 'Hello, world!'[:5]\n",
    "#### Solution :- 'Hello'\n",
    "\n",
    "### 'Hello, world!'[3:]\n",
    "#### Solution :- 'lo, world!'\n",
    "#### ----------------------------------------------------------------------------------------------------------------------------------------------------------------------------------------"
   ]
  },
  {
   "cell_type": "markdown",
   "id": "58e30245",
   "metadata": {},
   "source": [
    "### 7. What are the values of the following expressions ?\n",
    "\n",
    "### 'Hello'.upper()\n",
    "#### Solution :- 'HELLO'\n",
    "\n",
    "### 'Hello'.upper().isupper()\n",
    "#### Solution :- True\n",
    "\n",
    "### 'Hello'.upper().lower()\n",
    "#### Solution :- 'hello'\n",
    "#### ----------------------------------------------------------------------------------------------------------------------------------------------------------------------------------------"
   ]
  },
  {
   "cell_type": "markdown",
   "id": "87657d50",
   "metadata": {},
   "source": [
    "### 8. What are the values of the following expressions ?\n",
    "\n",
    "### 'Remember, remember, the fifth of July.'.split()\n",
    "#### Solution :- ['Remember,', 'remember,', 'the', 'fifth', 'of', 'July.']\n",
    "\n",
    "### '-'.join('There can only one.'.split())\n",
    "#### Solution :- 'There-can-only-one.'\n",
    "#### ----------------------------------------------------------------------------------------------------------------------------------------------------------------------------------------"
   ]
  },
  {
   "cell_type": "markdown",
   "id": "e03f8207",
   "metadata": {},
   "source": [
    "### 9. What are the methods for right-justifying, left-justifying, and centering a string ?\n",
    "\n",
    "#### Solution :- right-justifying - rjust(), left-justifying - ljust(), centering - center()\n",
    "#### ----------------------------------------------------------------------------------------------------------------------------------------------------------------------------------------"
   ]
  },
  {
   "cell_type": "markdown",
   "id": "96ef4eb0",
   "metadata": {},
   "source": [
    "### 10. What is the best way to remove whitespace characters from the start or end ?\n",
    "\n",
    "#### Solution :- .strip() method can be used to remove whitespace characters from the start or end."
   ]
  }
 ],
 "metadata": {
  "kernelspec": {
   "display_name": "Python 3 (ipykernel)",
   "language": "python",
   "name": "python3"
  },
  "language_info": {
   "codemirror_mode": {
    "name": "ipython",
    "version": 3
   },
   "file_extension": ".py",
   "mimetype": "text/x-python",
   "name": "python",
   "nbconvert_exporter": "python",
   "pygments_lexer": "ipython3",
   "version": "3.9.7"
  }
 },
 "nbformat": 4,
 "nbformat_minor": 5
}
