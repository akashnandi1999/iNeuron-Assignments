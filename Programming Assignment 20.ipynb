{
 "cells": [
  {
   "cell_type": "markdown",
   "id": "56e5c232",
   "metadata": {},
   "source": [
    "## Programming Assignment 20\n",
    "\n",
    "### - by Akash Nandi"
   ]
  },
  {
   "cell_type": "markdown",
   "id": "8056997f",
   "metadata": {},
   "source": [
    "### 1. Create a function that takes a list of strings and integers, and filters out the list so that it returns a list of integers only.\n",
    "\n",
    "#### Solution :-"
   ]
  },
  {
   "cell_type": "code",
   "execution_count": 1,
   "id": "e9c1f453",
   "metadata": {},
   "outputs": [
    {
     "data": {
      "text/plain": [
       "'Filtered List -> [1, 2, 3, 4]'"
      ]
     },
     "execution_count": 1,
     "metadata": {},
     "output_type": "execute_result"
    }
   ],
   "source": [
    "def filter_list(l):\n",
    "    return f\"Filtered List -> {list(filter(lambda i:type(i)==int,l))}\"\n",
    "\n",
    "l = [1, 2, 3, \"a\", \"b\", 4]\n",
    "filter_list(l)"
   ]
  },
  {
   "cell_type": "markdown",
   "id": "43e7cbd7",
   "metadata": {},
   "source": [
    "### 2. Given a list of numbers, create a function which returns the list but with each element's index in the list added to itself. This means you add 0 to the number at index 0, add 1 to the number at index 1, etc...\n",
    "\n",
    "#### Solution :-"
   ]
  },
  {
   "cell_type": "code",
   "execution_count": 4,
   "id": "fc4fcad1",
   "metadata": {},
   "outputs": [
    {
     "data": {
      "text/plain": [
       "[5, 5, 5, 5, 5]"
      ]
     },
     "execution_count": 4,
     "metadata": {},
     "output_type": "execute_result"
    }
   ],
   "source": [
    "def add_indexes(l):\n",
    "    lst = []\n",
    "    c = 0\n",
    "    for i in l:\n",
    "        lst.append(i+c)\n",
    "        c += 1\n",
    "    return lst\n",
    "\n",
    "l = [5,4,3,2,1]\n",
    "add_indexes(l)"
   ]
  },
  {
   "cell_type": "markdown",
   "id": "5e271564",
   "metadata": {},
   "source": [
    "### 3. Create a function that takes the height and radius of a cone as arguments and returns the volume of the cone rounded to the nearest hundredth. See the resources tab for the formula.\n",
    "\n",
    "#### Solution :-"
   ]
  },
  {
   "cell_type": "code",
   "execution_count": 5,
   "id": "3448ba80",
   "metadata": {},
   "outputs": [
    {
     "name": "stdout",
     "output_type": "stream",
     "text": [
      "Enter height: 15\n",
      "Enter radius: 6\n"
     ]
    },
    {
     "data": {
      "text/plain": [
       "565.49"
      ]
     },
     "execution_count": 5,
     "metadata": {},
     "output_type": "execute_result"
    }
   ],
   "source": [
    "import math\n",
    "def cone_volume(h,r):\n",
    "    vol = round(((1 / 3) * math.pi * r * r * h),2)\n",
    "    return vol\n",
    "\n",
    "h = float(input(\"Enter height: \"))\n",
    "r = float(input(\"Enter radius: \"))\n",
    "\n",
    "cone_volume(h,r)"
   ]
  },
  {
   "cell_type": "markdown",
   "id": "77126c94",
   "metadata": {},
   "source": [
    "### 4. This Triangular Number Sequence is generated from a pattern of dots that form a triangle. The first 5 numbers of the sequence, or dots, are: 1, 3, 6, 10, 15 This means that the first triangle has just one dot, the second one has three dots, the third one has 6 dots and so on. Write a function that gives the number of dots with its corresponding triangle number of the sequence. Examples triangle(1) ➞ 1 triangle(6) ➞ 21 triangle(215) ➞ 23220.\n",
    "\n",
    "\n",
    "#### Solution :-"
   ]
  },
  {
   "cell_type": "code",
   "execution_count": 6,
   "id": "73b80f99",
   "metadata": {},
   "outputs": [
    {
     "name": "stdout",
     "output_type": "stream",
     "text": [
      "Enter number of dots: 6\n"
     ]
    },
    {
     "data": {
      "text/plain": [
       "21"
      ]
     },
     "execution_count": 6,
     "metadata": {},
     "output_type": "execute_result"
    }
   ],
   "source": [
    "def triangle(n):\n",
    "    return (n*(n+1))//2\n",
    "    \n",
    "n = int(input(\"Enter number of dots: \"))\n",
    "triangle(n)"
   ]
  },
  {
   "cell_type": "markdown",
   "id": "02f2e5bd",
   "metadata": {},
   "source": [
    "### 5. Create a function that takes a list of numbers between 1 and 10 (excluding one number) and returns the missing number. Examples missing_num([1, 2, 3, 4, 6, 7, 8, 9, 10]) ➞ 5 missing_num([7, 2, 3, 6, 5, 9, 1, 4, 8]) ➞ 10 missing_num([10, 5, 1, 2, 4, 6, 8, 3, 9]) ➞ 7.\n",
    "\n",
    "#### Solution :-"
   ]
  },
  {
   "cell_type": "code",
   "execution_count": 7,
   "id": "ab1dd1de",
   "metadata": {},
   "outputs": [
    {
     "name": "stdout",
     "output_type": "stream",
     "text": [
      "5\n"
     ]
    }
   ],
   "source": [
    "def missing_num(l):\n",
    "    c = 1\n",
    "    while(c<11):\n",
    "        if c not in l:\n",
    "            return c\n",
    "        c+=1\n",
    "        \n",
    "l = [1,2,3,4,6,7,8,9,10]\n",
    "print(missing_num(l))"
   ]
  }
 ],
 "metadata": {
  "kernelspec": {
   "display_name": "Python 3 (ipykernel)",
   "language": "python",
   "name": "python3"
  },
  "language_info": {
   "codemirror_mode": {
    "name": "ipython",
    "version": 3
   },
   "file_extension": ".py",
   "mimetype": "text/x-python",
   "name": "python",
   "nbconvert_exporter": "python",
   "pygments_lexer": "ipython3",
   "version": "3.9.7"
  }
 },
 "nbformat": 4,
 "nbformat_minor": 5
}
