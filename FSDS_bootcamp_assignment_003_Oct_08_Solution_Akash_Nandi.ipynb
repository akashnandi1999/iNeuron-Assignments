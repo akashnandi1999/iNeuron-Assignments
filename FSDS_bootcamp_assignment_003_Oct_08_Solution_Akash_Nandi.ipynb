{
  "nbformat": 4,
  "nbformat_minor": 0,
  "metadata": {
    "colab": {
      "provenance": [],
      "collapsed_sections": []
    },
    "kernelspec": {
      "name": "python3",
      "display_name": "Python 3"
    },
    "language_info": {
      "name": "python"
    }
  },
  "cells": [
    {
      "cell_type": "markdown",
      "source": [
        "## **Python String Manipulation**\n",
        "\n",
        "## -by **Akash Nandi**"
      ],
      "metadata": {
        "id": "xJyXxPIFQy2_"
      }
    },
    {
      "cell_type": "markdown",
      "source": [
        "**Q1. Count the number of times iNeuron appears in the string: text = \"Welcome to iNeuron, You are a part of FSDS Bootcamp 2 in iNeuron. I hope you are enjoying the course by iNeuron\"**\n",
        "```python\n",
        "text = \"Welcome to iNeuron, You are a part of FSDS Bootcamp 2 in iNeuron. I hope you are enjoying the course by iNeuron\"\n",
        "```"
      ],
      "metadata": {
        "id": "3tjuvVjQRjBi"
      }
    },
    {
      "cell_type": "code",
      "source": [
        "text = \"Welcome to iNeuron, You are a part of FSDS Bootcamp 2 in iNeuron. I hope you are enjoying the course by iNeuron\"\n",
        "c = text.count(\"iNeuron\")\n",
        "print(c)"
      ],
      "metadata": {
        "colab": {
          "base_uri": "https://localhost:8080/"
        },
        "id": "bh7YCrT6TcS8",
        "outputId": "d99ae151-90e4-419e-bb04-d0ca9fa0b06a"
      },
      "execution_count": 7,
      "outputs": [
        {
          "output_type": "stream",
          "name": "stdout",
          "text": [
            "3\n"
          ]
        }
      ]
    },
    {
      "cell_type": "markdown",
      "source": [
        "**Q2. Check if position 5 to 11 ends with the phrase iNeuron. in the string:**\n",
        "```python\n",
        "txt = \"Hello, welcome to FSDS 2.0 at iNeuron.\"\n",
        "```"
      ],
      "metadata": {
        "id": "1OWGT1_4RxRE"
      }
    },
    {
      "cell_type": "code",
      "source": [
        "txt = \"Hello, welcome to FSDS 2.0 at iNeuron.\"\n",
        "print(txt[5:11].endswith(\"iNeuron\"))"
      ],
      "metadata": {
        "colab": {
          "base_uri": "https://localhost:8080/"
        },
        "id": "jxu_w1q5Q56W",
        "outputId": "177ddd4e-6776-43a5-dd5a-8db95701b500"
      },
      "execution_count": 49,
      "outputs": [
        {
          "output_type": "stream",
          "name": "stdout",
          "text": [
            "False\n"
          ]
        }
      ]
    },
    {
      "cell_type": "markdown",
      "source": [
        "**3. Write a program that takes your full name as input and displays the abbreviations of the first and middle names except the last name which is displayed as it is. For example, if your name is Sunny Bhaveen Chandra, then the output should be S.B.Chandra.**\n"
      ],
      "metadata": {
        "id": "FuVIuyK5TabT"
      }
    },
    {
      "cell_type": "code",
      "source": [
        "name = input(\"Enter your Full Name: \")\n",
        "txt = name.split(\" \")\n",
        "n = len(txt)\n",
        "a = \"\"\n",
        "for i in txt[:-1]:\n",
        "  a = a+(i[0][0]).upper()+\".\"\n",
        "a = a+txt[n-1]\n",
        "print(\"Abbreviated Name:\",a)"
      ],
      "metadata": {
        "colab": {
          "base_uri": "https://localhost:8080/"
        },
        "id": "mnp36TFfU1_T",
        "outputId": "37a96d23-aabf-418b-e567-dbb2f18b8dea"
      },
      "execution_count": 26,
      "outputs": [
        {
          "output_type": "stream",
          "name": "stdout",
          "text": [
            "Enter your Full Name: Sunny Bhaveen Chandra\n",
            "Abbreviated Name: S.B.Chandra\n"
          ]
        }
      ]
    },
    {
      "cell_type": "markdown",
      "source": [
        "**4. Join all items in a list into a string, using a hash(`#`) character as separator: LIST = [\"My\", \"name\", \"is\", \"Rishav\", \"Dash\"]**\n",
        "\n",
        "```python\n",
        "LIST = [\"My\", \"name\", \"is\", \"Rishav\", \"Dash\"]\n",
        "print(\"#\".join(LIST))\n",
        "```"
      ],
      "metadata": {
        "id": "-_yaNi3Bbsgf"
      }
    },
    {
      "cell_type": "code",
      "source": [
        "LIST = [\"My\", \"name\", \"is\", \"Rishav\", \"Dash\"]\n",
        "print(\"#\".join(LIST))"
      ],
      "metadata": {
        "colab": {
          "base_uri": "https://localhost:8080/"
        },
        "id": "4N5Y5fhvb7YK",
        "outputId": "1c1ddfa7-fe3a-4246-9414-ba78c4831f7b"
      },
      "execution_count": 29,
      "outputs": [
        {
          "output_type": "stream",
          "name": "stdout",
          "text": [
            "My#name#is#Rishav#Dash\n"
          ]
        }
      ]
    },
    {
      "cell_type": "markdown",
      "source": [
        "**5. Write example for the following string manipulation function:**\n",
        "  ```\n",
        "  - isdecimal()\n",
        "  - islower()\n",
        "  - isupper()\n",
        "  - isalpha()\n",
        "  - isnumeric()\n",
        "\n",
        "  ```\n"
      ],
      "metadata": {
        "id": "w-GiBaa7cnVA"
      }
    },
    {
      "cell_type": "code",
      "source": [
        "# -isdecimal()\n",
        "a = \"28222\"\n",
        "print(a,\"-\",a.isdecimal(),\"\\n\")\n",
        "\n",
        "# -islower()\n",
        "b = \"akashnandi\"\n",
        "print(b,\"-\",b.islower(),\"\\n\")\n",
        "\n",
        "# isupper()\n",
        "c= \"AKASH NANDI\"\n",
        "print(c,\"-\",c.isupper(),\"\\n\")\n",
        "\n",
        "# isalpha()\n",
        "d = \"akash\"\n",
        "print(d,\"-\",d.isalpha(),\"\\n\")\n",
        "\n",
        "# isnumeric()\n",
        "e = \"12345\"\n",
        "print(e,\"-\",e.isnumeric(),\"\\n\")"
      ],
      "metadata": {
        "colab": {
          "base_uri": "https://localhost:8080/"
        },
        "id": "LgqcEmYqdFE_",
        "outputId": "62f0dd8b-38bf-41f6-e281-6b7290e7013d"
      },
      "execution_count": 45,
      "outputs": [
        {
          "output_type": "stream",
          "name": "stdout",
          "text": [
            "28222 - True \n",
            "\n",
            "akashnandi - True \n",
            "\n",
            "AKASH NANDI - True \n",
            "\n",
            "akash - True \n",
            "\n",
            "12345 - True \n",
            "\n"
          ]
        }
      ]
    },
    {
      "cell_type": "markdown",
      "source": [
        "**6. Indian PAN card format follows the following formats - \n",
        "    - `AYEPC7894X`\n",
        "    - `ABCDE9999Y`\n",
        "  Take user input for PAN_CARD and validate as per the above example.**"
      ],
      "metadata": {
        "id": "FaOGyYwmffRH"
      }
    },
    {
      "cell_type": "code",
      "source": [
        "PAN_CARD = input(\"Enter your Pan Card Number: \")\n",
        "if len(PAN_CARD)>10 or len(PAN_CARD)<10:\n",
        "  print(\"Invalid Pan Card number\")\n",
        "elif len(PAN_CARD)==10:\n",
        "  if PAN_CARD.isalnum() and PAN_CARD[:5].isalpha() and PAN_CARD[:5].isupper() and PAN_CARD[-1].isalpha() and PAN_CARD[-1].isupper() and PAN_CARD[5:9].isnumeric():\n",
        "    print(\"Valid Pan Card number\")\n",
        "\n",
        "\n",
        "    \n"
      ],
      "metadata": {
        "colab": {
          "base_uri": "https://localhost:8080/"
        },
        "id": "tBTNVm6pfynV",
        "outputId": "75098103-58ff-4712-d9a2-0d030554f30b"
      },
      "execution_count": 47,
      "outputs": [
        {
          "output_type": "stream",
          "name": "stdout",
          "text": [
            "Enter your Pan Card Number: AYEPC7894X\n",
            "Valid Pan Card number\n"
          ]
        }
      ]
    }
  ]
}