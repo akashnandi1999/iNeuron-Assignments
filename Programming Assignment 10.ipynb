{
 "cells": [
  {
   "cell_type": "markdown",
   "id": "07beac7a",
   "metadata": {},
   "source": [
    "## Programming Assignment 10\n",
    "\n",
    "### -by Akash Nandi"
   ]
  },
  {
   "cell_type": "markdown",
   "id": "28d5e94f",
   "metadata": {},
   "source": [
    "#### 1. Write a Python program to find sum of elements in list.\n",
    "\n",
    "#### Solution :-"
   ]
  },
  {
   "cell_type": "code",
   "execution_count": 5,
   "id": "266e949d",
   "metadata": {},
   "outputs": [
    {
     "name": "stdout",
     "output_type": "stream",
     "text": [
      "The sum of the elements in the list is 150\n"
     ]
    }
   ],
   "source": [
    "from functools import reduce\n",
    "\n",
    "l = [10,20,30,40,50]\n",
    "\n",
    "s = reduce(lambda a,b: a+b,l)\n",
    "\n",
    "print(f\"The sum of the elements in the list is {s}\")"
   ]
  },
  {
   "cell_type": "markdown",
   "id": "174e9d4d",
   "metadata": {},
   "source": [
    "#### 2. Write a Python program to Multiply all numbers in the list.\n",
    "\n",
    "#### Solution :-"
   ]
  },
  {
   "cell_type": "code",
   "execution_count": 7,
   "id": "caadd986",
   "metadata": {},
   "outputs": [
    {
     "name": "stdout",
     "output_type": "stream",
     "text": [
      "The product of the elements in the list is 12000000\n"
     ]
    }
   ],
   "source": [
    "from functools import reduce\n",
    "\n",
    "l = [10,20,30,40,50]\n",
    "\n",
    "s = reduce(lambda a,b: a*b,l)\n",
    "\n",
    "print(f\"The product of the elements in the list is {s}\")"
   ]
  },
  {
   "cell_type": "markdown",
   "id": "3f86b4ac",
   "metadata": {},
   "source": [
    "#### 3. Write a Python program to find smallest number in a list.\n",
    "\n",
    "#### Solution :-"
   ]
  },
  {
   "cell_type": "code",
   "execution_count": 12,
   "id": "f6215bc0",
   "metadata": {},
   "outputs": [
    {
     "name": "stdout",
     "output_type": "stream",
     "text": [
      "The Smallest Element in the list is 10\n"
     ]
    }
   ],
   "source": [
    "l = [20,50,30,40,10,80]\n",
    "\n",
    "print(f\"The Smallest Element in the list is {min(l)}\")"
   ]
  },
  {
   "cell_type": "markdown",
   "id": "53fc6312",
   "metadata": {},
   "source": [
    "#### 4. Write a Python program to find largest number in a list.\n",
    "\n",
    "#### Solution :-"
   ]
  },
  {
   "cell_type": "code",
   "execution_count": 14,
   "id": "32a6074b",
   "metadata": {},
   "outputs": [
    {
     "name": "stdout",
     "output_type": "stream",
     "text": [
      "The Largest Element in the list is 80\n"
     ]
    }
   ],
   "source": [
    "l = [20,50,30,40,80,10]\n",
    "\n",
    "print(f\"The Largest Element in the list is {max(l)}\")"
   ]
  },
  {
   "cell_type": "markdown",
   "id": "cc166f64",
   "metadata": {},
   "source": [
    "#### 5. Write a Python program to find second largest number in a list.\n",
    "\n",
    "#### Solution :-"
   ]
  },
  {
   "cell_type": "code",
   "execution_count": 17,
   "id": "1f0b94eb",
   "metadata": {},
   "outputs": [
    {
     "name": "stdout",
     "output_type": "stream",
     "text": [
      "The Second Largest Element in the list is 50\n"
     ]
    }
   ],
   "source": [
    "def slar(l):\n",
    "    lar = l[1]\n",
    "    slar = 0\n",
    "\n",
    "    for i in l:\n",
    "        if i > lar:\n",
    "            slar = lar\n",
    "            lar = i\n",
    "    return slar\n",
    "\n",
    "\n",
    "l = [20,50,30,40,80,10]\n",
    "\n",
    "print(f\"The Second Largest Element in the list is {slar(l)}\")"
   ]
  },
  {
   "cell_type": "markdown",
   "id": "bc53ab2a",
   "metadata": {},
   "source": [
    "#### 6. Write a Python program to find N largest elements from a list.\n",
    "\n",
    "#### Solution :-"
   ]
  },
  {
   "cell_type": "code",
   "execution_count": 32,
   "id": "30ec987c",
   "metadata": {},
   "outputs": [
    {
     "name": "stdout",
     "output_type": "stream",
     "text": [
      "Enter the number of largest elements required from the list: 3\n",
      "\n",
      "\n",
      "The 3 largest Element In the list are: \n",
      "80 50 40 "
     ]
    }
   ],
   "source": [
    "def nLarge(l,n):\n",
    "    l.sort()\n",
    "    lst = []\n",
    "    for i in range(0,n):\n",
    "        lst.append(l.pop())\n",
    "        i-=1\n",
    "    return lst\n",
    "\n",
    "n = int(input(\"Enter the number of largest elements required from the list: \"))\n",
    "\n",
    "l = [20,50,30,40,80,10]\n",
    "\n",
    "print(\"\\n\")\n",
    "print(f\"The {n} largest Element In the list are: \")\n",
    "for i in nLarge(l,n):\n",
    "    print(i, end=\" \")"
   ]
  },
  {
   "cell_type": "markdown",
   "id": "78201d4e",
   "metadata": {},
   "source": [
    "#### 7. Write a Python program to print even numbers in a list.\n",
    "\n",
    "#### Solution :-"
   ]
  },
  {
   "cell_type": "code",
   "execution_count": 48,
   "id": "9594c879",
   "metadata": {},
   "outputs": [
    {
     "name": "stdout",
     "output_type": "stream",
     "text": [
      "Original List is:  [24, 55, 31, 45, 88, 12]\n",
      "\n",
      "\n",
      "The Even Numbers in the list are:\n",
      "12 24 88 "
     ]
    }
   ],
   "source": [
    "def eveninList(l):\n",
    "    lst = []\n",
    "    for i in l:\n",
    "        if i%2 == 0:\n",
    "            lst.append(i)\n",
    "    return sorted(lst)\n",
    "\n",
    "l = [24,55,31,45,88,12]\n",
    "print(\"Original List is: \",l)\n",
    "\n",
    "print(\"\\n\")\n",
    "print(\"The Even Numbers in the list are:\")\n",
    "for i in eveninList(l):\n",
    "    print(i, end=\" \")"
   ]
  },
  {
   "cell_type": "markdown",
   "id": "14200f1d",
   "metadata": {},
   "source": [
    "#### 8. Write a Python program to print odd numbers in a List.\n",
    "\n",
    "#### Solution :-"
   ]
  },
  {
   "cell_type": "code",
   "execution_count": 51,
   "id": "92d2e635",
   "metadata": {},
   "outputs": [
    {
     "name": "stdout",
     "output_type": "stream",
     "text": [
      "Original List is:  [24, 55, 31, 45, 88, 12]\n",
      "\n",
      "\n",
      "The Odd Numbers in the list are:\n",
      "31 45 55 "
     ]
    }
   ],
   "source": [
    "def oddinList(l):\n",
    "    lst = []\n",
    "    for i in l:\n",
    "        if i%2 != 0:\n",
    "            lst.append(i)\n",
    "    return sorted(lst)\n",
    "\n",
    "l = [24,55,31,45,88,12]\n",
    "print(\"Original List is: \",l)\n",
    "\n",
    "print(\"\\n\")\n",
    "print(\"The Odd Numbers in the list are:\")\n",
    "for i in oddinList(l):\n",
    "    print(i, end=\" \")"
   ]
  },
  {
   "cell_type": "markdown",
   "id": "9cd553ca",
   "metadata": {},
   "source": [
    "#### 9. Write a Python program to Remove empty List from List.\n",
    "\n",
    "#### Solution :-"
   ]
  },
  {
   "cell_type": "code",
   "execution_count": 63,
   "id": "7596b729",
   "metadata": {},
   "outputs": [
    {
     "name": "stdout",
     "output_type": "stream",
     "text": [
      "Original List is:  [24, [], 55, [], 31, [], 45, [], 88, [], 12]\n",
      "\r\n",
      "List after Removal of Empty List is:  [24, 55, 31, 45, 88, 12]\n"
     ]
    }
   ],
   "source": [
    "def removeEmptyList(l):\n",
    "    lst = l\n",
    "    for i in lst:\n",
    "        if isinstance(i, list) and len(i) == 0:\n",
    "            lst.remove(i)\n",
    "    return lst\n",
    "\n",
    "l = [24, [], 55, [], 31, [], 45, [], 88, [], 12]\n",
    "print(\"Original List is: \", l)\n",
    "print(\"\\r\")\n",
    "print(\"List after Removal of Empty List is: \", removeEmptyList(l))"
   ]
  },
  {
   "cell_type": "markdown",
   "id": "77630c35",
   "metadata": {},
   "source": [
    "#### 10. Write a Python program to Cloning or Copying a list.\n",
    "\n",
    "#### Solution :-"
   ]
  },
  {
   "cell_type": "code",
   "execution_count": 66,
   "id": "2cba5f77",
   "metadata": {},
   "outputs": [
    {
     "name": "stdout",
     "output_type": "stream",
     "text": [
      "Original List is:  [10, 20, 30, 40, 50]\n",
      "\r\n",
      "Cloned List is:  [10, 20, 30, 40, 50]\n"
     ]
    }
   ],
   "source": [
    "import copy\n",
    "\n",
    "l = [10,20,30,40,50]\n",
    "print(\"Original List is: \",l)\n",
    "print(\"\\r\")\n",
    "\n",
    "lst = copy.copy(l)\n",
    "print(\"Cloned List is: \",lst)"
   ]
  },
  {
   "cell_type": "markdown",
   "id": "019115c3",
   "metadata": {},
   "source": [
    "#### 11. Write a Python program to Count occurrences of an element in a list.\n",
    "\n",
    "#### Solution :-"
   ]
  },
  {
   "cell_type": "code",
   "execution_count": 71,
   "id": "67f8ea69",
   "metadata": {},
   "outputs": [
    {
     "name": "stdout",
     "output_type": "stream",
     "text": [
      "Occurance of 10 = 3\n",
      "Occurance of 20 = 2\n",
      "Occurance of 30 = 1\n",
      "Occurance of 40 = 2\n",
      "Occurance of 50 = 1\n"
     ]
    }
   ],
   "source": [
    "from collections import Counter\n",
    "\n",
    "l = [10,20,10,30,40,10,20,50,40]\n",
    "\n",
    "cnt = Counter(l)\n",
    "\n",
    "for i in cnt.keys():\n",
    "    print(f\"Occurance of {i} = {cnt[i]}\")"
   ]
  }
 ],
 "metadata": {
  "kernelspec": {
   "display_name": "Python 3 (ipykernel)",
   "language": "python",
   "name": "python3"
  },
  "language_info": {
   "codemirror_mode": {
    "name": "ipython",
    "version": 3
   },
   "file_extension": ".py",
   "mimetype": "text/x-python",
   "name": "python",
   "nbconvert_exporter": "python",
   "pygments_lexer": "ipython3",
   "version": "3.9.7"
  }
 },
 "nbformat": 4,
 "nbformat_minor": 5
}
