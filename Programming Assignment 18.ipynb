{
 "cells": [
  {
   "cell_type": "markdown",
   "id": "69e7967b",
   "metadata": {},
   "source": [
    "## Programming Assignmnet 18\n",
    "\n",
    "### - by Akash Nandi"
   ]
  },
  {
   "cell_type": "markdown",
   "id": "bcd887d6",
   "metadata": {},
   "source": [
    "### 1. Create a function that takes a list of non-negative integers and strings and return a new list without the strings.\n",
    "\n",
    "#### Solution :-"
   ]
  },
  {
   "cell_type": "code",
   "execution_count": 2,
   "id": "4b8c4ffc",
   "metadata": {},
   "outputs": [
    {
     "data": {
      "text/plain": [
       "[1, 2]"
      ]
     },
     "execution_count": 2,
     "metadata": {},
     "output_type": "execute_result"
    }
   ],
   "source": [
    "def filter_list(lst):\n",
    "    l = []\n",
    "    for i in lst:\n",
    "        if isinstance(i, int):\n",
    "            l.append(i)\n",
    "        else:\n",
    "            pass\n",
    "    return l\n",
    "\n",
    "filter_list([1, 2, \"a\", \"b\"])"
   ]
  },
  {
   "cell_type": "markdown",
   "id": "25a42029",
   "metadata": {},
   "source": [
    "### 2. The &quot;Reverser&quot; takes a string as input and returns that string in reverse order, with the opposite case.\n",
    "\n",
    "#### Solution :-"
   ]
  },
  {
   "cell_type": "code",
   "execution_count": 33,
   "id": "97420e6b",
   "metadata": {},
   "outputs": [
    {
     "data": {
      "text/plain": [
       "'rESrEvEr'"
      ]
     },
     "execution_count": 33,
     "metadata": {},
     "output_type": "execute_result"
    }
   ],
   "source": [
    "def reverse(s):\n",
    "    txt = s[::-1]    # Reversing the input string\n",
    "    for i in txt:\n",
    "        if i.islower():\n",
    "            txt = txt.replace(i, i.upper())\n",
    "        if i.isupper():\n",
    "            txt = txt.replace(i, i.lower())\n",
    "    return txt\n",
    "        \n",
    "reverse(\"ReVeRseR\")"
   ]
  },
  {
   "cell_type": "markdown",
   "id": "35e78c08",
   "metadata": {},
   "source": [
    "### 3. With Python 3, you can assign variables from lists in a much more succinct way. Create variables first, middle and last from the given list using destructuring assignment. Your task is to unpack the list writeyourcodehere into three variables, being first, middle, and last, with middle being everything in between the first and last element. Then print all three variables.\n",
    "\n",
    "#### Solution :-"
   ]
  },
  {
   "cell_type": "code",
   "execution_count": 21,
   "id": "a2d4987d",
   "metadata": {},
   "outputs": [
    {
     "data": {
      "text/plain": [
       "'first = 1, middle = [2, 3, 4, 5], last = 6'"
      ]
     },
     "execution_count": 21,
     "metadata": {},
     "output_type": "execute_result"
    }
   ],
   "source": [
    "def destructure(lst):\n",
    "    first, *middle, last = lst\n",
    "    return f\"first = {first}, middle = {middle}, last = {last}\"\n",
    "\n",
    "lst = [1, 2, 3, 4, 5, 6]\n",
    "destructure(lst)"
   ]
  },
  {
   "cell_type": "markdown",
   "id": "eb80a837",
   "metadata": {},
   "source": [
    "### 4. Write a function that calculates the factorial of a number recursively.\n",
    "\n",
    "#### Solution :-"
   ]
  },
  {
   "cell_type": "code",
   "execution_count": 34,
   "id": "54fed133",
   "metadata": {},
   "outputs": [
    {
     "name": "stdout",
     "output_type": "stream",
     "text": [
      "Enter the value of n: 5\n",
      "The factorial of 5 is 120\n"
     ]
    }
   ],
   "source": [
    "def fact(n):\n",
    "    if n == 0 or n == 1:\n",
    "        return 1\n",
    "    else:\n",
    "        return n*fact(n-1)\n",
    "\n",
    "while True:\n",
    "    n = int(input(\"Enter the value of n: \"))\n",
    "    if n>=0:\n",
    "        print(f\"The factorial of {n} is {fact(n)}\")\n",
    "        break\n",
    "    else:\n",
    "        print(\"Invalid Input...\")\n",
    "        print(\"Please give proper input....\")"
   ]
  },
  {
   "cell_type": "markdown",
   "id": "16cb2312",
   "metadata": {},
   "source": [
    "### 5. Write a function that moves all elements of one type to the end of the list.\n",
    "\n",
    "#### Solution :-"
   ]
  },
  {
   "cell_type": "code",
   "execution_count": 15,
   "id": "c8fce538",
   "metadata": {},
   "outputs": [],
   "source": [
    "def move_to_end(lst, x):\n",
    "    l = []\n",
    "    for i in lst:\n",
    "        if i == x:\n",
    "            ele = lst.pop(lst.index(i))\n",
    "            lst.append(ele)\n",
    "        else:\n",
    "            pass\n",
    "    return lst         "
   ]
  },
  {
   "cell_type": "code",
   "execution_count": 17,
   "id": "268989f1",
   "metadata": {},
   "outputs": [
    {
     "name": "stdout",
     "output_type": "stream",
     "text": [
      "Enter the element to move to end: 1\n"
     ]
    },
    {
     "data": {
      "text/plain": [
       "[2, 3, 4, 5, 6, 1, 1, 1]"
      ]
     },
     "execution_count": 17,
     "metadata": {},
     "output_type": "execute_result"
    }
   ],
   "source": [
    "lst = [1,2,3, 1, 1,4,5,6]\n",
    "n = int(input(\"Enter the element to move to end: \"))\n",
    "move_to_end(lst, n)"
   ]
  },
  {
   "cell_type": "code",
   "execution_count": 18,
   "id": "7f171c8c",
   "metadata": {},
   "outputs": [
    {
     "data": {
      "text/plain": [
       "['b', 'a', 'a', 'a']"
      ]
     },
     "execution_count": 18,
     "metadata": {},
     "output_type": "execute_result"
    }
   ],
   "source": [
    "move_to_end([\"a\", \"a\", \"a\", \"b\"], \"a\")"
   ]
  }
 ],
 "metadata": {
  "kernelspec": {
   "display_name": "Python 3 (ipykernel)",
   "language": "python",
   "name": "python3"
  },
  "language_info": {
   "codemirror_mode": {
    "name": "ipython",
    "version": 3
   },
   "file_extension": ".py",
   "mimetype": "text/x-python",
   "name": "python",
   "nbconvert_exporter": "python",
   "pygments_lexer": "ipython3",
   "version": "3.9.7"
  }
 },
 "nbformat": 4,
 "nbformat_minor": 5
}
