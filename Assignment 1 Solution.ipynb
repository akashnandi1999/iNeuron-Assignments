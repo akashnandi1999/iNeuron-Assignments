{
 "cells": [
  {
   "cell_type": "markdown",
   "id": "37bc0063",
   "metadata": {},
   "source": [
    "## Assignment 1 Solution\n",
    "\n",
    "##  - by Akash Nandi"
   ]
  },
  {
   "cell_type": "raw",
   "id": "4b9e181e",
   "metadata": {},
   "source": [
    "Q-1. In the below elements which of them are values or an expression? eg:- values can be integer or string and expressions will be mathematical operators.\n",
    "\n",
    "Solution:   *          -> Expression \n",
    "            'hello'    -> Values\n",
    "            -87.8      -> Values\n",
    "            -          -> Expression\n",
    "            /          -> Expression\n",
    "            +          -> Expression\n",
    "            6          -> Values\n"
   ]
  },
  {
   "cell_type": "raw",
   "id": "a1073e59",
   "metadata": {},
   "source": [
    "Q-2. What is the difference between string and variable?\n",
    "\n",
    "Solution: Variables are something that we use to store data in a program.\n",
    "          A String is itself a data, so it can be stored in a variable."
   ]
  },
  {
   "cell_type": "raw",
   "id": "13136012",
   "metadata": {},
   "source": [
    "Q-3. Describe three different data types.\n",
    "\n",
    "Solution: Numeric Data Type-> A numeric datatype has integer, float and complex numbers as data.\n",
    "          Boolean Data Type-> A boolean datatype has TRUE(1) and FALSE(0) as values.\n",
    "          Sequence Data Type-> A sequence datatype has List, Tuple, Strings etc."
   ]
  },
  {
   "cell_type": "raw",
   "id": "97f936e4",
   "metadata": {},
   "source": [
    "Q-4. What is an expression made up of? What do all expressions do?\n",
    "\n",
    "Solution: An expresiion is made up of operators, variables or method invocations. An expression is a representation of a value             which is evaluated to achieve different results."
   ]
  },
  {
   "cell_type": "raw",
   "id": "4ae157d6",
   "metadata": {},
   "source": [
    "Q-5. This assignment statements, like spam = 10. What is the difference between an expression and a statement?\n",
    "\n",
    "Solution: Expression-> An expression is something that gives us a value/result when executed.\n",
    "          Statement-> A statement is something that does not return any value when executed but stays in the memory.\n",
    "          \n",
    "          For Example: \"spam = 10\", It is a statement. It won't return any value to us but will be saved in the memory.\n",
    "                       But \"10 + 1\", It is an expression as it returns 11 when executed."
   ]
  },
  {
   "cell_type": "raw",
   "id": "9d6828af",
   "metadata": {},
   "source": [
    "Q-6. After running the following code, what does the variable bacon contain?\n",
    "    bacon = 22\n",
    "    bacon + 1\n",
    "\n",
    "Solution: The variable bacon will contain 22 as it's value."
   ]
  },
  {
   "cell_type": "raw",
   "id": "6f6ba4fd",
   "metadata": {},
   "source": [
    "Q-7. What should the values of the following two terms be?\n",
    "    'spam' + 'spamspam'\n",
    "    'spam' * 3\n",
    "\n",
    "Solution: 'spam' + 'spamspam' -> spamspamspam\n",
    "          'spam' * 3          -> spamspamspam\n",
    "          \n",
    "          In both the cases we will have the same output."
   ]
  },
  {
   "cell_type": "raw",
   "id": "c0f35ba0",
   "metadata": {},
   "source": [
    "Q-8. Why is eggs a valid variable name while 100 is invalid?\n",
    "\n",
    "Solution: Variable names are supposed to start with alphabets not with numbers.\n",
    "          If we try to use 100 which is a number as variable it will give use a Syntax Error:cannot assign to literal"
   ]
  },
  {
   "cell_type": "raw",
   "id": "ec2e19e0",
   "metadata": {},
   "source": [
    "Q-9. What three functions can be used to get the integer, floating-point number, or string version of a value?\n",
    "\n",
    "Solution: For integer -> int()\n",
    "          For float   -> float()\n",
    "          For Strings -> str()"
   ]
  },
  {
   "cell_type": "raw",
   "id": "9d524780",
   "metadata": {},
   "source": [
    "Q-10. Why does this expression cause an error? How can you fix it?\n",
    "      'I have eaten ' + 99 + ' burritos.'\n",
    "\n",
    "Solution: This expression causes an error because Concatenation works only with Strings not with Integers.\n",
    "          To correct it we can use quotations or typecasting as shown below: \n",
    "          'I have eaten ' + '99' + ' burritos.'\n",
    "          'I have eaten ' + str(99) + ' burritos.'"
   ]
  }
 ],
 "metadata": {
  "kernelspec": {
   "display_name": "Python 3 (ipykernel)",
   "language": "python",
   "name": "python3"
  },
  "language_info": {
   "codemirror_mode": {
    "name": "ipython",
    "version": 3
   },
   "file_extension": ".py",
   "mimetype": "text/x-python",
   "name": "python",
   "nbconvert_exporter": "python",
   "pygments_lexer": "ipython3",
   "version": "3.9.7"
  }
 },
 "nbformat": 4,
 "nbformat_minor": 5
}
