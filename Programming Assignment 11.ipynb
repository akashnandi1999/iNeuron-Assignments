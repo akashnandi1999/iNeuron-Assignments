{
 "cells": [
  {
   "cell_type": "markdown",
   "id": "4b19673e",
   "metadata": {},
   "source": [
    "## Programming Assignment - 11\n",
    "\n",
    "### - by Akash Nandi"
   ]
  },
  {
   "cell_type": "markdown",
   "id": "a9535a8b",
   "metadata": {},
   "source": [
    "### 1. Write a Python program to find words which are greater than given length k ?\n",
    "\n",
    "#### Solution :-"
   ]
  },
  {
   "cell_type": "code",
   "execution_count": 8,
   "id": "f4e18195",
   "metadata": {},
   "outputs": [
    {
     "name": "stdout",
     "output_type": "stream",
     "text": [
      "Enter a length: 7\n",
      "Elephant\n",
      "Astrology\n",
      "Scientist\n"
     ]
    }
   ],
   "source": [
    "lst = ['words', 'Elephant', 'Astrology', 'Common', 'Scientist']\n",
    "\n",
    "k = int(input(\"Enter a length: \"))\n",
    "\n",
    "for i in lst:\n",
    "    if len(i)>k:\n",
    "        print(i)"
   ]
  },
  {
   "cell_type": "markdown",
   "id": "f903b54a",
   "metadata": {},
   "source": [
    "### 2. Write a Python program for removing i-th character from a string ?\n",
    "\n",
    "#### Solution :-"
   ]
  },
  {
   "cell_type": "code",
   "execution_count": 18,
   "id": "59e4eb7b",
   "metadata": {},
   "outputs": [
    {
     "name": "stdout",
     "output_type": "stream",
     "text": [
      "Enter a string: Elephants\n",
      "Enter the position from where you want to remove from a string: 9\n",
      "Before removing the 9-th character from the string is: Elephants\n",
      "After removing the 9-th character from the string is: Elephant\n"
     ]
    }
   ],
   "source": [
    "s = input(\"Enter a string: \")\n",
    "pos = int(input(\"Enter the position from where you want to remove from a string: \"))\n",
    "\n",
    "if pos<=len(s):\n",
    "    print(f\"Before removing the {pos}-th character from the string is: {s}\")\n",
    "    s = s.replace(s[pos-1], \"\")\n",
    "    print(f\"After removing the {pos}-th character from the string is: {s}\")\n",
    "else:\n",
    "    print(\"Invalid input for the position of the string.\")\n",
    "\n"
   ]
  },
  {
   "cell_type": "markdown",
   "id": "487ed820",
   "metadata": {},
   "source": [
    "### 3. Write a Python program to split and join a string ?\n",
    "\n",
    "#### Solution :-"
   ]
  },
  {
   "cell_type": "code",
   "execution_count": 19,
   "id": "7257f17d",
   "metadata": {},
   "outputs": [
    {
     "name": "stdout",
     "output_type": "stream",
     "text": [
      "The Original String is: There,are,ghosts,all,over,the,town.\n",
      "We get ['There', 'are', 'ghosts', 'all', 'over', 'the', 'town.'] after splitting the String.\n",
      "After joining the string we get: There are ghosts all over the town.\n"
     ]
    }
   ],
   "source": [
    "s = \"There,are,ghosts,all,over,the,town.\"\n",
    "print(f\"The Original String is: {s}\")\n",
    "k = s.split(\",\")\n",
    "print(f\"We get {k} after splitting the String.\")\n",
    "m = \" \".join(k)\n",
    "print(f\"After joining the string we get: {m}\")"
   ]
  },
  {
   "cell_type": "markdown",
   "id": "ea3076ad",
   "metadata": {},
   "source": [
    "### 4. Write a Python program to check if a given string is binary string or not ?\n",
    "\n",
    "#### Solution :-"
   ]
  },
  {
   "cell_type": "code",
   "execution_count": 22,
   "id": "114b0114",
   "metadata": {},
   "outputs": [
    {
     "name": "stdout",
     "output_type": "stream",
     "text": [
      "Enter a string: 010111001\n",
      "Yes, it is a Binary String\n"
     ]
    }
   ],
   "source": [
    "def check(string):\n",
    "    try:\n",
    "        int(string,2)\n",
    "    except ValueError:\n",
    "        return \"No, it is not a binary String\"\n",
    "    return \"Yes, it is a Binary String\"\n",
    "\n",
    "a = input(\"Enter a string: \")\n",
    "print(check(a))"
   ]
  },
  {
   "cell_type": "markdown",
   "id": "30e009db",
   "metadata": {},
   "source": [
    "### 5. Write a Python program to find uncommon words from two Strings ?\n",
    "\n",
    "#### Solution :-"
   ]
  },
  {
   "cell_type": "code",
   "execution_count": 29,
   "id": "879f42b8",
   "metadata": {},
   "outputs": [
    {
     "name": "stdout",
     "output_type": "stream",
     "text": [
      "Enter the 1st String: Doctorate\n",
      "Enter the 2nd String: geologist\n",
      "The Uncommon Words in both the Strings are:\n"
     ]
    },
    {
     "data": {
      "text/plain": [
       "['D', 'c', 'r', 'a', 'g', 'l', 'g', 'i', 's']"
      ]
     },
     "execution_count": 29,
     "metadata": {},
     "output_type": "execute_result"
    }
   ],
   "source": [
    "def uncommon(str1, str2):\n",
    "    lst = []\n",
    "    for i in str1:\n",
    "        if i not in str2:\n",
    "            lst.append(i)\n",
    "        else:\n",
    "            pass\n",
    "    for i in str2:\n",
    "        if i not in str1:\n",
    "            lst.append(i)\n",
    "        else:\n",
    "            pass\n",
    "    return lst\n",
    "\n",
    "str1 = input(\"Enter the 1st String: \")\n",
    "str2 = input(\"Enter the 2nd String: \")\n",
    "\n",
    "print(\"The Uncommon Words in both the Strings are:\")\n",
    "uncommon(str1, str2)"
   ]
  },
  {
   "cell_type": "markdown",
   "id": "bcb3885a",
   "metadata": {},
   "source": [
    "### 6. Write a Python program to find all duplicate characters in string.\n",
    "\n",
    "#### Solution :-"
   ]
  },
  {
   "cell_type": "code",
   "execution_count": 44,
   "id": "b1938554",
   "metadata": {},
   "outputs": [
    {
     "name": "stdout",
     "output_type": "stream",
     "text": [
      "Enter a string: apple\n",
      "['a', 'p', 'l', 'e']\n"
     ]
    }
   ],
   "source": [
    "s = (input(\"Enter a string: \"))\n",
    "l = [i for i in s.lower()]\n",
    "\n",
    "lst = []\n",
    "for i in l:\n",
    "    if l.count(i)>0:\n",
    "        if i not in lst:\n",
    "            lst.append(i)\n",
    "    else:\n",
    "        pass\n",
    "print(lst)"
   ]
  },
  {
   "cell_type": "markdown",
   "id": "ee4a1616",
   "metadata": {},
   "source": [
    "### 7. Write a Python Program to check if a string contains any special character.\n",
    "\n",
    "#### Solution :-"
   ]
  },
  {
   "cell_type": "code",
   "execution_count": 49,
   "id": "aa95e351",
   "metadata": {},
   "outputs": [
    {
     "name": "stdout",
     "output_type": "stream",
     "text": [
      "Enter a string: Akash\n"
     ]
    },
    {
     "data": {
      "text/plain": [
       "'No, There are no special characters in Akash'"
      ]
     },
     "execution_count": 49,
     "metadata": {},
     "output_type": "execute_result"
    }
   ],
   "source": [
    "def checkSpecial(spe,s):\n",
    "    for i in s:\n",
    "        if i in spe:\n",
    "            return f\"Yes, There are special characters in {s}\"\n",
    "        else:\n",
    "            return f\"No, There are no special characters in {s}\"\n",
    "\n",
    "spe = '[@_!#$%^&*()<>?/\\|}{~:]'\n",
    "\n",
    "s = input(\"Enter a string: \")\n",
    "\n",
    "checkSpecial(spe,s)"
   ]
  }
 ],
 "metadata": {
  "kernelspec": {
   "display_name": "Python 3 (ipykernel)",
   "language": "python",
   "name": "python3"
  },
  "language_info": {
   "codemirror_mode": {
    "name": "ipython",
    "version": 3
   },
   "file_extension": ".py",
   "mimetype": "text/x-python",
   "name": "python",
   "nbconvert_exporter": "python",
   "pygments_lexer": "ipython3",
   "version": "3.9.7"
  }
 },
 "nbformat": 4,
 "nbformat_minor": 5
}
