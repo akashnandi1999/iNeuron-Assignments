{
 "cells": [
  {
   "cell_type": "markdown",
   "id": "f236c7e3",
   "metadata": {},
   "source": [
    "## Programming Assignemnt 23\n",
    "\n",
    "### - by Akash Nandi"
   ]
  },
  {
   "cell_type": "markdown",
   "id": "d7392f75",
   "metadata": {},
   "source": [
    "### 1. Create a function that takes a number as an argument and returns True or False depending on whether the number is symmetrical or not. A number is symmetrical when it is the same as its reverse. Examples is_symmetrical(7227) ➞ True is_symmetrical(12567) ➞ False is_symmetrical(44444444) ➞ True is_symmetrical(9939) ➞ False is_symmetrical(1112111) ➞ True.\n",
    "\n",
    "#### Solution :-"
   ]
  },
  {
   "cell_type": "code",
   "execution_count": 2,
   "id": "e53c4fda",
   "metadata": {},
   "outputs": [
    {
     "name": "stdout",
     "output_type": "stream",
     "text": [
      "Enter a number: 7227\n"
     ]
    },
    {
     "data": {
      "text/plain": [
       "'True'"
      ]
     },
     "execution_count": 2,
     "metadata": {},
     "output_type": "execute_result"
    }
   ],
   "source": [
    "def is_symmetrical(num):\n",
    "    n = num\n",
    "    s = 0\n",
    "    while(n>0):\n",
    "        d = n%10\n",
    "        s = s*10 + d\n",
    "        n = n//10\n",
    "    if num == s:\n",
    "        return \"True\"\n",
    "    else:\n",
    "        return \"False\"\n",
    "    \n",
    "num = int(input(\"Enter a number: \"))\n",
    "is_symmetrical(num)"
   ]
  },
  {
   "cell_type": "markdown",
   "id": "895cff73",
   "metadata": {},
   "source": [
    "### 2. Given a string of numbers separated by a comma and space, return the product of the numbers. Examples multiply_nums(\"2, 3\") ➞ 6 multiply_nums(\"1, 2, 3, 4\") ➞ 24 multiply_nums(\"54, 75, 453, 0\") ➞ 0 multiply_nums(\"10, -2\") ➞ -20.\n",
    "\n",
    "#### Solution :-"
   ]
  },
  {
   "cell_type": "code",
   "execution_count": 3,
   "id": "fc737d75",
   "metadata": {},
   "outputs": [
    {
     "name": "stdout",
     "output_type": "stream",
     "text": [
      "Give your input: 2, 3\n"
     ]
    },
    {
     "data": {
      "text/plain": [
       "6"
      ]
     },
     "execution_count": 3,
     "metadata": {},
     "output_type": "execute_result"
    }
   ],
   "source": [
    "def multiply_nums(s):\n",
    "    s = s.replace(\" \",'')\n",
    "    s = s.split(\",\")\n",
    "    mul = 1\n",
    "    for i in s:\n",
    "        mul *= int(i)\n",
    "    return mul\n",
    "s = input(\"Give your input: \")\n",
    "multiply_nums(s)"
   ]
  },
  {
   "cell_type": "markdown",
   "id": "04eb7390",
   "metadata": {},
   "source": [
    "### 3. Create a function that squares every digit of a number. Examples square_digits(9119) ➞ 811181 square_digits(2483) ➞ 416649 square_digits(3212) ➞ 9414 Notes The function receives an integer and must return an integer.\n",
    "\n",
    "#### Solution :-"
   ]
  },
  {
   "cell_type": "code",
   "execution_count": 4,
   "id": "9da3f40e",
   "metadata": {},
   "outputs": [
    {
     "name": "stdout",
     "output_type": "stream",
     "text": [
      "Enter a number: 9119\n"
     ]
    },
    {
     "data": {
      "text/plain": [
       "'811181'"
      ]
     },
     "execution_count": 4,
     "metadata": {},
     "output_type": "execute_result"
    }
   ],
   "source": [
    "def square_digits(n):\n",
    "    return ''.join(str(int(i)**2) for i in str(n))\n",
    "n = int(input(\"Enter a number: \"))\n",
    "square_digits(n)"
   ]
  },
  {
   "cell_type": "code",
   "execution_count": null,
   "id": "0d802688",
   "metadata": {},
   "outputs": [],
   "source": []
  }
 ],
 "metadata": {
  "kernelspec": {
   "display_name": "Python 3 (ipykernel)",
   "language": "python",
   "name": "python3"
  },
  "language_info": {
   "codemirror_mode": {
    "name": "ipython",
    "version": 3
   },
   "file_extension": ".py",
   "mimetype": "text/x-python",
   "name": "python",
   "nbconvert_exporter": "python",
   "pygments_lexer": "ipython3",
   "version": "3.9.7"
  }
 },
 "nbformat": 4,
 "nbformat_minor": 5
}
