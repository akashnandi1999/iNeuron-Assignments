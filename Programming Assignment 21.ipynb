{
 "cells": [
  {
   "cell_type": "markdown",
   "id": "d9fcf306",
   "metadata": {},
   "source": [
    "## Programming Assignment 21\n",
    "\n",
    "### - by Akash Nandi"
   ]
  },
  {
   "cell_type": "markdown",
   "id": "e903cf44",
   "metadata": {},
   "source": [
    "### 1. Write a function that takes a list and a number as arguments. Add the number to the end of the list, then remove the first element of the list. The function should then return the updated list. Examples next_in_line([5, 6, 7, 8, 9], 1) ➞ [6, 7, 8, 9, 1] next_in_line([7, 6, 3, 23, 17], 10) ➞ [6, 3, 23, 17, 10] next_in_line([1, 10, 20, 42 ], 6) ➞ [10, 20, 42, 6] next_in_line([], 6) ➞ \"No list has been selected\".\n",
    "\n",
    "#### Solution :-"
   ]
  },
  {
   "cell_type": "code",
   "execution_count": 2,
   "id": "8e3d6074",
   "metadata": {},
   "outputs": [
    {
     "name": "stdout",
     "output_type": "stream",
     "text": [
      "Enter the number you want to add: 6\n"
     ]
    },
    {
     "data": {
      "text/plain": [
       "[10, 20, 42, 6]"
      ]
     },
     "execution_count": 2,
     "metadata": {},
     "output_type": "execute_result"
    }
   ],
   "source": [
    "def next_in_line(l,n):\n",
    "    if len(l) == 0:\n",
    "        return \"No list has been selected\"\n",
    "    else:\n",
    "        l.append(n)\n",
    "        l.remove(l[0])\n",
    "        return l\n",
    "\n",
    "l = [1,10,20,42]\n",
    "n = int(input(\"Enter the number you want to add: \"))\n",
    "next_in_line(l,n)"
   ]
  },
  {
   "cell_type": "markdown",
   "id": "e2cf88cc",
   "metadata": {},
   "source": [
    "### 2. Create the function that takes a list of dictionaries and returns the sum of people's budgets. Examples get_budgets([ { \"name\": \"John\", \"age\": 21, \"budget\": 23000 }, { \"name\": \"Steve\", \"age\": 32, \"budget\": 40000 }, { \"name\": \"Martin\", \"age\": 16, \"budget\": 2700 } ]) ➞ 65700 get_budgets([ { \"name\": \"John\", \"age\": 21, \"budget\": 29000 }, { \"name\": \"Steve\", \"age\": 32, \"budget\": 32000 }, { \"name\": \"Martin\", \"age\": 16, \"budget\": 1600 } ]) ➞ 62600.\n",
    "\n",
    "#### Solution :-"
   ]
  },
  {
   "cell_type": "code",
   "execution_count": 3,
   "id": "1ede53a9",
   "metadata": {},
   "outputs": [
    {
     "data": {
      "text/plain": [
       "65700"
      ]
     },
     "execution_count": 3,
     "metadata": {},
     "output_type": "execute_result"
    }
   ],
   "source": [
    "def get_budgets(l):\n",
    "    sum = 0\n",
    "    for d in l:\n",
    "        for i in d.keys():\n",
    "            if i == 'budget':\n",
    "                sum += d[i]\n",
    "    return sum\n",
    "\n",
    "d = [ { \"name\": \"John\", \"age\": 21, \"budget\": 23000 }, { \"name\": \"Steve\", \"age\": 32, \"budget\": 40000 }, { \"name\": \"Martin\", \"age\": 16, \"budget\": 2700 } ]\n",
    "get_budgets(d)"
   ]
  },
  {
   "cell_type": "markdown",
   "id": "3e0cfb51",
   "metadata": {},
   "source": [
    "### 3. Create a function that takes a string and returns a string with its letters in alphabetical order. Examples alphabet_soup(\"hello\") ➞ \"ehllo\" alphabet_soup(\"edabit\") ➞ \"abdeit\" alphabet_soup(\"hacker\") ➞ \"acehkr\" alphabet_soup(\"geek\") ➞ \"eegk\" alphabet_soup(\"javascript\") ➞ \"aacijprstv\".\n",
    "\n",
    "#### Solution :-"
   ]
  },
  {
   "cell_type": "code",
   "execution_count": 7,
   "id": "e66c28e4",
   "metadata": {},
   "outputs": [
    {
     "name": "stdout",
     "output_type": "stream",
     "text": [
      "Enter a string: hello\n"
     ]
    },
    {
     "data": {
      "text/plain": [
       "'ehllo'"
      ]
     },
     "execution_count": 7,
     "metadata": {},
     "output_type": "execute_result"
    }
   ],
   "source": [
    "def alphabate_soup(s):\n",
    "    return ''.join(sorted(s))\n",
    "\n",
    "s = input(\"Enter a string: \")\n",
    "alphabate_soup(s)"
   ]
  },
  {
   "cell_type": "markdown",
   "id": "798c3ac2",
   "metadata": {},
   "source": [
    "### 4. Suppose that you invest $10,000 for 10 years at an interest rate of 6% compounded monthly. What will be the value of your investment at the end of the 10 year period? Create a function that accepts the principal p, the term in years t, the interest rate r, and the number of compounding periods per year n. The function returns the value at the end of term rounded to the nearest cent. For the example above: compound_interest(10000, 10, 0.06, 12) ➞ 18193.97 Note that the interest rate is given as a decimal and n=12 because with monthly compounding there are 12 periods per year. Compounding can also be done annually, quarterly, weekly, or daily. Examples compound_interest(100, 1, 0.05, 1) ➞ 105.0 compound_interest(3500, 15, 0.1, 4) ➞ 15399.26 compound_interest(100000, 20, 0.15, 365) ➞ 2007316.26\n",
    "\n",
    "#### Solution :-"
   ]
  },
  {
   "cell_type": "code",
   "execution_count": 8,
   "id": "eafef1c2",
   "metadata": {},
   "outputs": [
    {
     "name": "stdout",
     "output_type": "stream",
     "text": [
      "Enter principle amount: 100000\n",
      "Enter term in years: 20\n",
      "Enter interest rate: 0.15\n",
      "Enter no. of compounding period: 365\n"
     ]
    },
    {
     "data": {
      "text/plain": [
       "2007316.26"
      ]
     },
     "execution_count": 8,
     "metadata": {},
     "output_type": "execute_result"
    }
   ],
   "source": [
    "def compound_interest(p,t,r,n):\n",
    "    ci = round(p *(1 + (r/n)) ** (t * n),2)\n",
    "    return ci\n",
    "\n",
    "p = int(input(\"Enter principle amount: \"))\n",
    "t = int(input(\"Enter term in years: \"))\n",
    "r = float(input(\"Enter interest rate: \"))\n",
    "n = int(input(\"Enter no. of compounding period: \"))\n",
    "compound_interest(p,t,r,n)"
   ]
  },
  {
   "cell_type": "markdown",
   "id": "cc59c654",
   "metadata": {},
   "source": [
    "### 5. Write a function that takes a list of elements and returns only the integers. Examples return_only_integer([9, 2, \"space\", \"car\", \"lion\", 16]) ➞ [9, 2, 16] return_only_integer([\"hello\", 81, \"basketball\", 123, \"fox\"]) ➞ [81, 123] return_only_integer([10, \"121\", 56, 20, \"car\", 3, \"lion\"]) ➞ [10, 56, 20, 3] return_only_integer([\"String\", True, 3.3, 1]) ➞ [1].\n",
    "\n",
    "#### Solution :-"
   ]
  },
  {
   "cell_type": "code",
   "execution_count": 9,
   "id": "bf49ca57",
   "metadata": {},
   "outputs": [
    {
     "data": {
      "text/plain": [
       "[1]"
      ]
     },
     "execution_count": 9,
     "metadata": {},
     "output_type": "execute_result"
    }
   ],
   "source": [
    "def return_only_integer(l):\n",
    "    return list(filter(lambda x:type(x) == int,l))\n",
    "\n",
    "l = [\"String\", True, 3.3, 1]\n",
    "return_only_integer(l)"
   ]
  }
 ],
 "metadata": {
  "kernelspec": {
   "display_name": "Python 3 (ipykernel)",
   "language": "python",
   "name": "python3"
  },
  "language_info": {
   "codemirror_mode": {
    "name": "ipython",
    "version": 3
   },
   "file_extension": ".py",
   "mimetype": "text/x-python",
   "name": "python",
   "nbconvert_exporter": "python",
   "pygments_lexer": "ipython3",
   "version": "3.9.7"
  }
 },
 "nbformat": 4,
 "nbformat_minor": 5
}
