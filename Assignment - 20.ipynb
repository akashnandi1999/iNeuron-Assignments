{
 "cells": [
  {
   "cell_type": "code",
   "execution_count": 2,
   "id": "61fa3d10",
   "metadata": {},
   "outputs": [],
   "source": [
    "#Q1. Set the variable test1 to the string 'This is a test of the emergency text system' and save test1 to a\n",
    "#file named test.txt.\n",
    "\n",
    "test1 = 'This is a test of the emergency text system'\n",
    "\n",
    "file = open('test.txt','w')\n",
    "file.write(test1)\n",
    "file.close()"
   ]
  },
  {
   "cell_type": "code",
   "execution_count": 5,
   "id": "ac8ad54b",
   "metadata": {},
   "outputs": [
    {
     "data": {
      "text/plain": [
       "'This is a test of the emergency text system'"
      ]
     },
     "execution_count": 5,
     "metadata": {},
     "output_type": "execute_result"
    }
   ],
   "source": [
    "#Q2. Read the contents of the file test.txt into the variable test2. Is there a difference between test 1\n",
    "#and test 2?\n",
    "\n",
    "file = open('test.txt','r')\n",
    "test2 = file.read()\n",
    "test2\n",
    "#No there is no difference between test1"
   ]
  },
  {
   "cell_type": "code",
   "execution_count": 8,
   "id": "12608010",
   "metadata": {},
   "outputs": [],
   "source": [
    "#Q3. Create a CSV file called books.csv by using these lines:\n",
    "\n",
    "file = open('book.csv','w')\n",
    "file.write(\"\"\"title,author,year\n",
    "The Weirdstone of Brisingamen,Alan Garner,1960\n",
    "Perdido Street Station,China Miéville,2000\n",
    "Thud!,Terry Pratchett,2005\n",
    "The Spellman Files,Lisa Lutz,2007\n",
    "Small Gods,Terry Pratchett,1992\"\"\")\n",
    "file.close()"
   ]
  },
  {
   "cell_type": "code",
   "execution_count": 9,
   "id": "ed61b45b",
   "metadata": {},
   "outputs": [],
   "source": [
    "#Q4. Use the sqlite3 module to create a SQLite database called books.db, and a table called books with\n",
    "#these fields: title (text), author (text), and year (integer).\n",
    "\n",
    "import sqlite3\n",
    "db = sqlite3.connect('book.db')\n",
    "cursor = db.cursor()\n",
    "cursor.execute(\"CREATE TABLE books (title text,author text,year integer)\")\n",
    "db.commit()\n",
    "db.close()"
   ]
  },
  {
   "cell_type": "code",
   "execution_count": 16,
   "id": "ec7a0d1f",
   "metadata": {},
   "outputs": [
    {
     "name": "stdout",
     "output_type": "stream",
     "text": [
      "[('books',)]\n"
     ]
    }
   ],
   "source": [
    "db = sqlite3.connect('book.db')\n",
    "cursor = db.cursor()\n",
    "cursor.execute(\"\"\"SELECT name FROM sqlite_master  \n",
    "  WHERE type='table'\"\"\") # to check all table present inside db\n",
    "print(cursor.fetchall())\n",
    "db.commit()\n",
    "db.close()"
   ]
  },
  {
   "cell_type": "code",
   "execution_count": 17,
   "id": "f828b228",
   "metadata": {},
   "outputs": [],
   "source": [
    "#Q5. Read books.csv and insert its data into the book table.\n",
    "import csv\n",
    "conn = sqlite3.connect('book.db')\n",
    "cursor = conn.cursor()\n",
    "with open('book.csv','r') as file:\n",
    "    books = csv.DictReader(file)\n",
    "    for book in books:\n",
    "        cursor.execute(\"INSERT INTO books VALUES (?,?,?)\",(book['title'],book['author'],book['year']))\n",
    "conn.commit()\n",
    "conn.close()"
   ]
  },
  {
   "cell_type": "code",
   "execution_count": 20,
   "id": "bad0c7fc",
   "metadata": {},
   "outputs": [
    {
     "name": "stdout",
     "output_type": "stream",
     "text": [
      "[('The Weirdstone of Brisingamen', 'Alan Garner', 1960), ('Perdido Street Station', 'China Miéville', 2000), ('Thud!', 'Terry Pratchett', 2005), ('The Spellman Files', 'Lisa Lutz', 2007), ('Small Gods', 'Terry Pratchett', 1992)]\n"
     ]
    }
   ],
   "source": [
    "db = sqlite3.connect('book.db')\n",
    "cursor = db.cursor()\n",
    "cursor.execute(\"\"\"SELECT * FROM books\"\"\") # to check all value inside book table\n",
    "print(cursor.fetchall())\n",
    "db.commit()\n",
    "db.close()"
   ]
  },
  {
   "cell_type": "code",
   "execution_count": 21,
   "id": "2f20df2b",
   "metadata": {},
   "outputs": [
    {
     "name": "stdout",
     "output_type": "stream",
     "text": [
      "[('Perdido Street Station',), ('Small Gods',), ('The Spellman Files',), ('The Weirdstone of Brisingamen',), ('Thud!',)]\n"
     ]
    }
   ],
   "source": [
    "#Q6. Select and print the title column from the book table in alphabetical order.\n",
    "db = sqlite3.connect('book.db')\n",
    "cursor = db.cursor()\n",
    "cursor.execute(\"\"\"SELECT title FROM books ORDER BY title ASC\"\"\") # to check all value inside book table\n",
    "print(cursor.fetchall())\n",
    "db.commit()\n",
    "db.close()"
   ]
  },
  {
   "cell_type": "code",
   "execution_count": 22,
   "id": "586e2f68",
   "metadata": {},
   "outputs": [
    {
     "name": "stdout",
     "output_type": "stream",
     "text": [
      "[('The Weirdstone of Brisingamen', 'Alan Garner', 1960), ('Small Gods', 'Terry Pratchett', 1992), ('Perdido Street Station', 'China Miéville', 2000), ('Thud!', 'Terry Pratchett', 2005), ('The Spellman Files', 'Lisa Lutz', 2007)]\n"
     ]
    }
   ],
   "source": [
    "#Q7. From the book table, select and print all columns in the order of publication.\n",
    "db = sqlite3.connect('book.db')\n",
    "cursor = db.cursor()\n",
    "cursor.execute(\"\"\"SELECT * FROM books ORDER BY year\"\"\") # to check all value inside book table\n",
    "print(cursor.fetchall())\n",
    "db.commit()\n",
    "db.close()"
   ]
  },
  {
   "cell_type": "code",
   "execution_count": 23,
   "id": "10d3289d",
   "metadata": {},
   "outputs": [],
   "source": [
    "#Q8. Use the sqlalchemy module to connect to the sqlite3 database books.db that you just made in exercise 6.\n",
    "import sqlalchemy\n",
    "conn = sqlalchemy.create_engine('sqlite:///books.db')"
   ]
  },
  {
   "cell_type": "code",
   "execution_count": 24,
   "id": "8a07d9be",
   "metadata": {},
   "outputs": [
    {
     "name": "stdout",
     "output_type": "stream",
     "text": [
      "Collecting redis\n",
      "  Downloading redis-4.3.4-py3-none-any.whl (246 kB)\n",
      "Requirement already satisfied: packaging>=20.4 in d:\\anaconda\\lib\\site-packages (from redis) (21.3)\n",
      "Collecting async-timeout>=4.0.2\n",
      "  Downloading async_timeout-4.0.2-py3-none-any.whl (5.8 kB)\n",
      "Collecting deprecated>=1.2.3\n",
      "  Downloading Deprecated-1.2.13-py2.py3-none-any.whl (9.6 kB)\n",
      "Requirement already satisfied: wrapt<2,>=1.10 in d:\\anaconda\\lib\\site-packages (from deprecated>=1.2.3->redis) (1.12.1)\n",
      "Requirement already satisfied: pyparsing!=3.0.5,>=2.0.2 in d:\\anaconda\\lib\\site-packages (from packaging>=20.4->redis) (3.0.4)\n",
      "Installing collected packages: deprecated, async-timeout, redis\n",
      "  Attempting uninstall: async-timeout\n",
      "    Found existing installation: async-timeout 4.0.1\n",
      "    Uninstalling async-timeout-4.0.1:\n",
      "      Successfully uninstalled async-timeout-4.0.1\n",
      "Successfully installed async-timeout-4.0.2 deprecated-1.2.13 redis-4.3.4\n"
     ]
    }
   ],
   "source": [
    "#Q9. Install the Redis server and the Python redis library (pip install redis) on your computer. Create a\n",
    "#Redis hash called test with the fields count (1) and name ('Fester Bestertester'). Print all the fields for\n",
    "#test.\n",
    "\n",
    "!pip install redis"
   ]
  },
  {
   "cell_type": "code",
   "execution_count": 31,
   "id": "a21142b4",
   "metadata": {},
   "outputs": [
    {
     "name": "stderr",
     "output_type": "stream",
     "text": [
      "C:\\Users\\pashi\\AppData\\Local\\Temp\\ipykernel_18928\\182767699.py:4: DeprecationWarning: Redis.hmset() is deprecated. Use Redis.hset() instead.\n",
      "  result = r.hmset(\"test\", {\n"
     ]
    },
    {
     "data": {
      "text/plain": [
       "{b'name': b'Fester Bestertester', b'age': b'1', b'count': b'1'}"
      ]
     },
     "execution_count": 31,
     "metadata": {},
     "output_type": "execute_result"
    }
   ],
   "source": [
    "import redis\n",
    "\n",
    "r = redis.Redis(host='localhost', port=6379, db=0)\n",
    "result = r.hmset(\"test\", {\n",
    "  \"name\": \"Fester Bestertester\",\n",
    "  \"count\": 1\n",
    "})\n",
    "r.hgetall('test')"
   ]
  },
  {
   "cell_type": "code",
   "execution_count": 32,
   "id": "982356ae",
   "metadata": {},
   "outputs": [
    {
     "data": {
      "text/plain": [
       "b'2'"
      ]
     },
     "execution_count": 32,
     "metadata": {},
     "output_type": "execute_result"
    }
   ],
   "source": [
    "#Q10. Increment the count field of test and print it.\n",
    "conn.hincrby('test', 'count', 1)\n",
    "conn.hget('test', 'count')"
   ]
  }
 ],
 "metadata": {
  "kernelspec": {
   "display_name": "Python 3 (ipykernel)",
   "language": "python",
   "name": "python3"
  },
  "language_info": {
   "codemirror_mode": {
    "name": "ipython",
    "version": 3
   },
   "file_extension": ".py",
   "mimetype": "text/x-python",
   "name": "python",
   "nbconvert_exporter": "python",
   "pygments_lexer": "ipython3",
   "version": "3.9.12"
  }
 },
 "nbformat": 4,
 "nbformat_minor": 5
}
