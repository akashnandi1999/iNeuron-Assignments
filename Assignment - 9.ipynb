{
 "cells": [
  {
   "cell_type": "markdown",
   "id": "29d05242",
   "metadata": {},
   "source": [
    "## Assignment - 9\n",
    "\n",
    "### - by Akash Nandi"
   ]
  },
  {
   "attachments": {},
   "cell_type": "markdown",
   "id": "c45dab00",
   "metadata": {},
   "source": [
    "### 1. To what does a relative path refer ?\n",
    "\n",
    "#### Solution :- A relative path refers to a location that is relative to a current directory. We use dot (.) or double-dot (..) for relative paths.\n",
    "#### ----------------------------------------------------------------------------------------------------------------------------------------------------------------------------------------"
   ]
  },
  {
   "cell_type": "markdown",
   "id": "d910ee59",
   "metadata": {},
   "source": [
    "### 2. What does an absolute path start with your operating system ?\n",
    "\n",
    "#### Solution :- An absolute path contains the full set of directories from the root of the file system up to your target file or directory. In Windows, an absolute path starts with a drive like C:\\ .\n",
    "#### ----------------------------------------------------------------------------------------------------------------------------------------------------------------------------------------"
   ]
  },
  {
   "cell_type": "markdown",
   "id": "41b3ee59",
   "metadata": {},
   "source": [
    "### 3. What do the functions os.getcwd() and os.chdir() do ?\n",
    "\n",
    "#### Solution :- os.getcwd() gives us the current working Directory. os.chdir() allows us to set the current working directory to a path of our choice.\n",
    "#### ----------------------------------------------------------------------------------------------------------------------------------------------------------------------------------------"
   ]
  },
  {
   "cell_type": "markdown",
   "id": "88e7c76b",
   "metadata": {},
   "source": [
    "### 4. What are the . and .. folders ?\n",
    "\n",
    "#### Solution :-  '.' refers to the current directory. '..' allows you to refer to the parent of a directory.\n",
    "#### ----------------------------------------------------------------------------------------------------------------------------------------------------------------------------------------"
   ]
  },
  {
   "cell_type": "markdown",
   "id": "debcb5ee",
   "metadata": {},
   "source": [
    "### 5. In C:\\bacon\\eggs\\spam.txt, which part is the dir name, and which part is the base name ?\n",
    "\n",
    "#### Solution :- Directory Name: C:\\bacon\\eggs, Base Name: spam.txt\n",
    "#### ----------------------------------------------------------------------------------------------------------------------------------------------------------------------------------------"
   ]
  },
  {
   "cell_type": "markdown",
   "id": "c46192cb",
   "metadata": {},
   "source": [
    "### What are the three “mode” arguments that can be passed to the open() function ?\n",
    "\n",
    "#### Solution :- read, write and append are the three 'mode' arguments that can be passed to the open() function.\n",
    "#### ----------------------------------------------------------------------------------------------------------------------------------------------------------------------------------------"
   ]
  },
  {
   "cell_type": "markdown",
   "id": "8bf4ec7c",
   "metadata": {},
   "source": [
    "### 7. What happens if an existing file is opened in write mode ?\n",
    "\n",
    "#### Solution :- If an existing file is opened in write mode then all the previous Data in the file will be erased and overwriten.\n",
    "#### ----------------------------------------------------------------------------------------------------------------------------------------------------------------------------------------"
   ]
  },
  {
   "cell_type": "markdown",
   "id": "c43ba039",
   "metadata": {},
   "source": [
    "### 8. How do you tell the difference between read() and readlines()?\n",
    "\n",
    "#### Solution :- read() is used to read only single character from the standard output device. readlines() is used to read a line or string from the standard output device.\n",
    "#### ----------------------------------------------------------------------------------------------------------------------------------------------------------------------------------------"
   ]
  },
  {
   "cell_type": "markdown",
   "id": "858747e6",
   "metadata": {},
   "source": [
    "### 9. What data structure does a shelf value resemble ?\n",
    "\n",
    "#### Solution :- A shelf value resembles a dictionary value containing K"
   ]
  }
 ],
 "metadata": {
  "kernelspec": {
   "display_name": "Python 3 (ipykernel)",
   "language": "python",
   "name": "python3"
  },
  "language_info": {
   "codemirror_mode": {
    "name": "ipython",
    "version": 3
   },
   "file_extension": ".py",
   "mimetype": "text/x-python",
   "name": "python",
   "nbconvert_exporter": "python",
   "pygments_lexer": "ipython3",
   "version": "3.9.7"
  }
 },
 "nbformat": 4,
 "nbformat_minor": 5
}
