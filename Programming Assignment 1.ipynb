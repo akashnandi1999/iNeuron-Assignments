{
 "cells": [
  {
   "cell_type": "markdown",
   "id": "3fb3512a",
   "metadata": {},
   "source": [
    "Q-1. Write a Python program to print \"Hello Python&quot\" ?\n",
    "\n",
    "Solution:-"
   ]
  },
  {
   "cell_type": "code",
   "execution_count": 2,
   "id": "4cd4406b",
   "metadata": {},
   "outputs": [
    {
     "name": "stdout",
     "output_type": "stream",
     "text": [
      "Hello Python\n"
     ]
    }
   ],
   "source": [
    "print(\"Hello Python\")"
   ]
  },
  {
   "cell_type": "markdown",
   "id": "af7a5962",
   "metadata": {},
   "source": [
    "Q-2. Write a Python program to do arithmetical operations addition and division.\n",
    "\n",
    "Solution:-"
   ]
  },
  {
   "cell_type": "code",
   "execution_count": 124,
   "id": "5d815aa5",
   "metadata": {},
   "outputs": [
    {
     "name": "stdout",
     "output_type": "stream",
     "text": [
      "Enter 1st number: 19\n",
      "Enter 2nd number: 3\n",
      "\n",
      "\n",
      "Addition Operation Result = 22\n",
      "Division Operation Result = 6.333\n"
     ]
    }
   ],
   "source": [
    "num1 = int(input(\"Enter 1st number: \"))\n",
    "num2 = int(input(\"Enter 2nd number: \"))\n",
    "\n",
    "print(\"\\n\")\n",
    "print(\"Addition Operation Result =\",num1+num2)\n",
    "print(\"Division Operation Result =\",str(num1/num2)[:5])"
   ]
  },
  {
   "cell_type": "markdown",
   "id": "bab1edcd",
   "metadata": {},
   "source": [
    "Q-3. Write a Python program to find the area of a triangle.\n",
    "\n",
    "Solution:-"
   ]
  },
  {
   "cell_type": "code",
   "execution_count": 10,
   "id": "3c8cda00",
   "metadata": {},
   "outputs": [
    {
     "name": "stdout",
     "output_type": "stream",
     "text": [
      "Enter the base of the Triangle: 6\n",
      "Enter the height of the Triangle:4\n",
      "\n",
      "\n",
      "Area of the Triangle = 12.0\n"
     ]
    }
   ],
   "source": [
    "b = int(input(\"Enter the base of the Triangle: \"))\n",
    "h = int(input(\"Enter the height of the Triangle:\"))\n",
    "\n",
    "area = (b*h)/2\n",
    "print(\"\\n\")\n",
    "print(\"Area of the Triangle =\",str(area)[:5])"
   ]
  },
  {
   "cell_type": "markdown",
   "id": "d02d8c88",
   "metadata": {},
   "source": [
    "Q-4. Write a Python program to swap two variables.\n",
    "\n",
    "Solution:-"
   ]
  },
  {
   "cell_type": "code",
   "execution_count": 8,
   "id": "e9477011",
   "metadata": {
    "scrolled": true
   },
   "outputs": [
    {
     "name": "stdout",
     "output_type": "stream",
     "text": [
      "Enter 1st number: 4\n",
      "Enter 2nd number: 5\n",
      "\n",
      "\n",
      "Initial value of a = 4\n",
      "Initial value of b = 5\n",
      "\n",
      "\n",
      "After swapping value of a = 5\n",
      "After swapping value of b = 4\n"
     ]
    }
   ],
   "source": [
    "a = int(input(\"Enter 1st number: \"))\n",
    "b = int(input(\"Enter 2nd number: \"))\n",
    "print(\"\\n\")\n",
    "print(\"Initial value of a =\",a)\n",
    "print(\"Initial value of b =\",b)\n",
    "\n",
    "a = a+b\n",
    "b = a-b\n",
    "a = a-b\n",
    "\n",
    "print(\"\\n\")\n",
    "print(\"After swapping value of a =\",a)\n",
    "print(\"After swapping value of b =\",b)"
   ]
  },
  {
   "cell_type": "markdown",
   "id": "d217c0e7",
   "metadata": {},
   "source": [
    "Q-5. Write a Python program to generate a random number.\n",
    "\n",
    "Solution:-"
   ]
  },
  {
   "cell_type": "code",
   "execution_count": 123,
   "id": "5f06dd13",
   "metadata": {},
   "outputs": [
    {
     "name": "stdout",
     "output_type": "stream",
     "text": [
      "Enter the 1st range: 1\n",
      "Enter the 2nd range: 100\n",
      "A generic random number generation: 0.2691573504784015\n",
      "An integer random number generation: 39\n"
     ]
    }
   ],
   "source": [
    "import random\n",
    "\n",
    "a = int(input(\"Enter the 1st range: \"))\n",
    "b = int(input(\"Enter the 2nd range: \"))\n",
    "\n",
    "num = random.random()\n",
    "number = random.randint(1,100)\n",
    "print(\"A generic random number generation:\",num)\n",
    "print(\"An integer random number generation:\",number)"
   ]
  }
 ],
 "metadata": {
  "kernelspec": {
   "display_name": "Python 3 (ipykernel)",
   "language": "python",
   "name": "python3"
  },
  "language_info": {
   "codemirror_mode": {
    "name": "ipython",
    "version": 3
   },
   "file_extension": ".py",
   "mimetype": "text/x-python",
   "name": "python",
   "nbconvert_exporter": "python",
   "pygments_lexer": "ipython3",
   "version": "3.9.7"
  }
 },
 "nbformat": 4,
 "nbformat_minor": 5
}
