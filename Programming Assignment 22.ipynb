{
 "cells": [
  {
   "cell_type": "markdown",
   "id": "6a7582c5",
   "metadata": {},
   "source": [
    "## Programming Assignment 22\n",
    "\n",
    "### - by Akash Nandi"
   ]
  },
  {
   "cell_type": "markdown",
   "id": "241920b3",
   "metadata": {},
   "source": [
    "### 1. Create a function that takes three parameters where:  x is the start of the range (inclusive).  y is the end of the range (inclusive).  n is the divisor to be checked against. Return an ordered list with numbers in the range that are divisible by the third parameter n. Return an empty list if there are no numbers that are divisible by n. Examples list_operation(1, 10, 3) ➞ [3, 6, 9] list_operation(7, 9, 2) ➞ [8] list_operation(15, 20, 7) ➞ []\n",
    "\n",
    "#### Solution :-"
   ]
  },
  {
   "cell_type": "code",
   "execution_count": 1,
   "id": "ade0bb0e",
   "metadata": {},
   "outputs": [
    {
     "name": "stdout",
     "output_type": "stream",
     "text": [
      "x: 15\n",
      "y: 20\n",
      "n: 7\n"
     ]
    },
    {
     "data": {
      "text/plain": [
       "[]"
      ]
     },
     "execution_count": 1,
     "metadata": {},
     "output_type": "execute_result"
    }
   ],
   "source": [
    "def list_operation(x,y,n):\n",
    "    return [i for i in range(x,y+1) if i%n == 0]\n",
    "\n",
    "x = int(input(\"x: \"))\n",
    "y = int(input(\"y: \"))\n",
    "n = int(input(\"n: \"))\n",
    "list_operation(x,y,n)"
   ]
  },
  {
   "cell_type": "markdown",
   "id": "96e00493",
   "metadata": {},
   "source": [
    "### 2. Create a function that takes in two lists and returns True if the second list follows the first list by one element, and False otherwise. In other words, determine if the second list is the first list shifted to the right by 1. Examples simon_says([1, 2], [5, 1]) ➞ True simon_says([1, 2], [5, 5]) ➞ False simon_says([1, 2, 3, 4, 5], [0, 1, 2, 3, 4]) ➞ True simon_says([1, 2, 3, 4, 5], [5, 5, 1, 2, 3]) ➞ False\n",
    "\n",
    "#### Solution :-"
   ]
  },
  {
   "cell_type": "code",
   "execution_count": 2,
   "id": "4c699e16",
   "metadata": {},
   "outputs": [
    {
     "data": {
      "text/plain": [
       "True"
      ]
     },
     "execution_count": 2,
     "metadata": {},
     "output_type": "execute_result"
    }
   ],
   "source": [
    "def simon_says(l1,l2):\n",
    "    if len(l1) == len(l2) and len(l1)>=2:\n",
    "        if l1[0:len(l1)-1] == l2[1:len(l2)]:\n",
    "            return True\n",
    "    return False\n",
    "\n",
    "l1 = [1,2]\n",
    "l2 = [5,1]\n",
    "simon_says(l1,l2)"
   ]
  },
  {
   "cell_type": "markdown",
   "id": "cdc14765",
   "metadata": {},
   "source": [
    "### 3. A group of friends have decided to start a secret society. The name will be the first letter of each of their names, sorted in alphabetical order. Create a function that takes in a list of names and returns the name of the secret society.\n",
    "\n",
    "### Examples society_name([\"Adam\", \"Sarah\", \"Malcolm\"]) ➞ \"AMS\" society_name([\"Harry\", \"Newt\", \"Luna\", \"Cho\"]) ➞ \"CHLN\" society_name([\"Phoebe\", \"Chandler\", \"Rachel\", \"Ross\", \"Monica\", \"Joey\"])\n",
    "\n",
    "#### Solution :-"
   ]
  },
  {
   "cell_type": "code",
   "execution_count": 3,
   "id": "6de2bf54",
   "metadata": {},
   "outputs": [
    {
     "data": {
      "text/plain": [
       "'AMS'"
      ]
     },
     "execution_count": 3,
     "metadata": {},
     "output_type": "execute_result"
    }
   ],
   "source": [
    "def society_name(l):\n",
    "    return ''.join([i[0] for i in sorted(l)])\n",
    "l = [\"Adam\", \"Sarah\", \"Malcolm\"]\n",
    "society_name(l)"
   ]
  },
  {
   "cell_type": "markdown",
   "id": "f19f3be8",
   "metadata": {},
   "source": [
    "### 4. An isogram is a word that has no duplicate letters. Create a function that takes a string and returns either True or False depending on whether or not it's an \"isogram\". Examples is_isogram(\"Algorism\") ➞ True is_isogram(\"PasSword\") ➞ False\n",
    "\n",
    "### Not case sensitive.\n",
    "### is_isogram(\"Consecutive\") ➞ False Notes  Ignore letter case (should not be case sensitive).  All test cases contain valid one word strings.\n",
    "\n",
    "#### Solution :-"
   ]
  },
  {
   "cell_type": "code",
   "execution_count": 5,
   "id": "82cf2233",
   "metadata": {},
   "outputs": [
    {
     "name": "stdout",
     "output_type": "stream",
     "text": [
      "Enter a string: Algorism\n"
     ]
    },
    {
     "data": {
      "text/plain": [
       "'True'"
      ]
     },
     "execution_count": 5,
     "metadata": {},
     "output_type": "execute_result"
    }
   ],
   "source": [
    "def is_isogram(s):\n",
    "    for i in range(len(s)):\n",
    "        if s.lower().count(s[i])>1:\n",
    "            return \"False\"\n",
    "    return \"True\"\n",
    "s = input(\"Enter a string: \")\n",
    "is_isogram(s)"
   ]
  },
  {
   "cell_type": "markdown",
   "id": "beab44a5",
   "metadata": {},
   "source": [
    "### 5. Create a function that takes a string and returns True or False, depending on whether the characters are in order or not. Examples is_in_order(\"abc\") ➞ True is_in_order(\"edabit\") ➞ False is_in_order(\"123\") ➞ True is_in_order(\"xyzz\") ➞ True Notes You don't have to handle empty strings.\n",
    "\n",
    "#### Solution :-"
   ]
  },
  {
   "cell_type": "code",
   "execution_count": 7,
   "id": "390628f7",
   "metadata": {},
   "outputs": [
    {
     "name": "stdout",
     "output_type": "stream",
     "text": [
      "Enter a string: edabit\n"
     ]
    },
    {
     "data": {
      "text/plain": [
       "'False'"
      ]
     },
     "execution_count": 7,
     "metadata": {},
     "output_type": "execute_result"
    }
   ],
   "source": [
    "def is_in_order(s):\n",
    "    s1 = ''.join(sorted(s))\n",
    "    if s == s1:\n",
    "        return \"True\"\n",
    "    return \"False\"\n",
    "\n",
    "s = input(\"Enter a string: \")\n",
    "is_in_order(s)"
   ]
  }
 ],
 "metadata": {
  "kernelspec": {
   "display_name": "Python 3 (ipykernel)",
   "language": "python",
   "name": "python3"
  },
  "language_info": {
   "codemirror_mode": {
    "name": "ipython",
    "version": 3
   },
   "file_extension": ".py",
   "mimetype": "text/x-python",
   "name": "python",
   "nbconvert_exporter": "python",
   "pygments_lexer": "ipython3",
   "version": "3.9.7"
  }
 },
 "nbformat": 4,
 "nbformat_minor": 5
}
