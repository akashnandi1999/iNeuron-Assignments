{
 "cells": [
  {
   "cell_type": "markdown",
   "id": "23531d27",
   "metadata": {},
   "source": [
    "## Assignment - 12\n",
    "\n",
    "### - by Akash Nandi"
   ]
  },
  {
   "cell_type": "markdown",
   "id": "cefa3d65",
   "metadata": {},
   "source": [
    "### 1. In what modes should the PdfFileReader() and PdfFileWriter() File objects will be opened ?\n",
    "\n",
    "#### Solution :- PdfFileReader() file objects should be opened in rb i.e. read binary mode. PdfFileWriter() file objects should be opened in wb i.e. write binary mode"
   ]
  },
  {
   "cell_type": "markdown",
   "id": "deb7540b",
   "metadata": {},
   "source": [
    "### 2. From a PdfFileReader object, how do you get a Page object for page 5 ?\n",
    "\n",
    "#### Solution :- "
   ]
  },
  {
   "cell_type": "code",
   "execution_count": 1,
   "id": "92d908dd",
   "metadata": {},
   "outputs": [
    {
     "name": "stdout",
     "output_type": "stream",
     "text": [
      "Collecting PyPDF2\n",
      "  Downloading pypdf2-2.11.2-py3-none-any.whl (220 kB)\n",
      "Requirement already satisfied: typing_extensions>=3.10.0.0 in c:\\users\\anandi\\anaconda3\\lib\\site-packages (from PyPDF2) (3.10.0.2)\n",
      "Installing collected packages: PyPDF2\n",
      "Successfully installed PyPDF2-2.11.2\n"
     ]
    }
   ],
   "source": [
    "!pip install PyPDF2"
   ]
  },
  {
   "cell_type": "code",
   "execution_count": 5,
   "id": "2e9086e0",
   "metadata": {},
   "outputs": [
    {
     "name": "stdout",
     "output_type": "stream",
     "text": [
      "vi CONTENTS\n",
      "2.10 Asking the user for input . . . . . . . . . . . . . . . . . . . . . . . 25\n",
      "2.11 Comments . . . . . . . . . . . . . . . . . . . . . . . . . . . . . . . 26\n",
      "2.12 Choosing mnemonic variable names . . . . . . . . . . . . . . . . . 27\n",
      "2.13 Debugging . . . . . . . . . . . . . . . . . . . . . . . . . . . . . . . 28\n",
      "2.14 Glossary . . . . . . . . . . . . . . . . . . . . . . . . . . . . . . . . . 29\n",
      "2.15 Exercises . . . . . . . . . . . . . . . . . . . . . . . . . . . . . . . . 30\n",
      "3 Conditional execution 31\n",
      "3.1 Boolean expressions . . . . . . . . . . . . . . . . . . . . . . . . . . . 31\n",
      "3.2 Logical operators . . . . . . . . . . . . . . . . . . . . . . . . . . . . 32\n",
      "3.3 Conditional execution . . . . . . . . . . . . . . . . . . . . . . . . . 32\n",
      "3.4 Alternative execution . . . . . . . . . . . . . . . . . . . . . . . . . 33\n",
      "3.5 Chained conditionals . . . . . . . . . . . . . . . . . . . . . . . . . . 34\n",
      "3.6 Nested conditionals . . . . . . . . . . . . . . . . . . . . . . . . . . 35\n",
      "3.7 Catching exceptions using try and except . . . . . . . . . . . . . . 36\n",
      "3.8 Short-circuit evaluation of logical expressions . . . . . . . . . . . . 38\n",
      "3.9 Debugging . . . . . . . . . . . . . . . . . . . . . . . . . . . . . . . 39\n",
      "3.10 Glossary . . . . . . . . . . . . . . . . . . . . . . . . . . . . . . . . . 39\n",
      "3.11 Exercises . . . . . . . . . . . . . . . . . . . . . . . . . . . . . . . . 40\n",
      "4 Functions 43\n",
      "4.1 Function calls . . . . . . . . . . . . . . . . . . . . . . . . . . . . . . 43\n",
      "4.2 Built-in functions . . . . . . . . . . . . . . . . . . . . . . . . . . . 43\n",
      "4.3 Type conversion functions . . . . . . . . . . . . . . . . . . . . . . . 44\n",
      "4.4 Math functions . . . . . . . . . . . . . . . . . . . . . . . . . . . . . 45\n",
      "4.5 Random numbers . . . . . . . . . . . . . . . . . . . . . . . . . . . 46\n",
      "4.6 Adding new functions . . . . . . . . . . . . . . . . . . . . . . . . . 47\n",
      "4.7 Deﬁnitions and uses . . . . . . . . . . . . . . . . . . . . . . . . . . 48\n",
      "4.8 Flow of execution . . . . . . . . . . . . . . . . . . . . . . . . . . . 49\n",
      "4.9 Parameters and arguments . . . . . . . . . . . . . . . . . . . . . . 49\n",
      "4.10 Fruitful functions and void functions . . . . . . . . . . . . . . . . . . 51\n",
      "4.11 Why functions? . . . . . . . . . . . . . . . . . . . . . . . . . . . . . 52\n",
      "4.12 Debugging . . . . . . . . . . . . . . . . . . . . . . . . . . . . . . . 52\n",
      "4.13 Glossary . . . . . . . . . . . . . . . . . . . . . . . . . . . . . . . . . 53\n",
      "4.14 Exercises . . . . . . . . . . . . . . . . . . . . . . . . . . . . . . . . 54\n"
     ]
    }
   ],
   "source": [
    "import PyPDF2\n",
    "from PyPDF2 import PdfFileReader\n",
    "pdfFileObj = open('C:/Users/anandi/Documents/Important Python Notes/Python Book.pdf', 'rb')\n",
    "pdfReader = PdfFileReader(pdfFileObj)\n",
    "pageObj = pdfReader.getPage(5)\n",
    "print(pageObj.extractText())\n",
    "pdfFileObj.close()"
   ]
  },
  {
   "cell_type": "markdown",
   "id": "fccfba44",
   "metadata": {},
   "source": [
    "### 3. What PdfFileReader variable stores the number of pages in the PDF document ?\n",
    "\n",
    "#### Solution :-"
   ]
  },
  {
   "cell_type": "code",
   "execution_count": 7,
   "id": "12170f72",
   "metadata": {},
   "outputs": [
    {
     "name": "stdout",
     "output_type": "stream",
     "text": [
      "249\n"
     ]
    }
   ],
   "source": [
    "pdf_reader = PdfFileReader('C:/Users/anandi/Documents/Important Python Notes/Python Book.pdf')\n",
    "print(pdf_reader.getNumPages())"
   ]
  },
  {
   "cell_type": "markdown",
   "id": "ac9ab704",
   "metadata": {},
   "source": [
    "### 4. If a PdfFileReader object’s PDF is encrypted with the password swordfish, what must you do before you can obtain Page objects from it?\n",
    "\n",
    "#### Solution :- If a PdfFileReader object’s PDF is encrypted with the password swordfish and you are not aware of it. first read the Pdf using the PdfFileReader Class. PdfFileReader class provides a attribute called isEncrypted to check whether a pdf is encrypted or not. the method returns true if a pdf is encrypted and vice versa. If pdf is encrypted use the decrypt() method provided by PdfFileReader class first then try to read the contents/pages of the pdf, else PyPDF2 will raise the following error PyPDF2.utils.PdfReadError: file has not been decrypted."
   ]
  },
  {
   "cell_type": "markdown",
   "id": "c6ae1972",
   "metadata": {},
   "source": [
    "### 5. What methods do you use to rotate a page ?\n",
    "\n",
    "#### Solution :- rotateClockWise() -> For Clockwise rotation and rotateCounterClockWise() -> For Counter Clockwise rotation"
   ]
  },
  {
   "cell_type": "markdown",
   "id": "5efdb80c",
   "metadata": {},
   "source": [
    "### 6. What is the difference between a Run object and a Paragraph object ?\n",
    "\n",
    "#### Solution :- The structure of a document is represented by three different data types in python-Docx. At the highest level, a Document object represents the entire document. The Document object contains a list of Paragraph objects for the paragraphs in the document. Each of these Paragraph objects contains a list of one or more Run objects. The text in a Word document is more than just a string. It has font, size, color, and other styling information associated with it. A style in Word is a collection of these attributes. A Run object is a contiguous run of text with the same style. A new Run object is needed whenever the text style changes."
   ]
  },
  {
   "cell_type": "markdown",
   "id": "df694284",
   "metadata": {},
   "source": [
    "### 7. How do you obtain a list of Paragraph objects for a Document object that’s stored in a variable named doc ?\n",
    "\n",
    "#### Solution :-"
   ]
  },
  {
   "cell_type": "code",
   "execution_count": 9,
   "id": "54fcd2a7",
   "metadata": {},
   "outputs": [
    {
     "name": "stdout",
     "output_type": "stream",
     "text": [
      "Requirement already satisfied: python-docx in c:\\users\\anandi\\anaconda3\\lib\\site-packages (0.8.11)\n",
      "Requirement already satisfied: lxml>=2.3.2 in c:\\users\\anandi\\anaconda3\\lib\\site-packages (from python-docx) (4.6.3)\n"
     ]
    }
   ],
   "source": [
    "!pip install python-docx"
   ]
  },
  {
   "cell_type": "code",
   "execution_count": null,
   "id": "6b025666",
   "metadata": {},
   "outputs": [],
   "source": [
    "from docx import Document\n",
    "doc = Document(location_of_package) \n",
    "print(doc.paragraphs) # print list of Paragraph\n",
    "for paragraph in doc.paragraphs:\n",
    "    print(paragraph.text) # print text present inside paragraph"
   ]
  },
  {
   "cell_type": "markdown",
   "id": "af0947e8",
   "metadata": {},
   "source": [
    "### 8. What type of object has bold, underline, italic, strike, and outline variables ?\n",
    "\n",
    "#### Solution :- Run Object"
   ]
  },
  {
   "cell_type": "markdown",
   "id": "753a0155",
   "metadata": {},
   "source": [
    "### 9. What is the difference between False, True, and None for the bold variable ?\n",
    "\n",
    "#### Solution :- bold = True (Style set to bold),       bold = False (Style not Set to bold),        bold = None (Style not Applicable)"
   ]
  },
  {
   "cell_type": "markdown",
   "id": "899fc939",
   "metadata": {},
   "source": [
    "### 10. How do you create a Document object for a new Word document ?\n",
    "\n",
    "#### Solution :- "
   ]
  },
  {
   "cell_type": "code",
   "execution_count": 21,
   "id": "ef15bece",
   "metadata": {},
   "outputs": [],
   "source": [
    "from docx import Document\n",
    "document = Document()\n",
    "document.add_paragraph(\"This is a new Picture\")\n",
    "document.save('C:/test1.docx')"
   ]
  },
  {
   "cell_type": "markdown",
   "id": "5c730f7e",
   "metadata": {},
   "source": [
    "### 11. How do you add a paragraph with the text 'Hello, there!' to a Document object stored in a variable named doc ?\n",
    "\n",
    "#### Solution :-"
   ]
  },
  {
   "cell_type": "code",
   "execution_count": 23,
   "id": "65e29658",
   "metadata": {},
   "outputs": [],
   "source": [
    "from docx import Document\n",
    "newdoc = Document()\n",
    "newdoc.add_paragraph('Hello, there!')\n",
    "newdoc.save('C:/test2.docx')"
   ]
  },
  {
   "cell_type": "markdown",
   "id": "47ae921f",
   "metadata": {},
   "source": [
    "### 12. What integers represent the levels of headings available in Word documents ?\n",
    "\n",
    "#### Solution :- 0 makes a headline with the horizontal line below the text, 1 is main heading and other headings are sub-heading with their font-sizes in decreasing order"
   ]
  }
 ],
 "metadata": {
  "kernelspec": {
   "display_name": "Python 3 (ipykernel)",
   "language": "python",
   "name": "python3"
  },
  "language_info": {
   "codemirror_mode": {
    "name": "ipython",
    "version": 3
   },
   "file_extension": ".py",
   "mimetype": "text/x-python",
   "name": "python",
   "nbconvert_exporter": "python",
   "pygments_lexer": "ipython3",
   "version": "3.9.7"
  }
 },
 "nbformat": 4,
 "nbformat_minor": 5
}
