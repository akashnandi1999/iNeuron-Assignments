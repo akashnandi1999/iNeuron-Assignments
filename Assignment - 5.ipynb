{
 "cells": [
  {
   "cell_type": "markdown",
   "id": "4b62177a",
   "metadata": {},
   "source": [
    "## Assignment - 5\n",
    "\n",
    "### - by Akash Nandi"
   ]
  },
  {
   "cell_type": "markdown",
   "id": "2d0f27d6",
   "metadata": {},
   "source": [
    "### 1. What does an empty dictionary's code look like ?\n",
    "\n",
    "#### Solution :- dict = {} . This is an empty dictionary.\n",
    "#### ----------------------------------------------------------------------------------------------------------------------------------------------------------------------------------------"
   ]
  },
  {
   "cell_type": "markdown",
   "id": "45059d7d",
   "metadata": {},
   "source": [
    "### 2. What is the value of a dictionary value with the key 'foo' and the value 42 ?\n",
    "\n",
    "#### Solution :- It is 42. \n",
    "\n",
    "#### ----------------------------------------------------------------------------------------------------------------------------------------------------------------------------------------"
   ]
  },
  {
   "cell_type": "markdown",
   "id": "a7265039",
   "metadata": {},
   "source": [
    "### 3. What is the most significant distinction between a dictionary and a list ?\n",
    "\n",
    "#### Solution :- A list is a collection of various index value pairs and a Dictionary is a hashed structure of various pairs of keys and values.\n",
    "#### ----------------------------------------------------------------------------------------------------------------------------------------------------------------------------------------"
   ]
  },
  {
   "cell_type": "markdown",
   "id": "e20e24c0",
   "metadata": {},
   "source": [
    "### 4. What happens if you try to access spam['foo'] if spam is {'bar': 100} ?\n",
    "\n",
    "#### Solution :- It will throw a KeyError for 'foo'.\n",
    "#### ----------------------------------------------------------------------------------------------------------------------------------------------------------------------------------------"
   ]
  },
  {
   "cell_type": "markdown",
   "id": "b1c97114",
   "metadata": {},
   "source": [
    "### 5. If a dictionary is stored in spam, what is the difference between the expressions 'cat' in spam and 'cat' in spam.keys()?\n",
    "\n",
    "#### Solution :- There is no difference as both the statements try to check if cat is stored in the Dictionary as a Key.\n",
    "#### ----------------------------------------------------------------------------------------------------------------------------------------------------------------------------------------"
   ]
  },
  {
   "cell_type": "markdown",
   "id": "5821da49",
   "metadata": {},
   "source": [
    "### 6. If a dictionary is stored in spam, what is the difference between the expressions 'cat' in spam and 'cat' in spam.values()?\n",
    "\n",
    "#### Solution :- 'cat' in spam tries to check if cat is stored as a Key in the Dictionary. But 'cat' in spam.values() tries to check if cat is present as a value in the dictionary.\n",
    "#### ----------------------------------------------------------------------------------------------------------------------------------------------------------------------------------------"
   ]
  },
  {
   "cell_type": "markdown",
   "id": "c77f8df3",
   "metadata": {},
   "source": [
    "### 7. What is a shortcut for the following code?\n",
    "       if 'color' not in spam:\n",
    "               spam['color'] = 'black'\n",
    "          \n",
    "#### Solution :- spam.setdefault('color','black')\n",
    "#### ----------------------------------------------------------------------------------------------------------------------------------------------------------------------------------------"
   ]
  },
  {
   "cell_type": "markdown",
   "id": "7fbceaa3",
   "metadata": {},
   "source": [
    "### 8. How do you \"pretty print\" dictionary values using which module and function ?\n",
    "\n",
    "#### Solution :- The module that can be used is \"pprint\" and the functions that can be used are \"pprint.pprint()\" and \"pprint.pformat()\"."
   ]
  }
 ],
 "metadata": {
  "kernelspec": {
   "display_name": "Python 3 (ipykernel)",
   "language": "python",
   "name": "python3"
  },
  "language_info": {
   "codemirror_mode": {
    "name": "ipython",
    "version": 3
   },
   "file_extension": ".py",
   "mimetype": "text/x-python",
   "name": "python",
   "nbconvert_exporter": "python",
   "pygments_lexer": "ipython3",
   "version": "3.9.7"
  }
 },
 "nbformat": 4,
 "nbformat_minor": 5
}
