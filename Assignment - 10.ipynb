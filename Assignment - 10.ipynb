{
 "cells": [
  {
   "cell_type": "markdown",
   "id": "6e0e81df",
   "metadata": {},
   "source": [
    "## Assignment - 10\n",
    "\n",
    "### -by Akash Nandi"
   ]
  },
  {
   "cell_type": "markdown",
   "id": "7183a9ca",
   "metadata": {},
   "source": [
    "### 1. How do you distinguish between shutil.copy() and shutil.copytree() ?\n",
    "\n",
    "#### Solution :- shutil.copy() will copy a single file but shutil.copytree() will copy an entire folder and every folder and file contained in it.\n",
    "#### ----------------------------------------------------------------------------------------------------------------------------------------------------------------------------------------"
   ]
  },
  {
   "cell_type": "markdown",
   "id": "fab0c6d9",
   "metadata": {},
   "source": [
    "### 2. What function is used to rename files ?\n",
    "\n",
    "#### Solution :- rename() function is used to rename files.\n",
    "#### ----------------------------------------------------------------------------------------------------------------------------------------------------------------------------------------"
   ]
  },
  {
   "cell_type": "markdown",
   "id": "2e6f0680",
   "metadata": {},
   "source": [
    "### 3. What is the difference between the delete functions in the send2trash and shutil modules ?\n",
    "\n",
    "#### Solution :- The delete functions in send2trash will move a file or folder to the recycle bin, while the delete functions in shutil module will permanently delete files and folders.\n",
    "#### ----------------------------------------------------------------------------------------------------------------------------------------------------------------------------------------"
   ]
  },
  {
   "cell_type": "markdown",
   "id": "7fbca418",
   "metadata": {},
   "source": [
    "### 4. ZipFile objects have a close() method just like File object's close() method. What ZipFile method is equivalent to File object's open() method ?\n",
    "\n",
    "#### Solution :- The zipfile.ZipFile() function is equivalent to the File object's open() function\n",
    "#### ----------------------------------------------------------------------------------------------------------------------------------------------------------------------------------------"
   ]
  },
  {
   "cell_type": "markdown",
   "id": "0cb4cee2",
   "metadata": {},
   "source": [
    "### 5. Create a programme that searches a folder tree for files with a certain file extension (such as .pdf or .jpg). Copy these files from whatever location they are in to a new folder.\n",
    "\n",
    "#### Solution :-"
   ]
  },
  {
   "cell_type": "code",
   "execution_count": 5,
   "id": "2ad1c629",
   "metadata": {},
   "outputs": [
    {
     "name": "stdout",
     "output_type": "stream",
     "text": [
      "Looking in C:\\Users\\anandi\\Desktop\\Python Programming\\iNeuron Assignments and Programs\\Untitled Folder for files with extensions of .txt, .jpg\n",
      "Coping C:\\Users\\anandi\\Desktop\\Python Programming\\iNeuron Assignments and Programs\\Untitled Folder\\Document Links.txt to C:\\Users\\anandi\\Desktop\\Python Programming\\iNeuron Assignments and Programs\\Untitled Folder 1\n",
      "Coping C:\\Users\\anandi\\Desktop\\Python Programming\\iNeuron Assignments and Programs\\Untitled Folder\\Resume_refer_links.txt to C:\\Users\\anandi\\Desktop\\Python Programming\\iNeuron Assignments and Programs\\Untitled Folder 1\n",
      "Coping C:\\Users\\anandi\\Desktop\\Python Programming\\iNeuron Assignments and Programs\\Untitled Folder\\Shiv.jpg to C:\\Users\\anandi\\Desktop\\Python Programming\\iNeuron Assignments and Programs\\Untitled Folder 1\n"
     ]
    }
   ],
   "source": [
    "import os, shutil\n",
    "\n",
    "def selectCopy(folder, extensions, destFolder):\n",
    "    folder = os.path.abspath(folder)\n",
    "    destFolder = os.path.abspath(destFolder)\n",
    "    print('Looking in', folder, 'for files with extensions of', ', '.join(extensions))\n",
    "    for foldername, subfolders, filenames in os.walk(folder):\n",
    "        for filename in filenames:\n",
    "            name, extension = os.path.splitext(filename)\n",
    "            if extension in extensions:\n",
    "                fileAbsPath = foldername + os.path.sep + filename\n",
    "                print('Coping', fileAbsPath, 'to', destFolder)\n",
    "                shutil.copy(fileAbsPath, destFolder)\n",
    "\n",
    "extensions = ['.txt', '.jpg']\n",
    "folder = 'C:\\\\Users\\\\anandi\\\\Desktop\\\\Python Programming\\\\iNeuron Assignments and Programs\\\\Untitled Folder'\n",
    "destFolder = 'C:\\\\Users\\\\anandi\\\\Desktop\\\\Python Programming\\\\iNeuron Assignments and Programs\\\\Untitled Folder 1'\n",
    "selectCopy(folder, extensions, destFolder)"
   ]
  }
 ],
 "metadata": {
  "kernelspec": {
   "display_name": "Python 3 (ipykernel)",
   "language": "python",
   "name": "python3"
  },
  "language_info": {
   "codemirror_mode": {
    "name": "ipython",
    "version": 3
   },
   "file_extension": ".py",
   "mimetype": "text/x-python",
   "name": "python",
   "nbconvert_exporter": "python",
   "pygments_lexer": "ipython3",
   "version": "3.9.7"
  }
 },
 "nbformat": 4,
 "nbformat_minor": 5
}
