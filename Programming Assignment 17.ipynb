{
 "cells": [
  {
   "cell_type": "markdown",
   "id": "8b9afb4a",
   "metadata": {},
   "source": [
    "## Programming Assignment 17\n",
    "\n",
    "### - by Akash Nandi"
   ]
  },
  {
   "cell_type": "markdown",
   "id": "46878d8e",
   "metadata": {},
   "source": [
    "### 1. Create a function that takes three arguments a, b, c and returns the sum of the numbers that are evenly divided by c from the range a, b inclusive.\n",
    "\n",
    "#### Solution :-"
   ]
  },
  {
   "cell_type": "code",
   "execution_count": 5,
   "id": "cbb75c19",
   "metadata": {},
   "outputs": [
    {
     "name": "stdout",
     "output_type": "stream",
     "text": [
      "Enter the value of a: 1\n",
      "Enter the value of b: 10\n",
      "Enter the value of c: 2\n"
     ]
    },
    {
     "data": {
      "text/plain": [
       "30"
      ]
     },
     "execution_count": 5,
     "metadata": {},
     "output_type": "execute_result"
    }
   ],
   "source": [
    "def evenly_divisible(a, b, c):\n",
    "    sum = 0\n",
    "    if b < c:\n",
    "        return f\"No number between {a} and {b} can be evenly divided by {c}.\"\n",
    "    else:\n",
    "        for i in range(c,b+1,c):\n",
    "            sum += i\n",
    "        return sum\n",
    "    \n",
    "a = int(input(\"Enter the value of a: \"))\n",
    "b = int(input(\"Enter the value of b: \"))\n",
    "c = int(input(\"Enter the value of c: \"))\n",
    "\n",
    "evenly_divisible(a, b, c)"
   ]
  },
  {
   "cell_type": "markdown",
   "id": "22d8657c",
   "metadata": {},
   "source": [
    "### 2. Create a function that returns True if a given inequality expression is correct and False otherwise.\n",
    "\n",
    "#### Solution :-"
   ]
  },
  {
   "cell_type": "code",
   "execution_count": 7,
   "id": "3f728a3e",
   "metadata": {},
   "outputs": [
    {
     "name": "stdout",
     "output_type": "stream",
     "text": [
      "True\n",
      "False\n",
      "True\n"
     ]
    }
   ],
   "source": [
    "def correct_signs(s):\n",
    "    regex=eval(s)\n",
    "    if regex:\n",
    "        return True\n",
    "    else:\n",
    "        return False \n",
    "\n",
    "print(correct_signs(\"3 < 7 < 11\"))\n",
    "print(correct_signs(\"13 > 44 > 33 > 1\"))\n",
    "print(correct_signs(\"1 < 2 < 6 < 9 > 3\"))"
   ]
  },
  {
   "cell_type": "markdown",
   "id": "c78d2e0d",
   "metadata": {},
   "source": [
    "### 3. Create a function that replaces all the vowels in a string with a specified character.\n",
    "\n",
    "#### Solution :-"
   ]
  },
  {
   "cell_type": "code",
   "execution_count": 5,
   "id": "ccc2773e",
   "metadata": {},
   "outputs": [
    {
     "name": "stdout",
     "output_type": "stream",
     "text": [
      "Enter a string: minnie mouse\n",
      "Enter the character which will replace the vowels: ?\n"
     ]
    },
    {
     "data": {
      "text/plain": [
       "'m?nn?? m??s?'"
      ]
     },
     "execution_count": 5,
     "metadata": {},
     "output_type": "execute_result"
    }
   ],
   "source": [
    "def replace_vowels(s1, s2):\n",
    "    vow = \"aeiouAEIOU\"\n",
    "    for i in s1:\n",
    "        if i in vow:\n",
    "            s1 = s1.replace(i, s2)\n",
    "        else:\n",
    "            pass\n",
    "    return s1\n",
    "\n",
    "s1 = input(\"Enter a string: \")\n",
    "s2 = input(\"Enter the character which will replace the vowels: \")\n",
    "\n",
    "replace_vowels(s1, s2)"
   ]
  },
  {
   "cell_type": "markdown",
   "id": "ca90c212",
   "metadata": {},
   "source": [
    "### 4. Write a function that calculates the factorial of a number recursively.\n",
    "\n",
    "#### Solution :-"
   ]
  },
  {
   "cell_type": "code",
   "execution_count": 4,
   "id": "bc0b95ae",
   "metadata": {},
   "outputs": [
    {
     "name": "stdout",
     "output_type": "stream",
     "text": [
      "Enter the value of n: 5\n",
      "The factorial of 5 is 120\n"
     ]
    }
   ],
   "source": [
    "def fact(n):\n",
    "    if n == 0 or n == 1:\n",
    "        return 1\n",
    "    else:\n",
    "        return n*fact(n-1)\n",
    "\n",
    "while True:\n",
    "    n = int(input(\"Enter the value of n: \"))\n",
    "    if n>=0:\n",
    "        print(f\"The factorial of {n} is {fact(n)}\")\n",
    "        break\n",
    "    else:\n",
    "        print(\"Invalid Input...\")\n",
    "        print(\"Please give proper input....\")"
   ]
  },
  {
   "cell_type": "markdown",
   "id": "1b703314",
   "metadata": {},
   "source": [
    "### 5. Create a function that computes the hamming distance between two strings.\n",
    "\n",
    "#### Solution :-"
   ]
  },
  {
   "cell_type": "code",
   "execution_count": 10,
   "id": "3b389995",
   "metadata": {},
   "outputs": [
    {
     "name": "stdout",
     "output_type": "stream",
     "text": [
      "Enter 1st String: abcde\n",
      "Enter 2nd String: bcdef\n",
      "The Hamming Distance between abcde and bcdef is 5\n"
     ]
    }
   ],
   "source": [
    "def hamming_distance(s1, s2):\n",
    "    count = 0\n",
    "    for i in range(len(s1)):\n",
    "        if s1[i] != s2[i]:\n",
    "            count += 1\n",
    "        else:\n",
    "            pass\n",
    "    return count\n",
    "\n",
    "s1 = input(\"Enter 1st String: \")\n",
    "s2 = input(\"Enter 2nd String: \")\n",
    "\n",
    "try:\n",
    "    print(f\"The Hamming Distance between {s1} and {s2} is {hamming_distance(s1, s2)}\")\n",
    "except Exception as e:\n",
    "    print(\"Error Occurred....\")\n",
    "    print(e)"
   ]
  }
 ],
 "metadata": {
  "kernelspec": {
   "display_name": "Python 3 (ipykernel)",
   "language": "python",
   "name": "python3"
  },
  "language_info": {
   "codemirror_mode": {
    "name": "ipython",
    "version": 3
   },
   "file_extension": ".py",
   "mimetype": "text/x-python",
   "name": "python",
   "nbconvert_exporter": "python",
   "pygments_lexer": "ipython3",
   "version": "3.9.7"
  }
 },
 "nbformat": 4,
 "nbformat_minor": 5
}
