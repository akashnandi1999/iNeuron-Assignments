{
 "cells": [
  {
   "cell_type": "markdown",
   "id": "a826cda8",
   "metadata": {},
   "source": [
    "## Assignment - 7\n",
    "\n",
    "### - by Akash Nandi"
   ]
  },
  {
   "cell_type": "markdown",
   "id": "70611099",
   "metadata": {},
   "source": [
    "### 1. What is the name of the feature responsible for generating Regex objects ?\n",
    "\n",
    "#### Solution :- The re.compile() function returns Regex object.\n",
    "#### ----------------------------------------------------------------------------------------------------------------------------------------------------------------------------------------"
   ]
  },
  {
   "cell_type": "markdown",
   "id": "77e32781",
   "metadata": {},
   "source": [
    "### 2. Why do raw strings often appear in Regex objects ?\n",
    "\n",
    "#### Solution :- print(r\"\\n\")\n",
    "#### ----------------------------------------------------------------------------------------------------------------------------------------------------------------------------------------"
   ]
  },
  {
   "cell_type": "markdown",
   "id": "7d7d36e4",
   "metadata": {},
   "source": [
    "### 3. What is the return value of the search() method ?\n",
    "\n",
    "#### Solution :- Returns a Match object if there is a match anywhere in the string.\n",
    "#### ----------------------------------------------------------------------------------------------------------------------------------------------------------------------------------------"
   ]
  },
  {
   "cell_type": "markdown",
   "id": "ae07cae0",
   "metadata": {},
   "source": [
    "### 4. From a Match item, how do you get the actual strings that match the pattern ?\n",
    "\n",
    "#### Solution :- For Matched items group() methods returns actual strings that match the pattern.\n",
    "#### ----------------------------------------------------------------------------------------------------------------------------------------------------------------------------------------"
   ]
  },
  {
   "cell_type": "markdown",
   "id": "e308c9a6",
   "metadata": {},
   "source": [
    "### 5. In the regex which created from the r'(\\d\\d\\d)-(\\d\\d\\d-\\d\\d\\d\\d)', what does group zero cover ? Group 2 ?Group 1 ?\n",
    "\n",
    "#### Solution :- In the Regex r'(\\d\\d\\d)-(\\d\\d\\d-\\d\\d\\d\\d)' the zero group covers (\\d\\d\\d)-(\\d\\d\\d-\\d\\d\\d\\d), the first group cover (\\d\\d\\d) and the second group cover (\\d\\d\\d-\\d\\d\\d\\d)\n",
    "#### ----------------------------------------------------------------------------------------------------------------------------------------------------------------------------------------"
   ]
  },
  {
   "cell_type": "markdown",
   "id": "ab5f8359",
   "metadata": {},
   "source": [
    "### 6. In standard expression syntax, parentheses and intervals have distinct meanings. How can you tell a regex that you want it to fit real parentheses and periods ?\n",
    "\n",
    "#### Solution :- The \\. \\ and \\ escape characters in the raw string passed to re.compile() will match actual parenthesis characters.\n",
    "#### ----------------------------------------------------------------------------------------------------------------------------------------------------------------------------------------"
   ]
  },
  {
   "cell_type": "markdown",
   "id": "5188181e",
   "metadata": {},
   "source": [
    "### 7. The findall() method returns a string list or a list of string tuples. What causes it to return one of the two options ?\n",
    "\n",
    "#### Solution :- If the regex pattern has no groups, a list of strings matched is returned. if the regex pattern has groups, a list of tuple of strings is returned.\n",
    "#### ----------------------------------------------------------------------------------------------------------------------------------------------------------------------------------------"
   ]
  },
  {
   "cell_type": "markdown",
   "id": "d6f92e85",
   "metadata": {},
   "source": [
    "### 8. In standard expressions, what does the | character mean ?\n",
    "\n",
    "#### Solution :- In standard expressions, what does the | character means OR operator.\n",
    "#### ----------------------------------------------------------------------------------------------------------------------------------------------------------------------------------------"
   ]
  },
  {
   "cell_type": "markdown",
   "id": "290a9e81",
   "metadata": {},
   "source": [
    "### 9. In regular expressions, what is the difference between the + and * characters ?\n",
    "\n",
    "#### Solution :- In Regular Expressions, * Represents Zero ore more occurances of the preceeding group, whereas + represents one or more occurances of the preceeding group.\n",
    "#### ----------------------------------------------------------------------------------------------------------------------------------------------------------------------------------------"
   ]
  },
  {
   "cell_type": "markdown",
   "id": "600dff12",
   "metadata": {},
   "source": [
    "### 10. What is the difference between {4} and {4,5} in regular expression ?\n",
    "\n",
    "#### Solution :- {4} means its preceeding group should repeat 4 times. {4,5} means its preceeding group should repeat mininum 4 times and maximum 5 times inclusively.\n",
    "#### ----------------------------------------------------------------------------------------------------------------------------------------------------------------------------------------"
   ]
  },
  {
   "cell_type": "markdown",
   "id": "82037b65",
   "metadata": {},
   "source": [
    "### 11. What do you mean by the \\d, \\w, and \\s shorthand character classes signify in regular expressions ?\n",
    "\n",
    "#### Solution :- \\d - Return a match where a string contains number i.e equivalent to [0-9]. \\w - Return a match where a string contains any words character i.e. equivalent to [a-zA-Z0-9]. \\s - Returns a match where the string contains a white space character i.e space,tab, newline etc.\n",
    "#### ----------------------------------------------------------------------------------------------------------------------------------------------------------------------------------------"
   ]
  },
  {
   "cell_type": "markdown",
   "id": "00f0911c",
   "metadata": {},
   "source": [
    "### 12. What do means by \\D, \\W, and \\S shorthand character classes signify in regular expressions ?\n",
    "\n",
    "#### Solution :- \\D - Return a match where a string does not contains number i.e equivalent to [^0-9]. \\W - Return a match where a string does not contains any words character i.e. equivalent to [^a-zA-Z0-9]. \\S - Returns a match where the string does not contains a white space character i.e space,tab, newline etc.\n",
    "#### ----------------------------------------------------------------------------------------------------------------------------------------------------------------------------------------"
   ]
  },
  {
   "cell_type": "markdown",
   "id": "e039fd43",
   "metadata": {},
   "source": [
    "### 13. What is the difference between .*? and .* ?\n",
    "\n",
    "#### Solution :- *? is a non greedy mode it returns the shortest string that meets the condition. .* is a greedy mode it returns the longest string that meets the condition.\n",
    "#### ----------------------------------------------------------------------------------------------------------------------------------------------------------------------------------------"
   ]
  },
  {
   "cell_type": "markdown",
   "id": "0419f527",
   "metadata": {},
   "source": [
    "### 14. What is the syntax for matching both numbers and lowercase letters with a character class ?\n",
    "\n",
    "#### Solution :- [a-z0-9]\n",
    "#### ----------------------------------------------------------------------------------------------------------------------------------------------------------------------------------------"
   ]
  },
  {
   "cell_type": "markdown",
   "id": "5a2467ff",
   "metadata": {},
   "source": [
    "### 15. What is the procedure for making a normal expression in regax case insensitive ?\n",
    "\n",
    "#### Solution :- We need to pass re.IGNORECASE as a flag.\n",
    "#### ----------------------------------------------------------------------------------------------------------------------------------------------------------------------------------------"
   ]
  },
  {
   "cell_type": "markdown",
   "id": "b0cfd13d",
   "metadata": {},
   "source": [
    "### 16. What does the . character normally match? What does it match if re.DOTALL is passed as 2nd argument in re.compile() ?\n",
    "\n",
    "#### Solution :- Dot . character matches everything in input except newline character. By passing re.DOTALL as a flag to re.compile(), you can make the dot character match all characters, including the newline character.\n",
    "#### ----------------------------------------------------------------------------------------------------------------------------------------------------------------------------------------"
   ]
  },
  {
   "cell_type": "markdown",
   "id": "84216059",
   "metadata": {},
   "source": [
    "### 17. If numReg = re.compile('\\d+'), what will numRegex.sub('X', '11 drummers, 10 pipers, five rings, 4 hen') return ?\n",
    "\n",
    "#### Solution :- "
   ]
  },
  {
   "cell_type": "code",
   "execution_count": 2,
   "id": "4e33b945",
   "metadata": {},
   "outputs": [
    {
     "data": {
      "text/plain": [
       "'X drummers, X pipers, five rings, X hen'"
      ]
     },
     "execution_count": 2,
     "metadata": {},
     "output_type": "execute_result"
    }
   ],
   "source": [
    "import re\n",
    "numReg = re.compile('\\d+')\n",
    "numReg.sub('X', '11 drummers, 10 pipers, five rings, 4 hen')"
   ]
  },
  {
   "cell_type": "markdown",
   "id": "12f6b304",
   "metadata": {},
   "source": [
    "### 18. What does passing re.VERBOSE as the 2nd argument to re.compile() allow to do ?\n",
    "\n",
    "#### Solution :- re.VERBOSE will allow to add whitespace and comments to string passed to re.compile().\n",
    "#### ----------------------------------------------------------------------------------------------------------------------------------------------------------------------------------------"
   ]
  },
  {
   "cell_type": "markdown",
   "id": "6731b4df",
   "metadata": {},
   "source": [
    "### 19. How would you write a regex that match a number with comma for every three digits? It must match the given following:\n",
    "### '42'\n",
    "### '1,234'\n",
    "### '6,368,745'\n",
    "\n",
    "### but not the following:\n",
    "### '12,34,567' (which has only two digits between the commas)\n",
    "### '1234' (which lacks commas)\n",
    "\n",
    "#### Solution :-"
   ]
  },
  {
   "cell_type": "code",
   "execution_count": 4,
   "id": "d56280f9",
   "metadata": {},
   "outputs": [
    {
     "name": "stdout",
     "output_type": "stream",
     "text": [
      "Output:  42 -> <re.Match object; span=(0, 2), match='42'>\n",
      "Output:  1,234 -> <re.Match object; span=(0, 5), match='1,234'>\n",
      "Output:  6,368,745 -> <re.Match object; span=(0, 9), match='6,368,745'>\n",
      "Output:  12,34,567 -> None\n",
      "Output:  1234 -> None\n"
     ]
    }
   ],
   "source": [
    "pattern = r'^\\d{1,3}(,\\d{3})*$'\n",
    "res = re.compile(pattern)\n",
    "for i in ['42','1,234', '6,368,745','12,34,567','1234']:\n",
    "    print('Output: ',i, '->', res.search(i))"
   ]
  },
  {
   "cell_type": "markdown",
   "id": "0c963c04",
   "metadata": {},
   "source": [
    "### 20. How would you write a regex that matches the full name of someone whose last name is Watanabe? You can assume that the first name that comes before it will always be one word that begins with a capital letter. The regex must match the following:\n",
    "### 'Haruto Watanabe'\n",
    "### 'Alice Watanabe'\n",
    "### 'RoboCop Watanabe'\n",
    "### but not the following:\n",
    "### 'haruto Watanabe' (where the first name is not capitalized)\n",
    "### 'Mr. Watanabe' (where the preceding word has a nonletter character)\n",
    "### 'Watanabe' (which has no first name)\n",
    "### 'Haruto watanabe' (where Watanabe is not capitalized)\n",
    "\n",
    "#### Solution :-"
   ]
  },
  {
   "cell_type": "code",
   "execution_count": 8,
   "id": "398bf81d",
   "metadata": {},
   "outputs": [
    {
     "name": "stdout",
     "output_type": "stream",
     "text": [
      "Output:  Haruto Watanabe  ->  <re.Match object; span=(0, 15), match='Haruto Watanabe'>\n",
      "Output:  Alice Watanabe  ->  <re.Match object; span=(0, 14), match='Alice Watanabe'>\n",
      "Output:  RoboCop Watanabe  ->  <re.Match object; span=(4, 16), match='Cop Watanabe'>\n",
      "Output:  haruto Watanabe  ->  None\n",
      "Output:  Mr. Watanabe  ->  None\n",
      "Output:  Watanabe  ->  None\n"
     ]
    }
   ],
   "source": [
    "pattern = r'[A-Z]{1}[a-z]*\\sWatanabe'\n",
    "res = re.compile(pattern)\n",
    "for i in ['Haruto Watanabe','Alice Watanabe','RoboCop Watanabe','haruto Watanabe','Mr. Watanabe','Watanabe']:\n",
    "    print('Output: ',i,' -> ',res.search(i))"
   ]
  },
  {
   "cell_type": "markdown",
   "id": "c7135769",
   "metadata": {},
   "source": [
    "### 21. How would you write a regex that matches a sentence where the first word is either Alice, Bob, or Carol; the second word is either eats, pets, or throws; the third word is apples, cats, or baseballs; and the sentence ends with a period? This regex should be case-insensitive. It must match the following:\n",
    "### 'Alice eats apples.'\n",
    "### 'Bob pets cats.'\n",
    "### 'Carol throws baseballs.'\n",
    "### 'Alice throws Apples.'\n",
    "### 'BOB EATS CATS.'\n",
    "### but not the following:\n",
    "### 'RoboCop eats apples.'\n",
    "### 'ALICE THROWS FOOTBALLS.'\n",
    "### 'Carol eats 7 cats.'\n",
    "\n",
    "#### Solution :-"
   ]
  },
  {
   "cell_type": "code",
   "execution_count": 9,
   "id": "5ab2ad5f",
   "metadata": {},
   "outputs": [
    {
     "name": "stdout",
     "output_type": "stream",
     "text": [
      "Output:  Alice eats apples.  ->  <re.Match object; span=(0, 18), match='Alice eats apples.'>\n",
      "Output:  Bob pets cats.  ->  <re.Match object; span=(0, 14), match='Bob pets cats.'>\n",
      "Output:  Carol throws baseballs.  ->  <re.Match object; span=(0, 23), match='Carol throws baseballs.'>\n",
      "Output:  Alice throws Apples.  ->  <re.Match object; span=(0, 20), match='Alice throws Apples.'>\n",
      "Output:  BOB EATS CATS.  ->  <re.Match object; span=(0, 14), match='BOB EATS CATS.'>\n",
      "Output:  RoboCop eats apples.  ->  None\n",
      "Output:  ALICE THROWS FOOTBALLS.  ->  None\n",
      "Output:  Carol eats 7 cats.  ->  None\n"
     ]
    }
   ],
   "source": [
    "pattern = r'(Alice|Bob|Carol)\\s(eats|pets|throws)\\s(apples|cats|baseballs)\\.'\n",
    "res = re.compile(pattern,re.IGNORECASE)\n",
    "for i in ['Alice eats apples.','Bob pets cats.','Carol throws baseballs.','Alice throws Apples.','BOB EATS CATS.','RoboCop eats apples.'\n",
    ",'ALICE THROWS FOOTBALLS.','Carol eats 7 cats.']:\n",
    "    print('Output: ',i,' -> ',res.search(i))"
   ]
  }
 ],
 "metadata": {
  "kernelspec": {
   "display_name": "Python 3 (ipykernel)",
   "language": "python",
   "name": "python3"
  },
  "language_info": {
   "codemirror_mode": {
    "name": "ipython",
    "version": 3
   },
   "file_extension": ".py",
   "mimetype": "text/x-python",
   "name": "python",
   "nbconvert_exporter": "python",
   "pygments_lexer": "ipython3",
   "version": "3.9.7"
  }
 },
 "nbformat": 4,
 "nbformat_minor": 5
}
