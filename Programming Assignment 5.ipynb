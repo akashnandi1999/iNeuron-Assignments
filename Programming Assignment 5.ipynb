{
 "cells": [
  {
   "cell_type": "markdown",
   "id": "4e80aae7",
   "metadata": {},
   "source": [
    "## Programming Assignment 5\n",
    "\n",
    "## - by Akash Nandi"
   ]
  },
  {
   "cell_type": "markdown",
   "id": "276b0b80",
   "metadata": {},
   "source": [
    "#### 1. Write a Python Program to Find LCM?\n",
    "\n",
    "#### Solution :-"
   ]
  },
  {
   "cell_type": "code",
   "execution_count": 2,
   "id": "7c06766d",
   "metadata": {},
   "outputs": [
    {
     "name": "stdout",
     "output_type": "stream",
     "text": [
      "Enter 1st Number: 23\n",
      "Enter 2nd Number: 34\n",
      "\n",
      "\n",
      "The LCM of 23 and 34 = 782\n"
     ]
    }
   ],
   "source": [
    "num1 = int(input(\"Enter 1st Number: \"))\n",
    "num2 = int(input(\"Enter 2nd Number: \"))\n",
    "\n",
    "if num1 < num2:\n",
    "    great_num = num1\n",
    "else:\n",
    "    great_num = num2\n",
    "    \n",
    "while 1:\n",
    "    if (great_num%num1 == 0) and (great_num%num2 == 0):\n",
    "        lcm = great_num\n",
    "        break\n",
    "    great_num+=1\n",
    "\n",
    "print(\"\\n\")\n",
    "print(f\"The LCM of {num1} and {num2} = {lcm}\")"
   ]
  },
  {
   "cell_type": "markdown",
   "id": "50f25f81",
   "metadata": {},
   "source": [
    "#### 2. Write a Python Program to Find HCF?\n",
    "\n",
    "#### Solution :-"
   ]
  },
  {
   "cell_type": "code",
   "execution_count": 7,
   "id": "173ff432",
   "metadata": {},
   "outputs": [
    {
     "name": "stdout",
     "output_type": "stream",
     "text": [
      "Enter 1st Number: 34\n",
      "Enter 2nd Number: 112\n",
      "\n",
      "\n",
      "The HCF of 34 and 112 = 2\n"
     ]
    }
   ],
   "source": [
    "num1 = int(input(\"Enter 1st Number: \"))\n",
    "num2 = int(input(\"Enter 2nd Number: \"))\n",
    "\n",
    "if num2 < num1:\n",
    "    small_num = num2\n",
    "else:\n",
    "    small_num = num1\n",
    "    \n",
    "for i in range(1, small_num+1):\n",
    "    if num1%i == 0 and num2%i == 0:\n",
    "        hcf = i\n",
    "        \n",
    "print(\"\\n\")\n",
    "print(f\"The HCF of {num1} and {num2} = {hcf}\")"
   ]
  },
  {
   "cell_type": "markdown",
   "id": "b66fbc83",
   "metadata": {},
   "source": [
    "#### 3. Write a Python Program to Convert Decimal to Binary, Octal and Hexadecimal?\n",
    "\n",
    "#### Solution :-"
   ]
  },
  {
   "cell_type": "code",
   "execution_count": 13,
   "id": "64f2116a",
   "metadata": {},
   "outputs": [
    {
     "name": "stdout",
     "output_type": "stream",
     "text": [
      "Enter a number: 23\n",
      "The Binary form of 23 = 0b10111\n",
      "The Octal form of 23 = 0o27\n",
      "The Hexadecimal form of 23 = 0x17\n"
     ]
    }
   ],
   "source": [
    "number = int(input(\"Enter a number: \"))\n",
    "\n",
    "print(f\"The Binary form of {number} = {bin(number)}\")\n",
    "print(f\"The Octal form of {number} = {oct(number)}\")\n",
    "print(f\"The Hexadecimal form of {number} = {hex(number)}\")"
   ]
  },
  {
   "cell_type": "markdown",
   "id": "0c0f2062",
   "metadata": {},
   "source": [
    "#### 4. Write a Python Program To Find ASCII value of a character?\n",
    "\n",
    "#### Solution :-"
   ]
  },
  {
   "cell_type": "code",
   "execution_count": 17,
   "id": "284a3ded",
   "metadata": {},
   "outputs": [
    {
     "name": "stdout",
     "output_type": "stream",
     "text": [
      "Enter a character: A\n",
      "The ASCII value of A = 65\n"
     ]
    }
   ],
   "source": [
    "char = input(\"Enter a character: \")\n",
    "\n",
    "print(f\"The ASCII value of {char} = {ord(char)}\")"
   ]
  },
  {
   "cell_type": "markdown",
   "id": "1801dcf5",
   "metadata": {},
   "source": [
    "#### 5. Write a Python Program to Make a Simple Calculator with 4 basic mathematical operations?\n",
    "\n",
    "#### Solution :-"
   ]
  },
  {
   "cell_type": "code",
   "execution_count": 23,
   "id": "1598a5d5",
   "metadata": {},
   "outputs": [
    {
     "name": "stdout",
     "output_type": "stream",
     "text": [
      "Enter 1st Number: 34\n",
      "Enter 2nd Number: 4\n",
      "Enter the Mathematical Operand: /\n",
      "\n",
      "\n",
      "34/4 = 8.5\n"
     ]
    }
   ],
   "source": [
    "num1 = int(input(\"Enter 1st Number: \"))\n",
    "num2 = int(input(\"Enter 2nd Number: \"))\n",
    "\n",
    "ch = input(\"Enter the Mathematical Operand: \")\n",
    "\n",
    "print(\"\\n\")\n",
    "\n",
    "if ch == \"+\":\n",
    "    print(f\"{num1}{ch}{num2} = {num1+num2}\")\n",
    "elif ch == \"-\":\n",
    "    print(f\"{num1}{ch}{num2} = {num1-num2}\")\n",
    "elif ch == \"*\":\n",
    "    print(f\"{num1}{ch}{num2} = {num1*num2}\")\n",
    "elif ch == \"/\":\n",
    "    print(f\"{num1}{ch}{num2} = {num1/num2}\")\n",
    "else:\n",
    "    print(\"Invalid Mathematical Operand\")"
   ]
  }
 ],
 "metadata": {
  "kernelspec": {
   "display_name": "Python 3 (ipykernel)",
   "language": "python",
   "name": "python3"
  },
  "language_info": {
   "codemirror_mode": {
    "name": "ipython",
    "version": 3
   },
   "file_extension": ".py",
   "mimetype": "text/x-python",
   "name": "python",
   "nbconvert_exporter": "python",
   "pygments_lexer": "ipython3",
   "version": "3.9.7"
  }
 },
 "nbformat": 4,
 "nbformat_minor": 5
}
