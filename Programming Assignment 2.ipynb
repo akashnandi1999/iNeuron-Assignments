{
 "cells": [
  {
   "cell_type": "markdown",
   "id": "ba6f8755",
   "metadata": {},
   "source": [
    "## Programming Assignment-2\n",
    "\n",
    "## -by Akash Nandi"
   ]
  },
  {
   "cell_type": "markdown",
   "id": "07a1db47",
   "metadata": {},
   "source": [
    "#### Q-1. Write a Python program to convert kilometers to miles.\n",
    "\n",
    "#### Solution:-"
   ]
  },
  {
   "cell_type": "code",
   "execution_count": 32,
   "id": "2b9f73f9",
   "metadata": {},
   "outputs": [
    {
     "name": "stdout",
     "output_type": "stream",
     "text": [
      "Enter the kilometer to convert: 2\n",
      "2.000 km = 1.243 miles\n"
     ]
    }
   ],
   "source": [
    "km = float(input(\"Enter the kilometer to convert: \"))\n",
    "\n",
    "mile = km * 0.621371\n",
    "\n",
    "print('%0.3f km = %0.3f miles' %(km,mile))"
   ]
  },
  {
   "cell_type": "markdown",
   "id": "e31e4787",
   "metadata": {},
   "source": [
    "#### Q-2. Write a Python program to convert Celsius to Fahrenheit.\n",
    "\n",
    "#### Solution:-"
   ]
  },
  {
   "cell_type": "code",
   "execution_count": 11,
   "id": "1f2ab63c",
   "metadata": {},
   "outputs": [
    {
     "name": "stdout",
     "output_type": "stream",
     "text": [
      "Enter temperature in celcius: 23\n",
      "23.00 celsius = 73.40 fahrenheit\n"
     ]
    }
   ],
   "source": [
    "cel = float(input(\"Enter temperature in celcius: \"))\n",
    "\n",
    "fht = (cel*1.8)+32\n",
    "\n",
    "print(\"%0.2f celsius = %0.2f fahrenheit\" %(cel,fht))"
   ]
  },
  {
   "cell_type": "markdown",
   "id": "94a6bf1e",
   "metadata": {},
   "source": [
    "#### Q-3. Write a Python program to display calendar?\n",
    "\n",
    "#### Solution:-"
   ]
  },
  {
   "cell_type": "code",
   "execution_count": 18,
   "id": "2561603d",
   "metadata": {},
   "outputs": [
    {
     "name": "stdout",
     "output_type": "stream",
     "text": [
      "Enter a year: 2022\n",
      "The Calendar for the year 2022 is: \n",
      "                                   2022\n",
      "\n",
      "      January                   February                   March\n",
      "Mo Tu We Th Fr Sa Su      Mo Tu We Th Fr Sa Su      Mo Tu We Th Fr Sa Su\n",
      "                1  2          1  2  3  4  5  6          1  2  3  4  5  6\n",
      " 3  4  5  6  7  8  9       7  8  9 10 11 12 13       7  8  9 10 11 12 13\n",
      "10 11 12 13 14 15 16      14 15 16 17 18 19 20      14 15 16 17 18 19 20\n",
      "17 18 19 20 21 22 23      21 22 23 24 25 26 27      21 22 23 24 25 26 27\n",
      "24 25 26 27 28 29 30      28                        28 29 30 31\n",
      "31\n",
      "\n",
      "       April                      May                       June\n",
      "Mo Tu We Th Fr Sa Su      Mo Tu We Th Fr Sa Su      Mo Tu We Th Fr Sa Su\n",
      "             1  2  3                         1             1  2  3  4  5\n",
      " 4  5  6  7  8  9 10       2  3  4  5  6  7  8       6  7  8  9 10 11 12\n",
      "11 12 13 14 15 16 17       9 10 11 12 13 14 15      13 14 15 16 17 18 19\n",
      "18 19 20 21 22 23 24      16 17 18 19 20 21 22      20 21 22 23 24 25 26\n",
      "25 26 27 28 29 30         23 24 25 26 27 28 29      27 28 29 30\n",
      "                          30 31\n",
      "\n",
      "        July                     August                  September\n",
      "Mo Tu We Th Fr Sa Su      Mo Tu We Th Fr Sa Su      Mo Tu We Th Fr Sa Su\n",
      "             1  2  3       1  2  3  4  5  6  7                1  2  3  4\n",
      " 4  5  6  7  8  9 10       8  9 10 11 12 13 14       5  6  7  8  9 10 11\n",
      "11 12 13 14 15 16 17      15 16 17 18 19 20 21      12 13 14 15 16 17 18\n",
      "18 19 20 21 22 23 24      22 23 24 25 26 27 28      19 20 21 22 23 24 25\n",
      "25 26 27 28 29 30 31      29 30 31                  26 27 28 29 30\n",
      "\n",
      "      October                   November                  December\n",
      "Mo Tu We Th Fr Sa Su      Mo Tu We Th Fr Sa Su      Mo Tu We Th Fr Sa Su\n",
      "                1  2          1  2  3  4  5  6                1  2  3  4\n",
      " 3  4  5  6  7  8  9       7  8  9 10 11 12 13       5  6  7  8  9 10 11\n",
      "10 11 12 13 14 15 16      14 15 16 17 18 19 20      12 13 14 15 16 17 18\n",
      "17 18 19 20 21 22 23      21 22 23 24 25 26 27      19 20 21 22 23 24 25\n",
      "24 25 26 27 28 29 30      28 29 30                  26 27 28 29 30 31\n",
      "31\n",
      "\n"
     ]
    }
   ],
   "source": [
    "import calendar\n",
    "\n",
    "year = int(input(\"Enter a year: \"))\n",
    "print(\"The Calendar for the year\",year,\"is: \\n\",calendar.calendar(year))"
   ]
  },
  {
   "cell_type": "markdown",
   "id": "cdf63a9b",
   "metadata": {},
   "source": [
    "#### Q-4. Write a Python program to solve quadratic equation?\n",
    "\n",
    "#### Solution:-"
   ]
  },
  {
   "cell_type": "code",
   "execution_count": 35,
   "id": "90e692f2",
   "metadata": {},
   "outputs": [
    {
     "name": "stdout",
     "output_type": "stream",
     "text": [
      "A quadratic equation is in form of a(x^2) + bx + c where a!=0\n",
      "\n",
      "\n",
      "Enter the value of a: 5\n",
      "Enter the value of b: 3\n",
      "Enter the value of c: 2\n",
      "\n",
      "\n",
      "1st Root = (-0.30000000000000004-0.5567764362830021j)\n",
      "2nd Root = (-0.29999999999999993+0.5567764362830021j)\n"
     ]
    }
   ],
   "source": [
    "print(f\"A quadratic equation is in form of a(x^2) + bx + c where a!=0\")\n",
    "print(\"\\n\")\n",
    "a = int(input(\"Enter the value of a: \"))\n",
    "b = int(input(\"Enter the value of b: \"))\n",
    "c = int(input('Enter the value of c: '))\n",
    "print(\"\\n\")\n",
    "\n",
    "d = (b**2)-(4*a*c)\n",
    "\n",
    "if a == 0:\n",
    "    print(\"Invalid Quadratic Equation\")\n",
    "else:\n",
    "    r1 = (-b-(d**0.5))/(2*a)\n",
    "    r2 = (-b+(d**0.5))/(2*a)\n",
    "    print(\"1st Root =\",r1)\n",
    "    print(\"2nd Root =\",r2)"
   ]
  },
  {
   "cell_type": "markdown",
   "id": "b4d02017",
   "metadata": {},
   "source": [
    "#### Q-5. Write a Python program to swap two variables without temp variable?\n",
    "\n",
    "#### Solution:-"
   ]
  },
  {
   "cell_type": "code",
   "execution_count": 31,
   "id": "7c255c47",
   "metadata": {},
   "outputs": [
    {
     "name": "stdout",
     "output_type": "stream",
     "text": [
      "Enter the value of a: 2\n",
      "Enter the value of b: 3\n",
      "\n",
      "\n",
      "Initial value of a = 2\n",
      "Initial value of b = 3\n",
      "\n",
      "\n",
      "After swapping, the value of a = 3\n",
      "After swapping, the value of b = 2\n"
     ]
    }
   ],
   "source": [
    "a = int(input(\"Enter the value of a: \"))\n",
    "b = int(input(\"Enter the value of b: \"))\n",
    "print(\"\\n\")\n",
    "\n",
    "print(\"Initial value of a =\",a)\n",
    "print(\"Initial value of b =\",b)\n",
    "print(\"\\n\")\n",
    "\n",
    "a = a+b\n",
    "b = a-b\n",
    "a = a-b\n",
    "\n",
    "print(\"After swapping, the value of a =\",a)\n",
    "print(\"After swapping, the value of b =\",b)"
   ]
  }
 ],
 "metadata": {
  "kernelspec": {
   "display_name": "Python 3 (ipykernel)",
   "language": "python",
   "name": "python3"
  },
  "language_info": {
   "codemirror_mode": {
    "name": "ipython",
    "version": 3
   },
   "file_extension": ".py",
   "mimetype": "text/x-python",
   "name": "python",
   "nbconvert_exporter": "python",
   "pygments_lexer": "ipython3",
   "version": "3.9.7"
  }
 },
 "nbformat": 4,
 "nbformat_minor": 5
}
